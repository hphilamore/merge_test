{
 "cells": [
  {
   "cell_type": "code",
   "execution_count": 1,
   "metadata": {
    "collapsed": false
   },
   "outputs": [
    {
     "name": "stdout",
     "output_type": "stream",
     "text": [
      "/home/hemma/gdrive/Code/PycharmProjects/trophallaxis_model/output_data/Data.07-02-2016_00_25_05_JST/Data.07-02-2016_11_29_02_JST.csv\n",
      "/home/hemma/gdrive/Code/PycharmProjects/trophallaxis_model/output_data/Data.07-02-2016_11_29_02_JST/Data.07-02-2016_11_29_02_JST.csv\n",
      "/home/hemma/gdrive/Code/PycharmProjects/trophallaxis_model/output_data/Data.07-02-2016_00_25_05_JST/Data.07-02-2016_11_29_02_JST.csv\n",
      "/home/hemma/gdrive/Code/PycharmProjects/trophallaxis_model/output_data/Data.07-02-2016_11_29_02_JST/Data.07-02-2016_11_29_02_JST.csv\n",
      "/home/hemma/gdrive/Code/PycharmProjects/trophallaxis_model/output_data/Data.07-02-2016_11_29_36_JST/Data.07-02-2016_11_29_36_JST.csv\n",
      "/home/hemma/gdrive/Code/PycharmProjects/trophallaxis_model/output_data/Data.07-02-2016_11_30_04_JST/Data.07-02-2016_11_30_04_JST.csv\n",
      "/home/hemma/gdrive/Code/PycharmProjects/trophallaxis_model/output_data/Data.07-02-2016_11_41_40_JST/Data.07-02-2016_11_41_40_JST.csv\n",
      "/home/hemma/gdrive/Code/PycharmProjects/trophallaxis_model/output_data/Data.07-02-2016_11_52_38_JST/Data.07-02-2016_11_52_38_JST.csv\n",
      "/home/hemma/gdrive/Code/PycharmProjects/trophallaxis_model/output_data/Data.07-02-2016_11_59_33_JST/Data.07-02-2016_11_59_33_JST.csv\n",
      "/home/hemma/gdrive/Code/PycharmProjects/trophallaxis_model/output_data/Data.07-02-2016_12_03_01_JST/Data.07-02-2016_12_03_01_JST.csv\n",
      "/home/hemma/gdrive/Code/PycharmProjects/trophallaxis_model/output_data/Data.07-02-2016_12_03_34_JST/Data.07-02-2016_12_03_34_JST.csv\n",
      "/home/hemma/gdrive/Code/PycharmProjects/trophallaxis_model/output_data/Data.07-02-2016_12_04_13_JST/Data.07-02-2016_12_04_13_JST.csv\n",
      "/home/hemma/gdrive/Code/PycharmProjects/trophallaxis_model/output_data/Data.07-02-2016_12_14_50_JST/Data.07-02-2016_12_14_50_JST.csv\n",
      "/home/hemma/gdrive/Code/PycharmProjects/trophallaxis_model/output_data/Data.07-02-2016_12_28_01_JST/Data.07-02-2016_12_28_01_JST.csv\n",
      "/home/hemma/gdrive/Code/PycharmProjects/trophallaxis_model/output_data/Data.07-02-2016_12_34_24_JST/Data.07-02-2016_12_34_24_JST.csv\n",
      "/home/hemma/gdrive/Code/PycharmProjects/trophallaxis_model/output_data/Data.07-02-2016_12_43_26_JST/Data.07-02-2016_12_43_26_JST.csv\n",
      "/home/hemma/gdrive/Code/PycharmProjects/trophallaxis_model/output_data/Data.07-02-2016_12_45_02_JST/Data.07-02-2016_12_45_02_JST.csv\n",
      "/home/hemma/gdrive/Code/PycharmProjects/trophallaxis_model/output_data/Data.07-02-2016_12_45_16_JST/Data.07-02-2016_12_45_16_JST.csv\n",
      "/home/hemma/gdrive/Code/PycharmProjects/trophallaxis_model/output_data/Data.07-02-2016_12_48_04_JST/Data.07-02-2016_12_48_04_JST.csv\n",
      "/home/hemma/gdrive/Code/PycharmProjects/trophallaxis_model/output_data/Data.07-02-2016_12_48_36_JST/Data.07-02-2016_12_48_36_JST.csv\n",
      "/home/hemma/gdrive/Code/PycharmProjects/trophallaxis_model/output_data/Data.07-02-2016_12_49_56_JST/Data.07-02-2016_12_49_56_JST.csv\n",
      "/home/hemma/gdrive/Code/PycharmProjects/trophallaxis_model/output_data/Data.07-02-2016_13_05_21_JST/Data.07-02-2016_13_05_21_JST.csv\n",
      "/home/hemma/gdrive/Code/PycharmProjects/trophallaxis_model/output_data/Data.07-02-2016_13_14_28_JST/Data.07-02-2016_13_14_28_JST.csv\n",
      "/home/hemma/gdrive/Code/PycharmProjects/trophallaxis_model/output_data/Data.07-02-2016_13_15_36_JST/Data.07-02-2016_13_15_36_JST.csv\n",
      "/home/hemma/gdrive/Code/PycharmProjects/trophallaxis_model/output_data/Data.07-02-2016_13_22_37_JST/Data.07-02-2016_13_22_37_JST.csv\n",
      "/home/hemma/gdrive/Code/PycharmProjects/trophallaxis_model/output_data/Data.07-02-2016_13_25_06_JST/Data.07-02-2016_13_25_06_JST.csv\n",
      "/home/hemma/gdrive/Code/PycharmProjects/trophallaxis_model/output_data/Data.07-02-2016_13_32_03_JST/Data.07-02-2016_13_32_03_JST.csv\n",
      "/home/hemma/gdrive/Code/PycharmProjects/trophallaxis_model/output_data/Data.07-02-2016_13_34_09_JST/Data.07-02-2016_13_34_09_JST.csv\n",
      "/home/hemma/gdrive/Code/PycharmProjects/trophallaxis_model/output_data/Data.07-02-2016_13_35_21_JST/Data.07-02-2016_13_35_21_JST.csv\n",
      "/home/hemma/gdrive/Code/PycharmProjects/trophallaxis_model/output_data/Data.07-02-2016_13_35_43_JST/Data.07-02-2016_13_35_43_JST.csv\n",
      "/home/hemma/gdrive/Code/PycharmProjects/trophallaxis_model/output_data/Data.07-02-2016_13_38_53_JST/Data.07-02-2016_13_38_53_JST.csv\n",
      "/home/hemma/gdrive/Code/PycharmProjects/trophallaxis_model/output_data/Data.07-02-2016_13_41_06_JST/Data.07-02-2016_13_41_06_JST.csv\n",
      "/home/hemma/gdrive/Code/PycharmProjects/trophallaxis_model/output_data/Data.07-02-2016_13_42_53_JST/Data.07-02-2016_13_42_53_JST.csv\n",
      "/home/hemma/gdrive/Code/PycharmProjects/trophallaxis_model/output_data/Data.07-04-2016_13_39_56_JST/Data.07-04-2016_13_39_56_JST.csv\n",
      "/home/hemma/gdrive/Code/PycharmProjects/trophallaxis_model/output_data/Data.07-04-2016_13_41_41_JST/Data.07-04-2016_13_41_41_JST.csv\n"
     ]
    }
   ],
   "source": [
    "import os\n",
    "import csv\n",
    "import numpy as np\n",
    "# from matplotlib import pyplot as plt\n",
    "\n",
    "# First find the data\n",
    "for root, dirs, files in os.walk(\"/home/hemma/gdrive/Code/PycharmProjects/trophallaxis_model/output_data\"):\n",
    "    for file in files:\n",
    "        if file.endswith(\"Data.07-02-2016_11_29_02_JST.csv\"):\n",
    "            print(os.path.join(root, file))\n",
    "            data_location = os.path.join(root, file)\n",
    "\n",
    "# # select the directory 2 steps up from current location\n",
    "target_dir = os.path.sep.join(data_location.split(os.path.sep)[:-2])\n",
    "\n",
    "values = ['total_food_initial', 'total_food_end', 'count', 'e_threshold_benevolent', 'feeding_mode']\n",
    "\n",
    "for root, dirs, files in os.walk(target_dir):\n",
    "    for file in files:\n",
    "        if file.endswith(\"JST.csv\"):\n",
    "            print(os.path.join(root, file))\n",
    "            with open(os.path.join(root, file), \"a\") as myfile:\n",
    "                myfile.write(\"n_food_cells_initial,\")\n",
    "                myfile.write(\"138.0\")"
   ]
  },
  {
   "cell_type": "code",
   "execution_count": null,
   "metadata": {
    "collapsed": true
   },
   "outputs": [],
   "source": []
  }
 ],
 "metadata": {
  "kernelspec": {
   "display_name": "Python 3",
   "language": "python",
   "name": "python3"
  },
  "language_info": {
   "codemirror_mode": {
    "name": "ipython",
    "version": 3
   },
   "file_extension": ".py",
   "mimetype": "text/x-python",
   "name": "python",
   "nbconvert_exporter": "python",
   "pygments_lexer": "ipython3",
   "version": "3.5.1+"
  }
 },
 "nbformat": 4,
 "nbformat_minor": 0
}
