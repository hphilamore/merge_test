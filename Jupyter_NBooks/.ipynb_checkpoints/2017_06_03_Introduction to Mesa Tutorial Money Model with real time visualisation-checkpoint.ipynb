{
 "cells": [
  {
   "cell_type": "code",
   "execution_count": 108,
   "metadata": {
    "collapsed": true
   },
   "outputs": [],
   "source": [
    "from mesa import Agent, Model\n",
    "from mesa.time import RandomActivation\n",
    "from mesa.space import MultiGrid\n",
    "from mesa.datacollection import DataCollector\n",
    "from mesa.batchrunner import BatchRunner\n",
    "\n",
    "import matplotlib.pyplot as plt\n",
    "import random\n",
    "import numpy as np"
   ]
  },
  {
   "cell_type": "code",
   "execution_count": 109,
   "metadata": {
    "collapsed": true
   },
   "outputs": [],
   "source": [
    "def compute_gini(model):\n",
    "    agent_wealths = [agent.wealth for agent in model.schedule.agents]\n",
    "    x = sorted(agent_wealths)\n",
    "    N = model.num_agents\n",
    "    B = sum( xi * (N-i) for i,xi in enumerate(x) ) / (N*sum(x))\n",
    "    return (1 + (1/N) - 2*B)"
   ]
  },
  {
   "cell_type": "code",
   "execution_count": 125,
   "metadata": {
    "collapsed": false
   },
   "outputs": [
    {
     "name": "stderr",
     "output_type": "stream",
     "text": [
      "\n",
      "  0%|          | 0/245 [00:00<?, ?it/s]\u001b[A\n",
      "  4%|▍         | 11/245 [00:00<00:02, 103.81it/s]\u001b[A\n",
      "  9%|▉         | 22/245 [00:00<00:02, 103.44it/s]\u001b[A\n",
      " 12%|█▏        | 29/245 [00:00<00:02, 87.25it/s] \u001b[A\n",
      " 14%|█▍        | 35/245 [00:00<00:02, 75.08it/s]\u001b[A\n",
      " 17%|█▋        | 41/245 [00:00<00:03, 63.65it/s]\u001b[A\n",
      " 19%|█▉        | 47/245 [00:00<00:03, 54.97it/s]\u001b[A\n",
      " 21%|██        | 52/245 [00:00<00:03, 48.61it/s]\u001b[A\n",
      " 23%|██▎       | 57/245 [00:00<00:04, 43.55it/s]\u001b[A\n",
      " 25%|██▌       | 62/245 [00:01<00:04, 39.44it/s]\u001b[A\n",
      " 27%|██▋       | 66/245 [00:01<00:04, 35.90it/s]\u001b[A\n",
      " 29%|██▊       | 70/245 [00:01<00:06, 26.32it/s]\u001b[A\n",
      " 30%|███       | 74/245 [00:01<00:06, 26.77it/s]\u001b[A\n",
      " 31%|███▏      | 77/245 [00:01<00:06, 26.75it/s]\u001b[A\n",
      " 33%|███▎      | 80/245 [00:01<00:06, 26.52it/s]\u001b[A\n",
      " 34%|███▍      | 83/245 [00:02<00:06, 26.03it/s]\u001b[A\n",
      " 35%|███▌      | 86/245 [00:02<00:06, 25.47it/s]\u001b[A\n",
      " 36%|███▋      | 89/245 [00:02<00:06, 24.59it/s]\u001b[A\n",
      " 38%|███▊      | 92/245 [00:02<00:06, 23.82it/s]\u001b[A\n",
      " 39%|███▉      | 95/245 [00:02<00:06, 23.21it/s]\u001b[A\n",
      " 40%|████      | 98/245 [00:02<00:06, 22.50it/s]\u001b[A\n",
      " 41%|████      | 101/245 [00:02<00:06, 21.89it/s]\u001b[A\n",
      " 42%|████▏     | 104/245 [00:02<00:06, 21.27it/s]\u001b[A\n",
      " 44%|████▎     | 107/245 [00:03<00:06, 20.74it/s]\u001b[A\n",
      " 45%|████▍     | 110/245 [00:03<00:06, 20.41it/s]\u001b[A\n",
      " 46%|████▌     | 113/245 [00:03<00:06, 19.94it/s]\u001b[A\n",
      " 47%|████▋     | 116/245 [00:03<00:06, 19.55it/s]\u001b[A\n",
      " 48%|████▊     | 118/245 [00:03<00:06, 19.09it/s]\u001b[A\n",
      " 49%|████▉     | 120/245 [00:03<00:06, 18.67it/s]\u001b[A\n",
      " 50%|████▉     | 122/245 [00:03<00:06, 18.21it/s]\u001b[A\n",
      " 51%|█████     | 124/245 [00:04<00:06, 17.79it/s]\u001b[A\n",
      " 51%|█████▏    | 126/245 [00:04<00:06, 17.24it/s]\u001b[A\n",
      " 52%|█████▏    | 128/245 [00:04<00:07, 16.68it/s]\u001b[A\n",
      " 53%|█████▎    | 130/245 [00:04<00:07, 16.41it/s]\u001b[A\n",
      " 54%|█████▍    | 132/245 [00:04<00:07, 15.94it/s]\u001b[A\n",
      " 55%|█████▍    | 134/245 [00:04<00:07, 15.65it/s]\u001b[A\n",
      " 56%|█████▌    | 136/245 [00:04<00:07, 15.38it/s]\u001b[A\n",
      " 56%|█████▋    | 138/245 [00:04<00:07, 14.90it/s]\u001b[A\n",
      " 57%|█████▋    | 140/245 [00:05<00:07, 14.89it/s]\u001b[A\n",
      " 58%|█████▊    | 142/245 [00:05<00:09, 10.92it/s]\u001b[A\n",
      " 59%|█████▉    | 144/245 [00:05<00:08, 11.71it/s]\u001b[A\n",
      " 60%|█████▉    | 146/245 [00:05<00:08, 12.37it/s]\u001b[A\n",
      " 60%|██████    | 148/245 [00:05<00:07, 12.63it/s]\u001b[A\n",
      " 61%|██████    | 150/245 [00:05<00:07, 12.95it/s]\u001b[A\n",
      " 62%|██████▏   | 152/245 [00:06<00:07, 13.09it/s]\u001b[A\n",
      " 63%|██████▎   | 154/245 [00:06<00:06, 13.19it/s]\u001b[A\n",
      " 64%|██████▎   | 156/245 [00:06<00:06, 13.18it/s]\u001b[A\n",
      " 64%|██████▍   | 158/245 [00:06<00:06, 13.13it/s]\u001b[A\n",
      " 65%|██████▌   | 160/245 [00:06<00:06, 13.04it/s]\u001b[A\n",
      " 66%|██████▌   | 162/245 [00:06<00:06, 12.83it/s]\u001b[A\n",
      " 67%|██████▋   | 164/245 [00:07<00:06, 12.75it/s]\u001b[A\n",
      " 68%|██████▊   | 166/245 [00:07<00:06, 12.62it/s]\u001b[A\n",
      " 69%|██████▊   | 168/245 [00:07<00:06, 12.49it/s]\u001b[A\n",
      " 69%|██████▉   | 170/245 [00:07<00:06, 12.39it/s]\u001b[A\n",
      " 70%|███████   | 172/245 [00:07<00:05, 12.22it/s]\u001b[A\n",
      " 71%|███████   | 174/245 [00:07<00:05, 12.09it/s]\u001b[A\n",
      " 72%|███████▏  | 176/245 [00:08<00:05, 11.98it/s]\u001b[A\n",
      " 73%|███████▎  | 178/245 [00:08<00:05, 11.85it/s]\u001b[A\n",
      " 73%|███████▎  | 180/245 [00:08<00:05, 11.70it/s]\u001b[A\n",
      " 74%|███████▍  | 182/245 [00:08<00:05, 11.43it/s]\u001b[A\n",
      " 75%|███████▌  | 184/245 [00:08<00:06, 10.05it/s]\u001b[A\n",
      " 76%|███████▌  | 186/245 [00:09<00:06,  9.67it/s]\u001b[A\n",
      " 76%|███████▋  | 187/245 [00:09<00:06,  9.07it/s]\u001b[A\n",
      " 77%|███████▋  | 188/245 [00:09<00:06,  8.16it/s]\u001b[A\n",
      " 77%|███████▋  | 189/245 [00:09<00:06,  8.18it/s]\u001b[A\n",
      " 78%|███████▊  | 191/245 [00:09<00:06,  8.93it/s]\u001b[A\n",
      " 78%|███████▊  | 192/245 [00:09<00:05,  9.20it/s]\u001b[A\n",
      " 79%|███████▉  | 193/245 [00:09<00:06,  8.28it/s]\u001b[A\n",
      " 79%|███████▉  | 194/245 [00:10<00:08,  5.79it/s]\u001b[A\n",
      " 80%|███████▉  | 195/245 [00:10<00:08,  6.00it/s]\u001b[A\n",
      " 80%|████████  | 196/245 [00:10<00:07,  6.20it/s]\u001b[A\n",
      " 81%|████████  | 198/245 [00:10<00:06,  7.09it/s]\u001b[A\n",
      " 81%|████████  | 199/245 [00:10<00:06,  7.66it/s]\u001b[A\n",
      " 82%|████████▏ | 201/245 [00:10<00:05,  8.34it/s]\u001b[A\n",
      " 82%|████████▏ | 202/245 [00:11<00:04,  8.62it/s]\u001b[A\n",
      " 83%|████████▎ | 203/245 [00:11<00:04,  8.82it/s]\u001b[A\n",
      " 83%|████████▎ | 204/245 [00:11<00:04,  8.98it/s]\u001b[A\n",
      " 84%|████████▎ | 205/245 [00:11<00:04,  9.09it/s]\u001b[A\n",
      " 84%|████████▍ | 206/245 [00:11<00:04,  8.92it/s]\u001b[A\n",
      " 84%|████████▍ | 207/245 [00:11<00:04,  9.15it/s]\u001b[A\n",
      " 85%|████████▍ | 208/245 [00:11<00:03,  9.36it/s]\u001b[A\n",
      " 85%|████████▌ | 209/245 [00:11<00:03,  9.47it/s]\u001b[A\n",
      " 86%|████████▌ | 210/245 [00:11<00:03,  9.55it/s]\u001b[A\n",
      " 86%|████████▌ | 211/245 [00:12<00:03,  9.57it/s]\u001b[A\n",
      " 87%|████████▋ | 212/245 [00:12<00:03,  9.51it/s]\u001b[A\n",
      " 87%|████████▋ | 213/245 [00:12<00:03,  9.47it/s]\u001b[A\n",
      " 87%|████████▋ | 214/245 [00:12<00:03,  9.44it/s]\u001b[A\n",
      " 88%|████████▊ | 215/245 [00:12<00:03,  8.03it/s]\u001b[A\n",
      " 88%|████████▊ | 216/245 [00:12<00:04,  6.96it/s]\u001b[A\n",
      " 89%|████████▊ | 217/245 [00:12<00:03,  7.26it/s]\u001b[A\n",
      " 89%|████████▉ | 218/245 [00:12<00:03,  7.87it/s]\u001b[A\n",
      " 89%|████████▉ | 219/245 [00:13<00:03,  8.26it/s]\u001b[A\n",
      " 90%|████████▉ | 220/245 [00:13<00:02,  8.71it/s]\u001b[A\n",
      " 90%|█████████ | 221/245 [00:13<00:02,  8.28it/s]\u001b[A\n",
      " 91%|█████████ | 222/245 [00:13<00:03,  7.26it/s]\u001b[A\n",
      " 91%|█████████ | 223/245 [00:13<00:03,  7.19it/s]\u001b[A\n",
      " 91%|█████████▏| 224/245 [00:13<00:02,  7.28it/s]\u001b[A\n",
      " 92%|█████████▏| 225/245 [00:13<00:02,  6.74it/s]\u001b[A\n",
      " 92%|█████████▏| 226/245 [00:14<00:02,  6.94it/s]\u001b[A\n",
      " 93%|█████████▎| 227/245 [00:14<00:02,  6.83it/s]\u001b[A\n",
      " 93%|█████████▎| 228/245 [00:14<00:02,  6.16it/s]\u001b[A\n",
      " 93%|█████████▎| 229/245 [00:14<00:02,  6.84it/s]\u001b[A\n",
      " 94%|█████████▍| 230/245 [00:14<00:02,  7.34it/s]\u001b[A\n",
      " 94%|█████████▍| 231/245 [00:14<00:02,  6.79it/s]\u001b[A\n",
      " 95%|█████████▍| 232/245 [00:14<00:01,  7.15it/s]\u001b[A\n",
      " 95%|█████████▌| 233/245 [00:15<00:01,  7.58it/s]\u001b[A\n",
      " 96%|█████████▌| 234/245 [00:15<00:01,  7.90it/s]\u001b[A\n",
      " 96%|█████████▌| 235/245 [00:15<00:01,  8.02it/s]\u001b[A\n",
      " 96%|█████████▋| 236/245 [00:15<00:01,  8.07it/s]\u001b[A\n",
      " 97%|█████████▋| 237/245 [00:15<00:01,  5.87it/s]\u001b[A\n",
      " 97%|█████████▋| 238/245 [00:15<00:01,  6.41it/s]\u001b[A\n",
      " 98%|█████████▊| 239/245 [00:15<00:00,  6.85it/s]\u001b[A\n",
      " 98%|█████████▊| 240/245 [00:16<00:00,  7.21it/s]\u001b[A\n",
      " 98%|█████████▊| 241/245 [00:16<00:00,  7.44it/s]\u001b[A\n",
      " 99%|█████████▉| 242/245 [00:16<00:00,  7.60it/s]\u001b[A\n",
      " 99%|█████████▉| 243/245 [00:16<00:00,  7.72it/s]\u001b[A\n",
      "100%|█████████▉| 244/245 [00:16<00:00,  7.97it/s]\u001b[A\n",
      "100%|██████████| 245/245 [00:16<00:00,  8.14it/s]\u001b[A\n",
      "\u001b[A"
     ]
    }
   ],
   "source": [
    "# parameters = {\"width\": 10,\n",
    "#               \"height\": 10,\n",
    "#               \"N\": range(10, 500, 10)}\n",
    "\n",
    "# batch_run = BatchRunner(MoneyModel,\n",
    "#                         parameters,\n",
    "#                         iterations=5,\n",
    "#                         max_steps=100,\n",
    "#                         model_reporters={\"Gini\": compute_gini})\n",
    "# batch_run.run_all()"
   ]
  },
  {
   "cell_type": "code",
   "execution_count": 111,
   "metadata": {
    "collapsed": false
   },
   "outputs": [],
   "source": [
    "class MoneyAgent(Agent):\n",
    "    \"\"\"An agent with fixed initial wealth.\"\"\"\n",
    "    def __init__(self, unique_id, model):\n",
    "        super().__init__(unique_id, model)\n",
    "        self.wealth = 1\n",
    "        \n",
    "    def step(self):\n",
    "        # The agent's step will go here.\n",
    "        #print(self.unique_id)\n",
    "        if self.wealth == 0:\n",
    "            return\n",
    "        other_agent = random.choice(self.model.schedule.agents)\n",
    "        other_agent.wealth += 1\n",
    "        self.wealth -= 1\n",
    "        pass    \n",
    "    \n",
    "    def move(self):\n",
    "        possible_steps = self.model.grid.get_neighborhood(\n",
    "        self.pos,\n",
    "        moore=True,\n",
    "        include_center=False)\n",
    "        new_position = random.choice(possible_steps)\n",
    "        self.model.grid.move_agent(self, new_position)\n",
    "        \n",
    "    def give_money(self):\n",
    "        cellmates = self.model.grid.get_cell_list_contents([self.pos])\n",
    "        if len(cellmates) > 1:\n",
    "            other = random.choice(cellmates)\n",
    "            other.wealth += 1\n",
    "            self.wealth -= 1"
   ]
  },
  {
   "cell_type": "code",
   "execution_count": 112,
   "metadata": {
    "collapsed": false
   },
   "outputs": [],
   "source": [
    "class MoneyModel(Model):\n",
    "    \"\"\"A model with some number of agents.\"\"\"\n",
    "    def __init__(self, N, width, height):\n",
    "        self.num_agents = N\n",
    "        self.grid = MultiGrid(width, height, False)\n",
    "        self.schedule = RandomActivation(self)\n",
    "        self.running = True\n",
    "        \n",
    "    # Create agents\n",
    "        for i in range(self.num_agents):\n",
    "            a = MoneyAgent(i, self)\n",
    "            self.schedule.add(a)\n",
    "            \n",
    "            # Add the agent to a random grid cell\n",
    "            x = random.randrange(self.grid.width)\n",
    "            y = random.randrange(self.grid.height)\n",
    "            self.grid.place_agent(a, (x, y))\n",
    "            \n",
    "        self.datacollector = DataCollector(\n",
    "            model_reporters={\"Gini\": compute_gini},\n",
    "            agent_reporters={\"Wealth\": lambda a: a.wealth})\n",
    "            \n",
    "    def step(self):\n",
    "        '''Advance the model by one step.'''\n",
    "        self.datacollector.collect(self)\n",
    "        self.schedule.step()"
   ]
  },
  {
   "cell_type": "code",
   "execution_count": 113,
   "metadata": {
    "collapsed": false
   },
   "outputs": [],
   "source": [
    "empty_model = MoneyModel(10, 10, 10)\n",
    "for i in range(2):\n",
    "    empty_model.step()"
   ]
  },
  {
   "cell_type": "code",
   "execution_count": 114,
   "metadata": {
    "collapsed": true
   },
   "outputs": [],
   "source": [
    "%matplotlib inline"
   ]
  },
  {
   "cell_type": "code",
   "execution_count": 115,
   "metadata": {
    "collapsed": false
   },
   "outputs": [
    {
     "data": {
      "text/plain": [
       "(array([ 3.,  0.,  0.,  5.,  0.,  0.,  1.,  0.,  0.,  1.]),\n",
       " array([ 0. ,  0.3,  0.6,  0.9,  1.2,  1.5,  1.8,  2.1,  2.4,  2.7,  3. ]),\n",
       " <a list of 10 Patch objects>)"
      ]
     },
     "execution_count": 115,
     "metadata": {},
     "output_type": "execute_result"
    },
    {
     "data": {
      "image/png": "[encoded data removed]",
      "text/plain": [
       "<matplotlib.figure.Figure at 0x7f339755a668>"
      ]
     },
     "metadata": {},
     "output_type": "display_data"
    }
   ],
   "source": [
    "agent_wealth = [a.wealth for a in empty_model.schedule.agents]\n",
    "plt.hist(agent_wealth)"
   ]
  },
  {
   "cell_type": "code",
   "execution_count": 116,
   "metadata": {
    "collapsed": false
   },
   "outputs": [
    {
     "data": {
      "text/plain": [
       "(array([ 426.,  305.,  158.,   79.,   23.,    5.,    4.]),\n",
       " array([0, 1, 2, 3, 4, 5, 6, 7]),\n",
       " <a list of 7 Patch objects>)"
      ]
     },
     "execution_count": 116,
     "metadata": {},
     "output_type": "execute_result"
    },
    {
     "data": {
      "image/png": "[encoded data removed]",
      "text/plain": [
       "<matplotlib.figure.Figure at 0x7f339753ce10>"
      ]
     },
     "metadata": {},
     "output_type": "display_data"
    }
   ],
   "source": [
    "all_wealth = []\n",
    "for j in range(100):\n",
    "    \n",
    "    # Run the model\n",
    "    model = MoneyModel(10, 10, 10)\n",
    "    for i in range(10):\n",
    "        model.step()\n",
    "        \n",
    "        # Store the results\n",
    "    for agent in model.schedule.agents:\n",
    "        all_wealth.append(agent.wealth)\n",
    "        \n",
    "plt.hist(all_wealth, bins=range(max(all_wealth)+1))"
   ]
  },
  {
   "cell_type": "code",
   "execution_count": 117,
   "metadata": {
    "collapsed": false
   },
   "outputs": [],
   "source": [
    "model = MoneyModel(50, 10, 10)\n",
    "for i in range(20):\n",
    "    model.step()"
   ]
  },
  {
   "cell_type": "code",
   "execution_count": 118,
   "metadata": {
    "collapsed": false
   },
   "outputs": [
    {
     "data": {
      "text/plain": [
       "<matplotlib.colorbar.Colorbar at 0x7f3398bddac8>"
      ]
     },
     "execution_count": 118,
     "metadata": {},
     "output_type": "execute_result"
    },
    {
     "data": {
      "image/png": "[encoded data removed]",
      "text/plain": [
       "<matplotlib.figure.Figure at 0x7f3397515588>"
      ]
     },
     "metadata": {},
     "output_type": "display_data"
    }
   ],
   "source": [
    "agent_counts = np.zeros((model.grid.width, model.grid.height))\n",
    "for cell in model.grid.coord_iter():\n",
    "    cell_content, x, y = cell\n",
    "    agent_count = len(cell_content)\n",
    "    agent_counts[x][y] = agent_count\n",
    "plt.imshow(agent_counts, interpolation='nearest')\n",
    "plt.colorbar()"
   ]
  },
  {
   "cell_type": "code",
   "execution_count": 119,
   "metadata": {
    "collapsed": false
   },
   "outputs": [
    {
     "name": "stdout",
     "output_type": "stream",
     "text": [
      "      Gini\n",
      "0   0.0000\n",
      "1   0.5616\n",
      "2   0.6352\n",
      "3   0.6416\n",
      "4   0.6136\n",
      "5   0.5880\n",
      "6   0.6088\n",
      "7   0.5512\n",
      "8   0.5960\n",
      "9   0.6264\n",
      "10  0.5864\n",
      "11  0.5112\n",
      "12  0.6280\n",
      "13  0.5928\n",
      "14  0.6112\n",
      "15  0.5928\n",
      "16  0.5400\n",
      "17  0.5432\n",
      "18  0.5888\n",
      "19  0.5936\n"
     ]
    },
    {
     "data": {
      "text/plain": [
       "<matplotlib.axes._subplots.AxesSubplot at 0x7f3398d81908>"
      ]
     },
     "execution_count": 119,
     "metadata": {},
     "output_type": "execute_result"
    },
    {
     "data": {
      "image/png": "[encoded data removed]",
      "text/plain": [
       "<matplotlib.figure.Figure at 0x7f3398b548d0>"
      ]
     },
     "metadata": {},
     "output_type": "display_data"
    }
   ],
   "source": [
    "gini = model.datacollector.get_model_vars_dataframe()\n",
    "print(gini)\n",
    "gini.plot()"
   ]
  },
  {
   "cell_type": "code",
   "execution_count": 120,
   "metadata": {
    "collapsed": false
   },
   "outputs": [
    {
     "data": {
      "text/html": [
       "<div>\n",
       "<style>\n",
       "    .dataframe thead tr:only-child th {\n",
       "        text-align: right;\n",
       "    }\n",
       "\n",
       "    .dataframe thead th {\n",
       "        text-align: left;\n",
       "    }\n",
       "\n",
       "    .dataframe tbody tr th {\n",
       "        vertical-align: top;\n",
       "    }\n",
       "</style>\n",
       "<table border=\"1\" class=\"dataframe\">\n",
       "  <thead>\n",
       "    <tr style=\"text-align: right;\">\n",
       "      <th></th>\n",
       "      <th></th>\n",
       "      <th>Wealth</th>\n",
       "    </tr>\n",
       "    <tr>\n",
       "      <th>Step</th>\n",
       "      <th>AgentID</th>\n",
       "      <th></th>\n",
       "    </tr>\n",
       "  </thead>\n",
       "  <tbody>\n",
       "    <tr>\n",
       "      <th rowspan=\"5\" valign=\"top\">19</th>\n",
       "      <th>45</th>\n",
       "      <td>1</td>\n",
       "    </tr>\n",
       "    <tr>\n",
       "      <th>46</th>\n",
       "      <td>0</td>\n",
       "    </tr>\n",
       "    <tr>\n",
       "      <th>47</th>\n",
       "      <td>0</td>\n",
       "    </tr>\n",
       "    <tr>\n",
       "      <th>48</th>\n",
       "      <td>2</td>\n",
       "    </tr>\n",
       "    <tr>\n",
       "      <th>49</th>\n",
       "      <td>2</td>\n",
       "    </tr>\n",
       "  </tbody>\n",
       "</table>\n",
       "</div>"
      ],
      "text/plain": [
       "              Wealth\n",
       "Step AgentID        \n",
       "19   45            1\n",
       "     46            0\n",
       "     47            0\n",
       "     48            2\n",
       "     49            2"
      ]
     },
     "execution_count": 120,
     "metadata": {},
     "output_type": "execute_result"
    }
   ],
   "source": [
    "agent_wealth = model.datacollector.get_agent_vars_dataframe()\n",
    "agent_wealth.tail()"
   ]
  },
  {
   "cell_type": "code",
   "execution_count": 121,
   "metadata": {
    "collapsed": false
   },
   "outputs": [
    {
     "data": {
      "text/html": [
       "<div>\n",
       "<style>\n",
       "    .dataframe thead tr:only-child th {\n",
       "        text-align: right;\n",
       "    }\n",
       "\n",
       "    .dataframe thead th {\n",
       "        text-align: left;\n",
       "    }\n",
       "\n",
       "    .dataframe tbody tr th {\n",
       "        vertical-align: top;\n",
       "    }\n",
       "</style>\n",
       "<table border=\"1\" class=\"dataframe\">\n",
       "  <thead>\n",
       "    <tr style=\"text-align: right;\">\n",
       "      <th></th>\n",
       "      <th></th>\n",
       "      <th>Wealth</th>\n",
       "    </tr>\n",
       "    <tr>\n",
       "      <th>Step</th>\n",
       "      <th>AgentID</th>\n",
       "      <th></th>\n",
       "    </tr>\n",
       "  </thead>\n",
       "  <tbody>\n",
       "    <tr>\n",
       "      <th rowspan=\"5\" valign=\"top\">0</th>\n",
       "      <th>0</th>\n",
       "      <td>1</td>\n",
       "    </tr>\n",
       "    <tr>\n",
       "      <th>1</th>\n",
       "      <td>1</td>\n",
       "    </tr>\n",
       "    <tr>\n",
       "      <th>2</th>\n",
       "      <td>1</td>\n",
       "    </tr>\n",
       "    <tr>\n",
       "      <th>3</th>\n",
       "      <td>1</td>\n",
       "    </tr>\n",
       "    <tr>\n",
       "      <th>4</th>\n",
       "      <td>1</td>\n",
       "    </tr>\n",
       "  </tbody>\n",
       "</table>\n",
       "</div>"
      ],
      "text/plain": [
       "              Wealth\n",
       "Step AgentID        \n",
       "0    0             1\n",
       "     1             1\n",
       "     2             1\n",
       "     3             1\n",
       "     4             1"
      ]
     },
     "execution_count": 121,
     "metadata": {},
     "output_type": "execute_result"
    }
   ],
   "source": [
    "agent_wealth.head()"
   ]
  },
  {
   "cell_type": "code",
   "execution_count": 122,
   "metadata": {
    "collapsed": false
   },
   "outputs": [],
   "source": [
    "#agent_wealth"
   ]
  },
  {
   "cell_type": "code",
   "execution_count": 123,
   "metadata": {
    "collapsed": false
   },
   "outputs": [
    {
     "data": {
      "text/plain": [
       "<matplotlib.axes._subplots.AxesSubplot at 0x7f33974ebfd0>"
      ]
     },
     "execution_count": 123,
     "metadata": {},
     "output_type": "execute_result"
    },
    {
     "data": {
      "image/png": "[encoded data removed]",
      "text/plain": [
       "<matplotlib.figure.Figure at 0x7f3397501518>"
      ]
     },
     "metadata": {},
     "output_type": "display_data"
    }
   ],
   "source": [
    "#to plot the wealth of a given agent (in this example, agent 14):\n",
    "one_agent_wealth = agent_wealth.xs(14, level=\"AgentID\")\n",
    "one_agent_wealth.Wealth.plot()"
   ]
  },
  {
   "cell_type": "code",
   "execution_count": 124,
   "metadata": {
    "collapsed": false
   },
   "outputs": [
    {
     "data": {
      "text/plain": [
       "<matplotlib.axes._subplots.AxesSubplot at 0x7f3398c4ac50>"
      ]
     },
     "execution_count": 124,
     "metadata": {},
     "output_type": "execute_result"
    },
    {
     "data": {
      "image/png": "[encoded data removed]",
      "text/plain": [
       "<matplotlib.figure.Figure at 0x7f3398f4d1d0>"
      ]
     },
     "metadata": {},
     "output_type": "display_data"
    }
   ],
   "source": [
    "# to get a histogram of agent wealth at the model’s end\n",
    "end_wealth = agent_wealth.xs(19, level=\"Step\")[\"Wealth\"]\n",
    "end_wealth.hist(bins=range(agent_wealth.Wealth.max()+1))"
   ]
  },
  {
   "cell_type": "code",
   "execution_count": 126,
   "metadata": {
    "collapsed": false
   },
   "outputs": [
    {
     "name": "stderr",
     "output_type": "stream",
     "text": [
      "\n",
      "  0%|          | 0/245 [00:00<?, ?it/s]\u001b[A\n",
      "  4%|▍         | 11/245 [00:00<00:02, 103.05it/s]\u001b[A\n",
      "  9%|▊         | 21/245 [00:00<00:02, 101.69it/s]\u001b[A\n",
      " 11%|█         | 27/245 [00:00<00:02, 79.75it/s] \u001b[A\n",
      " 13%|█▎        | 33/245 [00:00<00:02, 72.04it/s]\u001b[A\n",
      " 16%|█▌        | 39/245 [00:00<00:03, 64.86it/s]\u001b[A\n",
      " 18%|█▊        | 45/245 [00:00<00:03, 58.03it/s]\u001b[A\n",
      " 21%|██        | 51/245 [00:00<00:03, 51.48it/s]\u001b[A\n",
      " 23%|██▎       | 56/245 [00:00<00:04, 46.21it/s]\u001b[A\n",
      " 25%|██▍       | 61/245 [00:01<00:04, 42.08it/s]\u001b[A\n",
      " 27%|██▋       | 66/245 [00:01<00:04, 37.84it/s]\u001b[A\n",
      " 29%|██▊       | 70/245 [00:01<00:05, 34.47it/s]\u001b[A\n",
      " 30%|███       | 74/245 [00:01<00:05, 31.92it/s]\u001b[A\n",
      " 32%|███▏      | 78/245 [00:01<00:05, 29.98it/s]\u001b[A\n",
      " 33%|███▎      | 82/245 [00:01<00:05, 28.41it/s]\u001b[A\n",
      " 35%|███▍      | 85/245 [00:02<00:06, 24.03it/s]\u001b[A\n",
      " 36%|███▌      | 88/245 [00:02<00:06, 23.64it/s]\u001b[A\n",
      " 37%|███▋      | 91/245 [00:02<00:06, 23.68it/s]\u001b[A\n",
      " 38%|███▊      | 94/245 [00:02<00:06, 22.96it/s]\u001b[A\n",
      " 40%|███▉      | 97/245 [00:02<00:06, 22.09it/s]\u001b[A\n",
      " 41%|████      | 100/245 [00:02<00:10, 13.77it/s]\u001b[A\n",
      " 42%|████▏     | 102/245 [00:03<00:09, 15.12it/s]\u001b[A\n",
      " 42%|████▏     | 104/245 [00:03<00:09, 15.10it/s]\u001b[A\n",
      " 43%|████▎     | 106/245 [00:03<00:09, 14.93it/s]\u001b[A\n",
      " 44%|████▍     | 108/245 [00:03<00:08, 15.98it/s]\u001b[A\n",
      " 45%|████▍     | 110/245 [00:03<00:08, 16.66it/s]\u001b[A\n",
      " 46%|████▌     | 112/245 [00:03<00:07, 16.82it/s]\u001b[A\n",
      " 47%|████▋     | 114/245 [00:03<00:07, 17.55it/s]\u001b[A\n",
      " 47%|████▋     | 116/245 [00:03<00:07, 17.66it/s]\u001b[A\n",
      " 48%|████▊     | 118/245 [00:03<00:07, 18.01it/s]\u001b[A\n",
      " 49%|████▉     | 120/245 [00:04<00:06, 17.92it/s]\u001b[A\n",
      " 50%|████▉     | 122/245 [00:04<00:06, 17.94it/s]\u001b[A\n",
      " 51%|█████     | 124/245 [00:04<00:06, 17.45it/s]\u001b[A\n",
      " 51%|█████▏    | 126/245 [00:04<00:07, 16.89it/s]\u001b[A\n",
      " 52%|█████▏    | 128/245 [00:04<00:07, 16.01it/s]\u001b[A\n",
      " 53%|█████▎    | 130/245 [00:04<00:07, 15.79it/s]\u001b[A\n",
      " 54%|█████▍    | 132/245 [00:04<00:07, 15.29it/s]\u001b[A\n",
      " 55%|█████▍    | 134/245 [00:05<00:07, 15.23it/s]\u001b[A\n",
      " 56%|█████▌    | 136/245 [00:05<00:07, 14.80it/s]\u001b[A\n",
      " 56%|█████▋    | 138/245 [00:05<00:07, 14.75it/s]\u001b[A\n",
      " 57%|█████▋    | 140/245 [00:05<00:07, 13.77it/s]\u001b[A\n",
      " 58%|█████▊    | 142/245 [00:05<00:07, 13.89it/s]\u001b[A\n",
      " 59%|█████▉    | 144/245 [00:05<00:07, 13.53it/s]\u001b[A\n",
      " 60%|█████▉    | 146/245 [00:05<00:07, 13.79it/s]\u001b[A\n",
      " 60%|██████    | 148/245 [00:06<00:07, 13.77it/s]\u001b[A\n",
      " 61%|██████    | 150/245 [00:06<00:06, 13.76it/s]\u001b[A\n",
      " 62%|██████▏   | 152/245 [00:06<00:06, 13.77it/s]\u001b[A\n",
      " 63%|██████▎   | 154/245 [00:06<00:06, 13.60it/s]\u001b[A\n",
      " 64%|██████▎   | 156/245 [00:06<00:06, 13.46it/s]\u001b[A\n",
      " 64%|██████▍   | 158/245 [00:06<00:07, 12.09it/s]\u001b[A\n",
      " 65%|██████▌   | 160/245 [00:06<00:06, 12.33it/s]\u001b[A\n",
      " 66%|██████▌   | 162/245 [00:07<00:08,  9.77it/s]\u001b[A\n",
      " 67%|██████▋   | 164/245 [00:07<00:07, 10.45it/s]\u001b[A\n",
      " 68%|██████▊   | 166/245 [00:07<00:07, 10.98it/s]\u001b[A\n",
      " 69%|██████▊   | 168/245 [00:07<00:06, 11.35it/s]\u001b[A\n",
      " 69%|██████▉   | 170/245 [00:07<00:06, 11.62it/s]\u001b[A\n",
      " 70%|███████   | 172/245 [00:08<00:06, 11.73it/s]\u001b[A\n",
      " 71%|███████   | 174/245 [00:08<00:06, 11.58it/s]\u001b[A\n",
      " 72%|███████▏  | 176/245 [00:08<00:06, 11.45it/s]\u001b[A\n",
      " 73%|███████▎  | 178/245 [00:08<00:06, 11.14it/s]\u001b[A\n",
      " 73%|███████▎  | 180/245 [00:08<00:05, 11.08it/s]\u001b[A\n",
      " 74%|███████▍  | 182/245 [00:09<00:05, 11.05it/s]\u001b[A\n",
      " 75%|███████▌  | 184/245 [00:09<00:05, 10.87it/s]\u001b[A\n",
      " 76%|███████▌  | 186/245 [00:09<00:05, 11.07it/s]\u001b[A\n",
      " 77%|███████▋  | 188/245 [00:09<00:05, 11.01it/s]\u001b[A\n",
      " 78%|███████▊  | 190/245 [00:09<00:05, 10.96it/s]\u001b[A\n",
      " 78%|███████▊  | 192/245 [00:09<00:04, 10.84it/s]\u001b[A\n",
      " 79%|███████▉  | 194/245 [00:10<00:04, 10.77it/s]\u001b[A\n",
      " 80%|████████  | 196/245 [00:10<00:04, 10.66it/s]\u001b[A\n",
      " 81%|████████  | 198/245 [00:10<00:04, 10.51it/s]\u001b[A\n",
      " 82%|████████▏ | 200/245 [00:10<00:04, 10.52it/s]\u001b[A\n",
      " 82%|████████▏ | 202/245 [00:10<00:04, 10.45it/s]\u001b[A\n",
      " 83%|████████▎ | 204/245 [00:11<00:03, 10.44it/s]\u001b[A\n",
      " 84%|████████▍ | 206/245 [00:11<00:03, 10.30it/s]\u001b[A\n",
      " 85%|████████▍ | 208/245 [00:11<00:03, 10.17it/s]\u001b[A\n",
      " 86%|████████▌ | 210/245 [00:11<00:04,  8.26it/s]\u001b[A\n",
      " 86%|████████▌ | 211/245 [00:11<00:04,  8.50it/s]\u001b[A\n",
      " 87%|████████▋ | 212/245 [00:12<00:03,  8.80it/s]\u001b[A\n",
      " 87%|████████▋ | 213/245 [00:12<00:03,  8.92it/s]\u001b[A\n",
      " 87%|████████▋ | 214/245 [00:12<00:03,  8.96it/s]\u001b[A\n",
      " 88%|████████▊ | 215/245 [00:12<00:03,  9.14it/s]\u001b[A\n",
      " 88%|████████▊ | 216/245 [00:12<00:03,  9.19it/s]\u001b[A\n",
      " 89%|████████▊ | 217/245 [00:12<00:03,  9.30it/s]\u001b[A\n",
      " 89%|████████▉ | 218/245 [00:12<00:02,  9.37it/s]\u001b[A\n",
      " 89%|████████▉ | 219/245 [00:12<00:02,  9.26it/s]\u001b[A\n",
      " 90%|████████▉ | 220/245 [00:12<00:02,  9.32it/s]\u001b[A\n",
      " 90%|█████████ | 221/245 [00:13<00:02,  9.16it/s]\u001b[A\n",
      " 91%|█████████ | 222/245 [00:13<00:02,  9.15it/s]\u001b[A\n",
      " 91%|█████████ | 223/245 [00:13<00:02,  9.12it/s]\u001b[A\n",
      " 91%|█████████▏| 224/245 [00:13<00:02,  9.12it/s]\u001b[A\n",
      " 92%|█████████▏| 225/245 [00:13<00:02,  9.12it/s]\u001b[A\n",
      " 92%|█████████▏| 226/245 [00:13<00:02,  9.07it/s]\u001b[A\n",
      " 93%|█████████▎| 227/245 [00:13<00:01,  9.10it/s]\u001b[A\n",
      " 93%|█████████▎| 228/245 [00:13<00:01,  9.12it/s]\u001b[A\n",
      " 93%|█████████▎| 229/245 [00:13<00:01,  9.07it/s]\u001b[A\n",
      " 94%|█████████▍| 230/245 [00:14<00:01,  9.09it/s]\u001b[A\n",
      " 94%|█████████▍| 231/245 [00:14<00:01,  9.04it/s]\u001b[A\n",
      " 95%|█████████▍| 232/245 [00:14<00:01,  8.95it/s]\u001b[A\n",
      " 95%|█████████▌| 233/245 [00:14<00:01,  8.94it/s]\u001b[A\n",
      " 96%|█████████▌| 234/245 [00:14<00:01,  8.85it/s]\u001b[A\n",
      " 96%|█████████▌| 235/245 [00:14<00:01,  8.86it/s]\u001b[A\n",
      " 96%|█████████▋| 236/245 [00:14<00:01,  8.81it/s]\u001b[A\n",
      " 97%|█████████▋| 237/245 [00:14<00:00,  8.59it/s]\u001b[A\n",
      " 97%|█████████▋| 238/245 [00:14<00:00,  8.64it/s]\u001b[A\n",
      " 98%|█████████▊| 239/245 [00:15<00:00,  8.61it/s]\u001b[A\n",
      " 98%|█████████▊| 240/245 [00:15<00:00,  8.62it/s]\u001b[A\n",
      " 98%|█████████▊| 241/245 [00:15<00:00,  8.50it/s]\u001b[A\n",
      " 99%|█████████▉| 242/245 [00:15<00:00,  8.42it/s]\u001b[A\n",
      " 99%|█████████▉| 243/245 [00:15<00:00,  8.42it/s]\u001b[A\n",
      "100%|█████████▉| 244/245 [00:15<00:00,  8.45it/s]\u001b[A\n",
      "100%|██████████| 245/245 [00:15<00:00,  8.47it/s]\u001b[A\n",
      "\u001b[A"
     ]
    }
   ],
   "source": [
    "#run 5 instantiations of the model with each number of agents, and to run each for 100 steps. We have it collect the\n",
    "#final Gini coefficient value.\n",
    "\n",
    "parameters = {\"width\": 10,\n",
    "              \"height\": 10,\n",
    "              \"N\": range(10, 500, 10)}\n",
    "\n",
    "batch_run = BatchRunner(MoneyModel,\n",
    "                        parameters,\n",
    "                        iterations=5,\n",
    "                        max_steps=100,\n",
    "                        model_reporters={\"Gini\": compute_gini})\n",
    "batch_run.run_all()"
   ]
  },
  {
   "cell_type": "code",
   "execution_count": 127,
   "metadata": {
    "collapsed": false
   },
   "outputs": [
    {
     "data": {
      "text/plain": [
       "<matplotlib.collections.PathCollection at 0x7f336977f780>"
      ]
     },
     "execution_count": 127,
     "metadata": {},
     "output_type": "execute_result"
    },
    {
     "data": {
      "image/png": "[encoded data removed]",
      "text/plain": [
       "<matplotlib.figure.Figure at 0x7f3397bd5c18>"
      ]
     },
     "metadata": {},
     "output_type": "display_data"
    }
   ],
   "source": [
    "run_data = batch_run.get_model_vars_dataframe()\n",
    "run_data.head()\n",
    "plt.scatter(run_data.N, run_data.Gini)"
   ]
  },
  {
   "cell_type": "code",
   "execution_count": null,
   "metadata": {
    "collapsed": true
   },
   "outputs": [],
   "source": []
  },
  {
   "cell_type": "code",
   "execution_count": null,
   "metadata": {
    "collapsed": true
   },
   "outputs": [],
   "source": []
  }
 ],
 "metadata": {
  "kernelspec": {
   "display_name": "Python 3",
   "language": "python",
   "name": "python3"
  },
  "language_info": {
   "codemirror_mode": {
    "name": "ipython",
    "version": 3
   },
   "file_extension": ".py",
   "mimetype": "text/x-python",
   "name": "python",
   "nbconvert_exporter": "python",
   "pygments_lexer": "ipython3",
   "version": "3.5.2"
  }
 },
 "nbformat": 4,
 "nbformat_minor": 0
}
