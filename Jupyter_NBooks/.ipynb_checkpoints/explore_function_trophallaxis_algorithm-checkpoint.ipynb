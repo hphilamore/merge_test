{
 "cells": [
  {
   "cell_type": "code",
   "execution_count": 2,
   "metadata": {
    "collapsed": false
   },
   "outputs": [],
   "source": [
    "from collections import OrderedDict"
   ]
  },
  {
   "cell_type": "code",
   "execution_count": null,
   "metadata": {
    "collapsed": true
   },
   "outputs": [],
   "source": [
    "# change the operating mode of all connected bots to explore\n",
    "if bot.chain and (bot.e_stored >= world.e_threshold_explore):\n",
    "    bot.chain.connected_bots.operating_mode = \"explore\"\n",
    "    #create a list for that chain called pioneers\n",
    "    bot.chain.pioneers  = [] \n",
    "    \n",
    "    #TODO when a chain is created it has the leader set to None"
   ]
  },
  {
   "cell_type": "markdown",
   "metadata": {},
   "source": [
    "The code that then runs when a bot enters \"explore\" mode"
   ]
  },
  {
   "cell_type": "code",
   "execution_count": null,
   "metadata": {
    "collapsed": true
   },
   "outputs": [],
   "source": [
    "def explore(bot,world):\n",
    "    print(\"EXPLORE MODE\")\n",
    "    \n",
    "    # if no leader has been identified yet, search for empty space to move into\n",
    "    if not bot.chain.leader_identified:\n",
    "        #TODO:sense white space and move # if successfully moved then this bot is the leader - therefore\n",
    "        # bot.chain.pioneers.append(bot)\n",
    "        # bot.chain.leader_identified= True for all bots\n",
    "    \n",
    "    # if a leader has been identified\n",
    "    else: \n",
    "        # if leader (pioneers[0])\n",
    "            # if energy stored of all in chain > 0\n",
    "                # idenitfy white space for bot.chain.pioneers[0] leader to move to:  new_position --> oposite to attched botb\n",
    "                # for all bots in bot.chain.pioneers update position:\n",
    "                #[bota, botb, botc, botd]\n",
    "                #[new_position, posa, posb, posc]\n",
    "                # update bot map\n",
    "                #update stored energy\n",
    "                # copy bot_map and subtract positions of explorers\n",
    "                # if explorer_map (coordinates about c).any == False\n",
    "                    # stress signal all explorers == True   \n",
    "\n",
    "                    # are there any neighbours (coordinates about d) that are explorers\n",
    "                    # pick one, zero furthest bot in that direction, place a 1 in the empty space\n",
    "                    # update stored energy\n",
    "                    # evaulate the picked one, \n",
    "                    #if explorer_map (coordinates about picked one).any == False\n",
    "                        # stress signal == False\n",
    "                \n",
    "                \n",
    "            \n",
    "        \n",
    "    \n",
    "        \n",
    "        \n",
    "        \n",
    "\n",
    "    # if food found, stop exploring\n",
    "    if bot.e_local_area == 1:\n",
    "        bot.operating_mode = \"store\"\n",
    "        bot.chain.remove_bot(bot)\n",
    "\n",
    "    # if food not found keep exploring\n",
    "    elif bot.e_local_area == 0:\n",
    "        \n",
    "        sensed_bots_locations = bot.sense_bots(world.bot_map)\n",
    "        print(\"sensed bots\", sensed_bots_locations)\n",
    "        # are there bots within sense range? if true...\n",
    "        if sensed_bots_locations:\n",
    "            \n",
    "\n",
    "            for sensed_bot_location in sensed_bots_locations:\n",
    "\n",
    "                for other_bot in bot.bots:\n",
    "                    print(other_bot.position)\n",
    "\n",
    "                    # look up other bot by location\n",
    "                    if other_bot.position == sensed_bot_location:\n",
    "\n",
    "                        # ...and check it is not in the same chain\n",
    "                        if bot.chain != other_bot.chain:\n",
    "                            print(\"\")\n",
    "\n",
    "                            # compare output signals of two bots:\n",
    "                            # if the other bot is hungry, feed it\n",
    "                            if (bot.e_local_area - other_bot.e_local_area and bot.e_local_area == 0):\n",
    "                                print(\"feed hungry bot\")\n",
    "                                bot.feed_hungry_bot(other_bot)\n",
    "\n",
    "                            # if the other bot is full, send relay messgae, abandon chain, move towards food\n",
    "                            elif (bot.e_local_area - other_bot.e_local_area and bot.e_local_area == -1):\n",
    "                                print(\"send relay message to neighbour bots and move towards bot with food\")\n",
    "                                bot.send_relay_signal()\n",
    "                                # split from chain and move towards fed bot\n",
    "                                bot.chain.remove_bot(bot)\n",
    "                                bot.move_towards_fed_bot(other_bot, world)\n",
    "\n",
    "         # if no bots are nearby, has a relay message been received?\n",
    "        else:\n",
    "            print(\"no sensed bots\")\n",
    "            if bot.relay_signal:\n",
    "                bot.move_towards_relay_signal()\n",
    "            bot.relay_signal = None"
   ]
  }
 ],
 "metadata": {
  "kernelspec": {
   "display_name": "Python 3",
   "language": "python",
   "name": "python3"
  },
  "language_info": {
   "codemirror_mode": {
    "name": "ipython",
    "version": 3
   },
   "file_extension": ".py",
   "mimetype": "text/x-python",
   "name": "python",
   "nbconvert_exporter": "python",
   "pygments_lexer": "ipython3",
   "version": "3.5.1+"
  }
 },
 "nbformat": 4,
 "nbformat_minor": 0
}
