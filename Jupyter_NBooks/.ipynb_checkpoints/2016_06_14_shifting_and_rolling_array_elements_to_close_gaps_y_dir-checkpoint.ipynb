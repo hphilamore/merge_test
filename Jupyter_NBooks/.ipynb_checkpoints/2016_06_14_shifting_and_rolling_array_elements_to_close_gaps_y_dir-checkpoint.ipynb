{
 "cells": [
  {
   "cell_type": "markdown",
   "metadata": {},
   "source": []
  },
  {
   "cell_type": "code",
   "execution_count": 272,
   "metadata": {
    "collapsed": true
   },
   "outputs": [],
   "source": [
    "import numpy as np\n",
    "from scipy.ndimage.interpolation import shift\n",
    "from collections import deque, namedtuple"
   ]
  },
  {
   "cell_type": "code",
   "execution_count": 273,
   "metadata": {
    "collapsed": false
   },
   "outputs": [],
   "source": [
    "bot_map = np.array(\n",
    "      [[ 0,  1,  0,  0,  0, 0,  1,  0,  0,  0],\n",
    "       [ 0,  1,  0,  0,  0, 0,  1,  0,  0,  0],\n",
    "       [ 0,  1,  0,  0,  0, 0,  1,  0,  0,  0],\n",
    "       [ 0,  1,  0,  0,  0, 0,  0,  0,  0,  0],\n",
    "       [ 0,  1,  0,  0,  0, 0,  0,  0,  0,  0],\n",
    "       [ 0,  1,  0,  0,  0, 0,  0,  0,  0,  0],\n",
    "       [ 0,  1,  0,  0,  0, 0,  1,  0,  0,  0],\n",
    "       [ 0,  1,  0,  0,  0, 0,  1,  0,  0,  0],\n",
    "       [ 0,  1,  0,  0,  0, 0,  0,  0,  0,  0],\n",
    "       [ 0,  1,  0,  0,  0, 0,  1,  0,  0,  0]])\n",
    "\n",
    "explorer_bot_map = np.array(\n",
    "      [[ 0,  1,  0,  0,  0, 0,  1,  0,  0,  0],\n",
    "       [ 0,  1,  0,  0,  0, 0,  1,  0,  0,  0],\n",
    "       [ 0,  1,  0,  0,  0, 0,  1,  0,  0,  0],\n",
    "       [ 0,  1,  0,  0,  0, 0,  0,  0,  0,  0],\n",
    "       [ 0,  1,  0,  0,  0, 0,  0,  0,  0,  0],\n",
    "       [ 0,  1,  0,  0,  0, 0,  0,  0,  0,  0],\n",
    "       [ 0,  1,  0,  0,  0, 0,  1,  0,  0,  0],\n",
    "       [ 0,  1,  0,  0,  0, 0,  1,  0,  0,  0],\n",
    "       [ 0,  1,  0,  0,  0, 0,  0,  0,  0,  0],\n",
    "       [ 0,  1,  0,  0,  0, 0,  1,  0,  0,  0]])"
   ]
  },
  {
   "cell_type": "code",
   "execution_count": 274,
   "metadata": {
    "collapsed": false
   },
   "outputs": [
    {
     "data": {
      "text/plain": [
       "[(-1, -1), (-1, 0), (-1, 1), (0, 1), (1, 1), (1, 0), (1, -1), (0, -1)]"
      ]
     },
     "execution_count": 274,
     "metadata": {},
     "output_type": "execute_result"
    }
   ],
   "source": [
    "neighbours = [(-1, -1), (-1, 0), (-1, 1), (0, 1), (1, 1), (1, 0),\n",
    "                      (1, -1), (0, -1)]\n",
    "neighbours"
   ]
  },
  {
   "cell_type": "code",
   "execution_count": 275,
   "metadata": {
    "collapsed": true
   },
   "outputs": [],
   "source": [
    "Location = namedtuple(\"Location\", (\"x\", \"y\"))"
   ]
  },
  {
   "cell_type": "code",
   "execution_count": 276,
   "metadata": {
    "collapsed": true
   },
   "outputs": [],
   "source": [
    "tail = Location(6,6)\n",
    "x, y = tail.x, tail.y\n",
    "recruit_range = 5"
   ]
  },
  {
   "cell_type": "markdown",
   "metadata": {},
   "source": [
    "y direction"
   ]
  },
  {
   "cell_type": "code",
   "execution_count": 277,
   "metadata": {
    "collapsed": false
   },
   "outputs": [
    {
     "name": "stdout",
     "output_type": "stream",
     "text": [
      "1\n",
      "[1 0 1]\n"
     ]
    }
   ],
   "source": [
    "# examine the horizontal and vertical gridspace around the cell using nx and ny to determine if direction is +ve or \n",
    "#-ve.\n",
    "\n",
    "for ny, nx in neighbours[4:5]: # ny = 1\n",
    "#for ny, nx in neighbours[0:1]: # ny = -1\n",
    "    if ny:\n",
    "        print(ny)\n",
    "        # near_bots = self.bot_map[y, x + nx: x + nx + (\n",
    "        #                 nx * BOT_DEFAULTS[\"recruit_range\"]): nx]\n",
    "        start_point = y + ny\n",
    "        end_point =  np.clip(y + ny + (ny * recruit_range) ,0, len(bot_map[0]))\n",
    "        direction = ny\n",
    "        \n",
    "#       near_bots = bot_map[y, x + nx: x + nx + (nx * recruit_range): nx]\n",
    "        near_bots = bot_map[:,x][start_point : end_point : direction]\n",
    "        print(near_bots)"
   ]
  },
  {
   "cell_type": "code",
   "execution_count": 278,
   "metadata": {
    "collapsed": false
   },
   "outputs": [
    {
     "name": "stdout",
     "output_type": "stream",
     "text": [
      "[1, 0]\n",
      "[0, 1]\n"
     ]
    }
   ],
   "source": [
    "_near_bots = list(near_bots[:-1])\n",
    "_near_bots_offset = list(near_bots[1:])\n",
    "print(_near_bots)\n",
    "print(_near_bots_offset)"
   ]
  },
  {
   "cell_type": "markdown",
   "metadata": {},
   "source": [
    "The indices of transition points between occupied and unoccupied cells:\n",
    "Indices of first cells in transition pairs \"_near_bots.index(i)\"\n",
    "\n",
    "Indices of second cells in transition pairs \"_near_bots.index(i)+1\"\n",
    "\n",
    "Indices used to dervice address of second cell in transition pair relative to bot \"_near_bots.index(i)+2\""
   ]
  },
  {
   "cell_type": "code",
   "execution_count": 279,
   "metadata": {
    "collapsed": false
   },
   "outputs": [
    {
     "data": {
      "text/plain": [
       "array([[2]])"
      ]
     },
     "execution_count": 279,
     "metadata": {},
     "output_type": "execute_result"
    }
   ],
   "source": [
    "# transition_points = [_near_bots.index(i)+2 for i,j in zip(_near_bots, _near_bots_offset) if i != j]  \n",
    "transition_points = np.argwhere(_near_bots!=_near_bots_offset)+2\n",
    "transition_points"
   ]
  },
  {
   "cell_type": "code",
   "execution_count": 280,
   "metadata": {
    "collapsed": false
   },
   "outputs": [
    {
     "data": {
      "text/plain": [
       "1"
      ]
     },
     "execution_count": 280,
     "metadata": {},
     "output_type": "execute_result"
    }
   ],
   "source": [
    "_near_bots[0]"
   ]
  },
  {
   "cell_type": "code",
   "execution_count": 281,
   "metadata": {
    "collapsed": false
   },
   "outputs": [
    {
     "data": {
      "text/plain": [
       "array([[1]])"
      ]
     },
     "execution_count": 281,
     "metadata": {},
     "output_type": "execute_result"
    }
   ],
   "source": [
    "# shift_distance = [_near_bots.index(i)+1 for i,j in zip(_near_bots, _near_bots_offset) if i != j][0]\n",
    "shift_distance = (np.argwhere(_near_bots!=_near_bots_offset) + 1)\n",
    "shift_distance"
   ]
  },
  {
   "cell_type": "markdown",
   "metadata": {},
   "source": [
    "Construct a new map showing only explorer bots not in relay chains. \n",
    "For now we will use the map of all explorer bots. \n",
    "Check the index of the first trasnition point is occupied by a bot:"
   ]
  },
  {
   "cell_type": "code",
   "execution_count": 282,
   "metadata": {
    "collapsed": false
   },
   "outputs": [],
   "source": [
    "if explorer_bot_map[:,x][y + ny*transition_points[0]]:\n",
    "    print(explorer_bot_map[:,x][y + ny * transition_points[0]])                        "
   ]
  },
  {
   "cell_type": "markdown",
   "metadata": {},
   "source": [
    "If the first transition cell is occupied by a recruitable explorer bot, repeat the scan to find all transition points on the new map."
   ]
  },
  {
   "cell_type": "code",
   "execution_count": 283,
   "metadata": {
    "collapsed": false
   },
   "outputs": [
    {
     "name": "stdout",
     "output_type": "stream",
     "text": [
      "[0 0 0]\n"
     ]
    },
    {
     "data": {
      "text/plain": [
       "array([], shape=(0, 1), dtype=int64)"
      ]
     },
     "execution_count": 283,
     "metadata": {},
     "output_type": "execute_result"
    }
   ],
   "source": [
    "    near_bots = explorer_bot_map[y, start_point : end_point : direction]\n",
    "    #near_bots = explorer_bot_map[y, end_point : start_point : direction]\n",
    "    print(near_bots)\n",
    "    _near_bots = near_bots[:-1]\n",
    "    _near_bots_offset = near_bots[1:]\n",
    "    transition_points = np.argwhere(_near_bots!=_near_bots_offset) + 2\n",
    "    transition_points"
   ]
  },
  {
   "cell_type": "markdown",
   "metadata": {},
   "source": [
    "Check for a second transition back to unoccupied space within the sense range.\n",
    "If not transition back to unoccupied space occurs, default to the last cell in the sense window:"
   ]
  },
  {
   "cell_type": "code",
   "execution_count": 284,
   "metadata": {
    "collapsed": false
   },
   "outputs": [
    {
     "data": {
      "text/plain": [
       "3"
      ]
     },
     "execution_count": 284,
     "metadata": {},
     "output_type": "execute_result"
    }
   ],
   "source": [
    "    try:\n",
    "        last_bot = transition_points[1]\n",
    "    except IndexError:\n",
    "        last_bot = len(near_bots)\n",
    "    last_bot"
   ]
  },
  {
   "cell_type": "code",
   "execution_count": 285,
   "metadata": {
    "collapsed": true
   },
   "outputs": [],
   "source": [
    "last_bot += 1"
   ]
  },
  {
   "cell_type": "code",
   "execution_count": 286,
   "metadata": {
    "collapsed": false
   },
   "outputs": [],
   "source": [
    "bot_map = np.array(\n",
    "      [[ 0,  1,  0,  0,  0, 0,  1,  0,  0,  0],\n",
    "       [ 0,  1,  0,  0,  0, 0,  1,  0,  0,  0],\n",
    "       [ 0,  1,  0,  0,  0, 0,  1,  0,  0,  0],\n",
    "       [ 0,  1,  0,  0,  0, 0,  0,  0,  0,  0],\n",
    "       [ 0,  1,  0,  0,  0, 0,  0,  0,  0,  0],\n",
    "       [ 0,  1,  0,  0,  0, 0,  0,  0,  0,  0],\n",
    "       [ 0,  1,  0,  0,  0, 0,  1,  0,  0,  0],\n",
    "       [ 0,  1,  0,  0,  0, 0,  1,  0,  0,  0],\n",
    "       [ 0,  1,  0,  0,  0, 0,  0,  0,  0,  0],\n",
    "       [ 0,  1,  0,  0,  0, 0,  1,  0,  0,  0]])"
   ]
  },
  {
   "cell_type": "code",
   "execution_count": 287,
   "metadata": {
    "collapsed": false
   },
   "outputs": [
    {
     "name": "stdout",
     "output_type": "stream",
     "text": [
      "[[1]]\n",
      "1\n",
      "[1 0 1]\n",
      "[0 1 0]\n"
     ]
    }
   ],
   "source": [
    "#     start_point = y + ny\n",
    "#     end_point = y + ny + (last_bot * ny)\n",
    "\n",
    "#     if ny == 1:\n",
    "#         print(ny)\n",
    "#         print(bot_map[:,x][start_point: end_point]) \n",
    "#         bot_map[:,x][start_point: end_point] = shift(bot_map[:,x][start_point: end_point],\n",
    "#                                                    shift_distance * -ny)\n",
    "#         print( bot_map[:,x][start_point: end_point]) \n",
    "                                                  \n",
    "#     elif ny == -1:\n",
    "#         print(ny)\n",
    "#         print(bot_map[:,x][end_point: start_point])             \n",
    "#         bot_map[:,x][end_point: start_point] = shift(bot_map[:,x][end_point: start_point], \n",
    "#                                                    shift_distance * -ny)\n",
    "        \n",
    "#         print(bot_map[:x][end_point: start_point])\n",
    "\n",
    "\n",
    "start_point = y + ny\n",
    "end_point = np.clip(y + ny + (last_bot * ny), 0, len(bot_map[0]))\n",
    "print(shift_distance)\n",
    "\n",
    "if ny == 1:\n",
    "    print(ny)\n",
    "    print(bot_map[:,x][start_point: end_point]) \n",
    "\n",
    "    bot_map[:,x][start_point: end_point] = shift(bot_map[:,x][start_point: end_point: direction],\n",
    "                                               shift_distance * -ny)        \n",
    "    print(bot_map[:,x][start_point: end_point]) \n",
    "\n",
    "elif ny == -1:  \n",
    "    print(ny)\n",
    "    print(bot_map[:,x][start_point : end_point : direction])\n",
    "\n",
    "    bot_map[:,x][start_point : end_point : direction] = shift(bot_map[:,x][start_point : end_point : direction], \n",
    "                                                + shift_distance * ny)\n",
    "\n",
    "    print(bot_map[:,x][start_point : end_point : direction])"
   ]
  },
  {
   "cell_type": "code",
   "execution_count": 288,
   "metadata": {
    "collapsed": false
   },
   "outputs": [
    {
     "data": {
      "text/plain": [
       "array([[0, 1, 0, 0, 0, 0, 1, 0, 0, 0],\n",
       "       [0, 1, 0, 0, 0, 0, 1, 0, 0, 0],\n",
       "       [0, 1, 0, 0, 0, 0, 1, 0, 0, 0],\n",
       "       [0, 1, 0, 0, 0, 0, 0, 0, 0, 0],\n",
       "       [0, 1, 0, 0, 0, 0, 0, 0, 0, 0],\n",
       "       [0, 1, 0, 0, 0, 0, 0, 0, 0, 0],\n",
       "       [0, 1, 0, 0, 0, 0, 1, 0, 0, 0],\n",
       "       [0, 1, 0, 0, 0, 0, 0, 0, 0, 0],\n",
       "       [0, 1, 0, 0, 0, 0, 1, 0, 0, 0],\n",
       "       [0, 1, 0, 0, 0, 0, 0, 0, 0, 0]])"
      ]
     },
     "execution_count": 288,
     "metadata": {},
     "output_type": "execute_result"
    }
   ],
   "source": [
    "bot_map"
   ]
  },
  {
   "cell_type": "code",
   "execution_count": null,
   "metadata": {
    "collapsed": true
   },
   "outputs": [],
   "source": []
  }
 ],
 "metadata": {
  "kernelspec": {
   "display_name": "Python 3",
   "language": "python",
   "name": "python3"
  },
  "language_info": {
   "codemirror_mode": {
    "name": "ipython",
    "version": 3
   },
   "file_extension": ".py",
   "mimetype": "text/x-python",
   "name": "python",
   "nbconvert_exporter": "python",
   "pygments_lexer": "ipython3",
   "version": "3.5.1+"
  }
 },
 "nbformat": 4,
 "nbformat_minor": 0
}
