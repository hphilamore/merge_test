{
 "cells": [
  {
   "cell_type": "markdown",
   "metadata": {},
   "source": [
    "http://stackoverflow.com/questions/22775371/how-to-iterate-through-a-numpy-array-and-select-neighboring-cells"
   ]
  },
  {
   "cell_type": "code",
   "execution_count": 22,
   "metadata": {
    "collapsed": false
   },
   "outputs": [
    {
     "data": {
      "text/plain": [
       "array([[1, 1, 1, 0, 0, 0],\n",
       "       [1, 1, 0, 1, 0, 0],\n",
       "       [1, 0, 0, 0, 1, 1]])"
      ]
     },
     "execution_count": 22,
     "metadata": {},
     "output_type": "execute_result"
    }
   ],
   "source": [
    "import numpy as np\n",
    "\n",
    "z = '''33 33 33 37 38 37 43 40\n",
    "33 33 33 38 38 38 44 40\n",
    "36 36 36 36 38 39 44 41\n",
    "35 36 35 35 34 30 40 41\n",
    "36 36 35 35 34 30 30 41\n",
    "38 38 35 35 34 30 30 41'''\n",
    "\n",
    "z = np.array([[int(i) for i in line.split()] for line in z.splitlines()])\n",
    "\n",
    "z = np.array([[1,1,1,0,0,0],[1,1,0,1,0,0],[1,0,0,0,1,1]])\n",
    "\n",
    "z"
   ]
  },
  {
   "cell_type": "code",
   "execution_count": 23,
   "metadata": {
    "collapsed": false
   },
   "outputs": [
    {
     "data": {
      "text/plain": [
       "array([[ True,  True,  True, False, False, False],\n",
       "       [ True,  True, False,  True, False, False],\n",
       "       [ True, False, False, False,  True,  True]], dtype=bool)"
      ]
     },
     "execution_count": 23,
     "metadata": {},
     "output_type": "execute_result"
    }
   ],
   "source": [
    "neighbours = [(-1,-1), (-1,0), (-1,1), (0,1), (1,1), (1,0), (1,-1), (0,-1)]\n",
    "mask = np.zeros_like(z, dtype = bool)\n",
    "stack = [(1,1)] # push start coordinate on stack\n",
    "mask\n",
    "\n",
    "while stack:\n",
    "    x, y = stack.pop()\n",
    "    mask[x, y] = True\n",
    "    for dx, dy in neighbours:\n",
    "        nx, ny = x + dx, y + dy\n",
    "        if (0 <= nx < z.shape[0] and 0 <= ny < z.shape[1] \n",
    "            and not mask[nx, ny] and abs(z[nx, ny] - z[x, y]) < 1):\n",
    "            stack.append((nx, ny))\n",
    "mask"
   ]
  },
  {
   "cell_type": "code",
   "execution_count": null,
   "metadata": {
    "collapsed": true
   },
   "outputs": [],
   "source": []
  }
 ],
 "metadata": {
  "kernelspec": {
   "display_name": "Python 3",
   "language": "python",
   "name": "python3"
  },
  "language_info": {
   "codemirror_mode": {
    "name": "ipython",
    "version": 3
   },
   "file_extension": ".py",
   "mimetype": "text/x-python",
   "name": "python",
   "nbconvert_exporter": "python",
   "pygments_lexer": "ipython3",
   "version": "3.5.1+"
  }
 },
 "nbformat": 4,
 "nbformat_minor": 0
}
