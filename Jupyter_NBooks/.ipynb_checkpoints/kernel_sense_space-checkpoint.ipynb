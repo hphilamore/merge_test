{
 "cells": [
  {
   "cell_type": "code",
   "execution_count": 15,
   "metadata": {
    "collapsed": false
   },
   "outputs": [],
   "source": [
    "import numpy as np\n",
    "import random\n",
    "from collections import namedtuple\n",
    "Location = namedtuple(\"Location\", (\"x\", \"y\"))\n",
    "\n"
   ]
  },
  {
   "cell_type": "markdown",
   "metadata": {},
   "source": [
    "Generate the bot map"
   ]
  },
  {
   "cell_type": "code",
   "execution_count": 16,
   "metadata": {
    "collapsed": false
   },
   "outputs": [
    {
     "data": {
      "text/plain": [
       "array([[ 0.,  0.,  0.,  0.,  0.,  0.,  0.,  0.,  0.,  0.],\n",
       "       [ 0.,  0.,  0.,  0.,  1.,  0.,  0.,  0.,  0.,  0.],\n",
       "       [ 0.,  0.,  1.,  0.,  1.,  1.,  0.,  0.,  0.,  0.],\n",
       "       [ 0.,  0.,  0.,  0.,  0.,  0.,  0.,  0.,  0.,  0.],\n",
       "       [ 0.,  1.,  0.,  0.,  0.,  0.,  0.,  1.,  0.,  0.],\n",
       "       [ 0.,  1.,  0.,  0.,  0.,  0.,  0.,  0.,  0.,  0.],\n",
       "       [ 0.,  0.,  0.,  0.,  0.,  0.,  0.,  1.,  0.,  0.],\n",
       "       [ 0.,  1.,  0.,  0.,  0.,  0.,  0.,  0.,  0.,  0.],\n",
       "       [ 0.,  0.,  1.,  0.,  0.,  0.,  0.,  0.,  0.,  0.],\n",
       "       [ 0.,  0.,  0.,  0.,  0.,  0.,  0.,  0.,  0.,  0.]])"
      ]
     },
     "execution_count": 16,
     "metadata": {},
     "output_type": "execute_result"
    }
   ],
   "source": [
    "bot_map = np.zeros(100).reshape(10, 10)\n",
    "bots = np.zeros(64)\n",
    "bots[:10] = 1\n",
    "\n",
    "np.random.shuffle(bots)\n",
    "bot_map[1:9, 1:9] += bots.reshape(8, 8)\n",
    "bot_map\n",
    "\n",
    "# full_map = np.zeros(49).reshape(7, 7)\n",
    "# bots = np.zeros(25)\n",
    "# bots[:5] = 1\n",
    "# np.random.shuffle(bots)\n",
    "# full_map[1:6, 1:6] += bots.reshape(5, 5)\n",
    "# full_map\n",
    "\n",
    "# bot_map = np.zeros(100)\n",
    "# bot_map[:10]=1\n",
    "# np.random.shuffle(bot_map)\n",
    "# bot_map = np.reshape(bot_map, (10, 10))\n",
    "# bot_map\n",
    "# print(bot_map)\n",
    "# bot_position = np.nonzero(bot_map)\n",
    "# bot_position\n"
   ]
  },
  {
   "cell_type": "markdown",
   "metadata": {},
   "source": [
    "find all bot positions"
   ]
  },
  {
   "cell_type": "code",
   "execution_count": 17,
   "metadata": {
    "collapsed": false
   },
   "outputs": [
    {
     "name": "stdout",
     "output_type": "stream",
     "text": [
      "(array([1, 2, 2, 2, 4, 4, 5, 6, 7, 8]), array([4, 2, 4, 5, 1, 7, 1, 7, 1, 2]))\n",
      "[[0 1 1 1 3 3 4 5 6 7]\n",
      " [3 1 3 4 0 6 0 6 0 1]]\n"
     ]
    }
   ],
   "source": [
    "bot_position = np.nonzero(bot_map)\n",
    "print(bot_position)\n",
    "\n",
    "bot_position = np.nonzero(bot_map)-np.array([[1],[1]])\n",
    "print(bot_position)"
   ]
  },
  {
   "cell_type": "markdown",
   "metadata": {},
   "source": [
    "The sense kernel"
   ]
  },
  {
   "cell_type": "code",
   "execution_count": 18,
   "metadata": {
    "collapsed": false
   },
   "outputs": [
    {
     "data": {
      "text/plain": [
       "array([[0, 0, 0],\n",
       "       [0, 1, 0],\n",
       "       [0, 0, 0]])"
      ]
     },
     "execution_count": 18,
     "metadata": {},
     "output_type": "execute_result"
    }
   ],
   "source": [
    "kernel = np.array([[0,0,0],[0,1,0],[0,0,0]])\n",
    "kernel"
   ]
  },
  {
   "cell_type": "raw",
   "metadata": {},
   "source": [
    "For each bot position found:\n",
    "-show the window around each bot (neighbours shown as 1s, bot as 0 in centre).\n",
    "-show the global coordinates of the top, left corner of the sense window (i,j)\n",
    "-show the local y,x coordinates of the neighbour\n",
    "-show global y, x coordinates of neighbours "
   ]
  },
  {
   "cell_type": "code",
   "execution_count": 19,
   "metadata": {
    "collapsed": false
   },
   "outputs": [
    {
     "name": "stdout",
     "output_type": "stream",
     "text": [
      "[[ 0.  0.  0.]\n",
      " [ 0.  0.  0.]\n",
      " [ 0.  1.  1.]]\n",
      "0 3\n",
      "(array([0, 0, 0, 1, 1, 1, 2]), array([0, 1, 2, 0, 1, 2, 0]))\n",
      "[[0 0 0 1 1 1 2]\n",
      " [3 4 5 3 4 5 3]]\n",
      "[Location(x=3, y=0), Location(x=4, y=0), Location(x=5, y=0), Location(x=3, y=1), Location(x=4, y=1), Location(x=5, y=1), Location(x=3, y=2)]\n",
      "[[ 0.  1.  0.]\n",
      " [ 0.  0.  1.]\n",
      " [ 0.  0.  0.]]\n",
      "1 3\n",
      "(array([0, 0, 1, 1, 2, 2, 2]), array([0, 2, 0, 1, 0, 1, 2]))\n",
      "[[1 1 2 2 3 3 3]\n",
      " [3 5 3 4 3 4 5]]\n",
      "[Location(x=3, y=1), Location(x=5, y=1), Location(x=3, y=2), Location(x=4, y=2), Location(x=3, y=3), Location(x=4, y=3), Location(x=5, y=3)]\n",
      "[[ 1.  0.  0.]\n",
      " [ 1.  0.  0.]\n",
      " [ 0.  0.  0.]]\n",
      "1 4\n",
      "(array([0, 0, 1, 1, 2, 2, 2]), array([1, 2, 1, 2, 0, 1, 2]))\n",
      "[[1 1 2 2 3 3 3]\n",
      " [5 6 5 6 4 5 6]]\n",
      "[Location(x=5, y=1), Location(x=6, y=1), Location(x=5, y=2), Location(x=6, y=2), Location(x=4, y=3), Location(x=5, y=3), Location(x=6, y=3)]\n",
      "[[ 0.  0.  0.]\n",
      " [ 0.  0.  0.]\n",
      " [ 0.  1.  0.]]\n",
      "3 0\n",
      "(array([0, 0, 0, 1, 1, 1, 2, 2]), array([0, 1, 2, 0, 1, 2, 0, 2]))\n",
      "[[3 3 3 4 4 4 5 5]\n",
      " [0 1 2 0 1 2 0 2]]\n",
      "[Location(x=0, y=3), Location(x=1, y=3), Location(x=2, y=3), Location(x=0, y=4), Location(x=1, y=4), Location(x=2, y=4), Location(x=0, y=5), Location(x=2, y=5)]\n",
      "[[ 0.  1.  0.]\n",
      " [ 0.  0.  0.]\n",
      " [ 0.  0.  0.]]\n",
      "4 0\n",
      "(array([0, 0, 1, 1, 1, 2, 2, 2]), array([0, 2, 0, 1, 2, 0, 1, 2]))\n",
      "[[4 4 5 5 5 6 6 6]\n",
      " [0 2 0 1 2 0 1 2]]\n",
      "[Location(x=0, y=4), Location(x=2, y=4), Location(x=0, y=5), Location(x=1, y=5), Location(x=2, y=5), Location(x=0, y=6), Location(x=1, y=6), Location(x=2, y=6)]\n",
      "[[ 0.  0.  0.]\n",
      " [ 0.  0.  0.]\n",
      " [ 0.  0.  1.]]\n",
      "6 0\n",
      "(array([0, 0, 0, 1, 1, 1, 2, 2]), array([0, 1, 2, 0, 1, 2, 0, 1]))\n",
      "[[6 6 6 7 7 7 8 8]\n",
      " [0 1 2 0 1 2 0 1]]\n",
      "[Location(x=0, y=6), Location(x=1, y=6), Location(x=2, y=6), Location(x=0, y=7), Location(x=1, y=7), Location(x=2, y=7), Location(x=0, y=8), Location(x=1, y=8)]\n",
      "[[ 1.  0.  0.]\n",
      " [ 0.  0.  0.]\n",
      " [ 0.  0.  0.]]\n",
      "7 1\n",
      "(array([0, 0, 1, 1, 1, 2, 2, 2]), array([1, 2, 0, 1, 2, 0, 1, 2]))\n",
      "[[7 7 8 8 8 9 9 9]\n",
      " [2 3 1 2 3 1 2 3]]\n",
      "[Location(x=2, y=7), Location(x=3, y=7), Location(x=1, y=8), Location(x=2, y=8), Location(x=3, y=8), Location(x=1, y=9), Location(x=2, y=9), Location(x=3, y=9)]\n"
     ]
    }
   ],
   "source": [
    "for i, j in zip(*bot_position):\n",
    "    window = np.copy(bot_map[i:i+3, j:j+3])\n",
    "    #print(window)\n",
    "    window = np.copy(bot_map[i:i+3, j:j+3])-kernel\n",
    "    #print(window)\n",
    "    if window.any():\n",
    "        print(window)\n",
    "        #neighbours_local= not np.nonzero(window) --> from sense_bots change to look for empty space, not bots\n",
    "        neighbours_local = np.where(window<1)\n",
    "        print(i, j)\n",
    "        print(neighbours_local)\n",
    "        neighbours_global = neighbours_local + np.array([[i], [j]])\n",
    "        print(neighbours_global)\n",
    "        \n",
    "        # list to store all neighbours\n",
    "        neighbours = []\n",
    "        \n",
    "        for u, v in zip(*neighbours_global):\n",
    "                # print(_neighbours)\n",
    "                # _neighbours = Location(_neighbours[1][0], _neighbours[0][0])\n",
    "                neighbours.append(Location(v, u))\n",
    "                \n",
    "        print(neighbours)        \n"
   ]
  },
  {
   "cell_type": "markdown",
   "metadata": {
    "collapsed": true
   },
   "source": [
    "...but in this case, the positions of all the neighbour spaces are not needed. So pick one at random"
   ]
  },
  {
   "cell_type": "code",
   "execution_count": 31,
   "metadata": {
    "collapsed": false
   },
   "outputs": [
    {
     "name": "stdout",
     "output_type": "stream",
     "text": [
      "[[ 0.  0.  0.]\n",
      " [ 0.  0.  0.]\n",
      " [ 0.  1.  1.]]\n",
      "(array([0, 0, 0, 1, 1, 1, 2]), array([0, 1, 2, 0, 1, 2, 0]))\n",
      "\n",
      "[1 0]\n",
      "0 3\n",
      "[1 3]\n",
      "Location(x=3, y=1)\n",
      "[[ 0.  0.  0.]\n",
      " [ 0.  0.  0.]\n",
      " [ 0.  0.  0.]]\n",
      "(array([0, 0, 0, 1, 1, 1, 2, 2, 2]), array([0, 1, 2, 0, 1, 2, 0, 1, 2]))\n",
      "\n",
      "[0 1]\n",
      "1 1\n",
      "[1 2]\n",
      "Location(x=2, y=1)\n",
      "[[ 0.  1.  0.]\n",
      " [ 0.  0.  1.]\n",
      " [ 0.  0.  0.]]\n",
      "(array([0, 0, 1, 1, 2, 2, 2]), array([0, 2, 0, 1, 0, 1, 2]))\n",
      "\n",
      "[2 1]\n",
      "1 3\n",
      "[3 4]\n",
      "Location(x=4, y=3)\n",
      "[[ 1.  0.  0.]\n",
      " [ 1.  0.  0.]\n",
      " [ 0.  0.  0.]]\n",
      "(array([0, 0, 1, 1, 2, 2, 2]), array([1, 2, 1, 2, 0, 1, 2]))\n",
      "\n",
      "[2 2]\n",
      "1 4\n",
      "[3 6]\n",
      "Location(x=6, y=3)\n",
      "[[ 0.  0.  0.]\n",
      " [ 0.  0.  0.]\n",
      " [ 0.  1.  0.]]\n",
      "(array([0, 0, 0, 1, 1, 1, 2, 2]), array([0, 1, 2, 0, 1, 2, 0, 2]))\n",
      "\n",
      "[1 0]\n",
      "3 0\n",
      "[4 0]\n",
      "Location(x=0, y=4)\n",
      "[[ 0.  0.  0.]\n",
      " [ 0.  0.  0.]\n",
      " [ 0.  0.  0.]]\n",
      "(array([0, 0, 0, 1, 1, 1, 2, 2, 2]), array([0, 1, 2, 0, 1, 2, 0, 1, 2]))\n",
      "\n",
      "[1 0]\n",
      "3 6\n",
      "[4 6]\n",
      "Location(x=6, y=4)\n",
      "[[ 0.  1.  0.]\n",
      " [ 0.  0.  0.]\n",
      " [ 0.  0.  0.]]\n",
      "(array([0, 0, 1, 1, 1, 2, 2, 2]), array([0, 2, 0, 1, 2, 0, 1, 2]))\n",
      "\n",
      "[1 0]\n",
      "4 0\n",
      "[5 0]\n",
      "Location(x=0, y=5)\n",
      "[[ 0.  0.  0.]\n",
      " [ 0.  0.  0.]\n",
      " [ 0.  0.  0.]]\n",
      "(array([0, 0, 0, 1, 1, 1, 2, 2, 2]), array([0, 1, 2, 0, 1, 2, 0, 1, 2]))\n",
      "\n",
      "[0 1]\n",
      "5 6\n",
      "[5 7]\n",
      "Location(x=7, y=5)\n",
      "[[ 0.  0.  0.]\n",
      " [ 0.  0.  0.]\n",
      " [ 0.  0.  1.]]\n",
      "(array([0, 0, 0, 1, 1, 1, 2, 2]), array([0, 1, 2, 0, 1, 2, 0, 1]))\n",
      "\n",
      "[0 0]\n",
      "6 0\n",
      "[6 0]\n",
      "Location(x=0, y=6)\n",
      "[[ 1.  0.  0.]\n",
      " [ 0.  0.  0.]\n",
      " [ 0.  0.  0.]]\n",
      "(array([0, 0, 1, 1, 1, 2, 2, 2]), array([1, 2, 0, 1, 2, 0, 1, 2]))\n",
      "\n",
      "[1 1]\n",
      "7 1\n",
      "[8 2]\n",
      "Location(x=2, y=8)\n"
     ]
    }
   ],
   "source": [
    "for i, j in zip(*bot_position):\n",
    "    window = np.copy(bot_map[i:i+3, j:j+3])\n",
    "\n",
    "    window = np.copy(bot_map[i:i+3, j:j+3])-kernel\n",
    "    #print(window)\n",
    "    # if there are empty spaces....\n",
    "    if np.where(window<1):\n",
    "        print(window)\n",
    "        #neighbours_local= not np.nonzero(window) --> from sense_bots change to look for empty space, not bots\n",
    "        neighbours_local = np.where(window<1)\n",
    "        print(neighbours_local)\n",
    "        print()\n",
    "        \n",
    "        # to return one neighbour only...\n",
    "        # choose one neighbouring space at random\n",
    "        space = random.randint(0,len(neighbours_local[0])-1)\n",
    "        neighbour_local = np.array([neighbours_local[0][space], neighbours_local[1][space]])\n",
    "        neighbour_global = np.array([neighbours_local[0][space]+i, neighbours_local[1][space]+j])\n",
    "#         print(neighbours_global)\n",
    "        print(neighbour_local)\n",
    "        print (i,j)\n",
    "        print(neighbour_global)\n",
    "        neighbour = Location(neighbour_global[1],neighbour_global[0])\n",
    "        print(neighbour) \n",
    "        \n",
    "        \n",
    "        \n",
    "        \n",
    "#         neighbours_global = neighbours_local + np.array([[i], [j]])\n",
    "#         print(neighbours_global)\n",
    "        \n",
    "#         # list to store all neighbours\n",
    "#         neighbours = []\n",
    "        \n",
    "#         for u, v in zip(*neighbours_global):\n",
    "#                 # print(_neighbours)\n",
    "#                 # _neighbours = Location(_neighbours[1][0], _neighbours[0][0])\n",
    "#                 neighbours.append(Location(v, u))\n",
    "                \n",
    "#         print(neighbours)        \n"
   ]
  },
  {
   "cell_type": "code",
   "execution_count": null,
   "metadata": {
    "collapsed": true
   },
   "outputs": [],
   "source": []
  }
 ],
 "metadata": {
  "kernelspec": {
   "display_name": "Python 3",
   "language": "python",
   "name": "python3"
  },
  "language_info": {
   "codemirror_mode": {
    "name": "ipython",
    "version": 3
   },
   "file_extension": ".py",
   "mimetype": "text/x-python",
   "name": "python",
   "nbconvert_exporter": "python",
   "pygments_lexer": "ipython3",
   "version": "3.5.1+"
  }
 },
 "nbformat": 4,
 "nbformat_minor": 0
}
