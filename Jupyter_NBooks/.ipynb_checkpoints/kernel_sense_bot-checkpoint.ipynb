{
 "cells": [
  {
   "cell_type": "code",
   "execution_count": 7,
   "metadata": {
    "collapsed": false
   },
   "outputs": [],
   "source": [
    "import numpy as np\n",
    "from collections import namedtuple\n",
    "Location = namedtuple(\"Location\", (\"x\", \"y\"))\n",
    "\n"
   ]
  },
  {
   "cell_type": "markdown",
   "metadata": {},
   "source": [
    "Generate the bot map"
   ]
  },
  {
   "cell_type": "code",
   "execution_count": 8,
   "metadata": {
    "collapsed": false
   },
   "outputs": [
    {
     "data": {
      "text/plain": [
       "array([[ 0.,  0.,  0.,  0.,  0.,  0.,  0.,  0.,  0.,  0.],\n",
       "       [ 0.,  0.,  0.,  0.,  0.,  0.,  0.,  0.,  0.,  0.],\n",
       "       [ 0.,  0.,  0.,  0.,  0.,  0.,  0.,  1.,  0.,  0.],\n",
       "       [ 0.,  0.,  0.,  1.,  0.,  0.,  0.,  0.,  0.,  0.],\n",
       "       [ 0.,  0.,  0.,  0.,  0.,  0.,  1.,  0.,  0.,  0.],\n",
       "       [ 0.,  1.,  1.,  0.,  0.,  0.,  1.,  1.,  0.,  0.],\n",
       "       [ 0.,  0.,  1.,  0.,  0.,  0.,  0.,  0.,  0.,  0.],\n",
       "       [ 0.,  0.,  1.,  0.,  0.,  0.,  0.,  1.,  0.,  0.],\n",
       "       [ 0.,  0.,  0.,  0.,  0.,  0.,  0.,  0.,  0.,  0.],\n",
       "       [ 0.,  0.,  0.,  0.,  0.,  0.,  0.,  0.,  0.,  0.]])"
      ]
     },
     "execution_count": 8,
     "metadata": {},
     "output_type": "execute_result"
    }
   ],
   "source": [
    "bot_map = np.zeros(100).reshape(10, 10)\n",
    "bots = np.zeros(64)\n",
    "bots[:10] = 1\n",
    "\n",
    "np.random.shuffle(bots)\n",
    "bot_map[1:9, 1:9] += bots.reshape(8, 8)\n",
    "bot_map\n",
    "\n",
    "# full_map = np.zeros(49).reshape(7, 7)\n",
    "# bots = np.zeros(25)\n",
    "# bots[:5] = 1\n",
    "# np.random.shuffle(bots)\n",
    "# full_map[1:6, 1:6] += bots.reshape(5, 5)\n",
    "# full_map\n",
    "\n",
    "# bot_map = np.zeros(100)\n",
    "# bot_map[:10]=1\n",
    "# np.random.shuffle(bot_map)\n",
    "# bot_map = np.reshape(bot_map, (10, 10))\n",
    "# bot_map\n",
    "# print(bot_map)\n",
    "# bot_position = np.nonzero(bot_map)\n",
    "# bot_position\n"
   ]
  },
  {
   "cell_type": "markdown",
   "metadata": {},
   "source": [
    "find all bot positions"
   ]
  },
  {
   "cell_type": "code",
   "execution_count": 9,
   "metadata": {
    "collapsed": false
   },
   "outputs": [
    {
     "name": "stdout",
     "output_type": "stream",
     "text": [
      "(array([2, 3, 4, 5, 5, 5, 5, 6, 7, 7]), array([7, 3, 6, 1, 2, 6, 7, 2, 2, 7]))\n",
      "[[1 2 3 4 4 4 4 5 6 6]\n",
      " [6 2 5 0 1 5 6 1 1 6]]\n"
     ]
    }
   ],
   "source": [
    "bot_position = np.nonzero(bot_map)\n",
    "print(bot_position)\n",
    "\n",
    "bot_position = np.nonzero(bot_map)-np.array([[1],[1]])\n",
    "print(bot_position)"
   ]
  },
  {
   "cell_type": "markdown",
   "metadata": {},
   "source": [
    "The sense kernel"
   ]
  },
  {
   "cell_type": "code",
   "execution_count": 10,
   "metadata": {
    "collapsed": false
   },
   "outputs": [
    {
     "data": {
      "text/plain": [
       "array([[0, 0, 0],\n",
       "       [0, 1, 0],\n",
       "       [0, 0, 0]])"
      ]
     },
     "execution_count": 10,
     "metadata": {},
     "output_type": "execute_result"
    }
   ],
   "source": [
    "kernel = np.array([[0,0,0],[0,1,0],[0,0,0]])\n",
    "kernel"
   ]
  },
  {
   "cell_type": "raw",
   "metadata": {},
   "source": [
    "For each bot position found:\n",
    "-show the window around each bot (neighbours shown as 1s, bot as 0 in centre).\n",
    "-show the global coordinates of the top, left corner of the sense window (i,j)\n",
    "-show the local y,x coordinates of the neighbour\n",
    "-show global y, x coordinates of neighbours "
   ]
  },
  {
   "cell_type": "code",
   "execution_count": 13,
   "metadata": {
    "collapsed": false
   },
   "outputs": [
    {
     "name": "stdout",
     "output_type": "stream",
     "text": [
      "[[ 0.  0.  0.]\n",
      " [ 0.  0.  0.]\n",
      " [ 0.  1.  1.]]\n",
      "3 5\n",
      "(array([2, 2]), array([1, 2]))\n",
      "[[5 5]\n",
      " [6 7]]\n",
      "[Location(x=6, y=5), Location(x=7, y=5)]\n",
      "[[ 0.  0.  0.]\n",
      " [ 0.  0.  1.]\n",
      " [ 0.  0.  1.]]\n",
      "4 0\n",
      "(array([1, 2]), array([2, 2]))\n",
      "[[5 6]\n",
      " [2 2]]\n",
      "[Location(x=2, y=5), Location(x=2, y=6)]\n",
      "[[ 0.  0.  0.]\n",
      " [ 1.  0.  0.]\n",
      " [ 0.  1.  0.]]\n",
      "4 1\n",
      "(array([1, 2]), array([0, 1]))\n",
      "[[5 6]\n",
      " [1 2]]\n",
      "[Location(x=1, y=5), Location(x=2, y=6)]\n",
      "[[ 0.  1.  0.]\n",
      " [ 0.  0.  1.]\n",
      " [ 0.  0.  0.]]\n",
      "4 5\n",
      "(array([0, 1]), array([1, 2]))\n",
      "[[4 5]\n",
      " [6 7]]\n",
      "[Location(x=6, y=4), Location(x=7, y=5)]\n",
      "[[ 1.  0.  0.]\n",
      " [ 1.  0.  0.]\n",
      " [ 0.  0.  0.]]\n",
      "4 6\n",
      "(array([0, 1]), array([0, 0]))\n",
      "[[4 5]\n",
      " [6 6]]\n",
      "[Location(x=6, y=4), Location(x=6, y=5)]\n",
      "[[ 1.  1.  0.]\n",
      " [ 0.  0.  0.]\n",
      " [ 0.  1.  0.]]\n",
      "5 1\n",
      "(array([0, 0, 2]), array([0, 1, 1]))\n",
      "[[5 5 7]\n",
      " [1 2 2]]\n",
      "[Location(x=1, y=5), Location(x=2, y=5), Location(x=2, y=7)]\n",
      "[[ 0.  1.  0.]\n",
      " [ 0.  0.  0.]\n",
      " [ 0.  0.  0.]]\n",
      "6 1\n",
      "(array([0]), array([1]))\n",
      "[[6]\n",
      " [2]]\n",
      "[Location(x=2, y=6)]\n"
     ]
    }
   ],
   "source": [
    "for i, j in zip(*bot_position):\n",
    "    window = np.copy(bot_map[i:i+3, j:j+3])\n",
    "    #print(window)\n",
    "    window = np.copy(bot_map[i:i+3, j:j+3])-kernel\n",
    "    #print(window)\n",
    "    if window.any():\n",
    "        print(window)\n",
    "        neighbours_local= np.nonzero(window)\n",
    "        print(i, j)\n",
    "        print(neighbours_local)\n",
    "        neighbours_global = neighbours_local + np.array([[i], [j]])\n",
    "        print(neighbours_global)\n",
    "        \n",
    "        # list to store all neighbours\n",
    "        neighbours = []\n",
    "        \n",
    "        for u, v in zip(*neighbours_global):\n",
    "            \n",
    "                neighbours.append(Location(v, u))\n",
    "                \n",
    "        print(neighbours)\n",
    "        \n",
    "#         for u, v in zip(*n):\n",
    "#             print(Location(j+v, i+u))\n",
    "            \n",
    "            \n",
    "    #bot_map[i:i+3, j:j+3] -= kernel\n",
    "    #print(((bot_map[i:i+3, j:j+3])-= kernel).any())\n",
    "#     if((bot_map[i:i+3, j:j+3]).any()):\n",
    "#          print(bot_map[i:i+3, j:j+3])\n",
    "#     bot_map[i:i+3, j:j+3] += kernel\n"
   ]
  },
  {
   "cell_type": "code",
   "execution_count": null,
   "metadata": {
    "collapsed": true
   },
   "outputs": [],
   "source": []
  },
  {
   "cell_type": "code",
   "execution_count": null,
   "metadata": {
    "collapsed": true
   },
   "outputs": [],
   "source": []
  }
 ],
 "metadata": {
  "kernelspec": {
   "display_name": "Python 3",
   "language": "python",
   "name": "python3"
  },
  "language_info": {
   "codemirror_mode": {
    "name": "ipython",
    "version": 3
   },
   "file_extension": ".py",
   "mimetype": "text/x-python",
   "name": "python",
   "nbconvert_exporter": "python",
   "pygments_lexer": "ipython3",
   "version": "3.5.1+"
  }
 },
 "nbformat": 4,
 "nbformat_minor": 0
}
