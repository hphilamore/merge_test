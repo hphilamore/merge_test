{
 "cells": [
  {
   "cell_type": "code",
   "execution_count": 45,
   "metadata": {
    "collapsed": true
   },
   "outputs": [],
   "source": [
    "import numpy as np\n",
    "from collections import deque, namedtuple"
   ]
  },
  {
   "cell_type": "code",
   "execution_count": 47,
   "metadata": {
    "collapsed": false
   },
   "outputs": [],
   "source": [
    "Location = namedtuple(\"Location\",(\"x\",\"y\"))"
   ]
  },
  {
   "cell_type": "code",
   "execution_count": 48,
   "metadata": {
    "collapsed": false
   },
   "outputs": [
    {
     "data": {
      "text/plain": [
       "array([[ 0.,  0.,  0.,  0.,  0.,  0.,  0.,  0.,  0.,  0.],\n",
       "       [ 0.,  0.,  0.,  0.,  0.,  0.,  0.,  0.,  0.,  0.],\n",
       "       [ 0.,  0.,  0.,  0.,  0.,  0.,  0.,  0.,  0.,  0.],\n",
       "       [ 0.,  0.,  0.,  0.,  0.,  0.,  0.,  0.,  0.,  0.],\n",
       "       [ 0.,  0.,  0.,  0.,  0.,  0.,  0.,  0.,  0.,  0.],\n",
       "       [ 0.,  0.,  0.,  0.,  0.,  0.,  0.,  0.,  0.,  0.],\n",
       "       [ 0.,  0.,  0.,  0.,  0.,  0.,  0.,  0.,  0.,  0.],\n",
       "       [ 0.,  0.,  0.,  0.,  0.,  0.,  0.,  0.,  0.,  0.],\n",
       "       [ 0.,  0.,  0.,  0.,  0.,  0.,  0.,  0.,  0.,  0.],\n",
       "       [ 0.,  0.,  0.,  0.,  0.,  0.,  0.,  0.,  0.,  0.]])"
      ]
     },
     "execution_count": 48,
     "metadata": {},
     "output_type": "execute_result"
    }
   ],
   "source": [
    "bot_map = np.zeros(100).reshape((10,10))\n",
    "bot_map"
   ]
  },
  {
   "cell_type": "code",
   "execution_count": 59,
   "metadata": {
    "collapsed": false
   },
   "outputs": [],
   "source": [
    "class Bot(object):\n",
    " \n",
    "    bots = []\n",
    "\n",
    "    def __init__(self, location):\n",
    "        \n",
    "        self.chain = None\n",
    "        self.location = location\n",
    "        \n",
    "class Chain(object):\n",
    "\n",
    "    chains = []\n",
    "    #chain_maps = []\n",
    "\n",
    "    def __init__(self, connected_bots):\n",
    "        #self.connected_bots = deque(connected_bots)\n",
    "        self.connected_bots = connected_bots\n",
    "        print(self.connected_bots)\n",
    "        self.chain_count = 0        \n",
    "\n",
    "        # assigns the chain id to each bot in the chain,\n",
    "        # adds the first two bots to the chain array\n",
    "        for bot in self.connected_bots:\n",
    "            self.chain_count +=1\n",
    "            bot.chain = self\n",
    "            bot_map[bot.location[::-1]] = self.chain_count\n",
    "            \n",
    "           \n",
    "        self.chains.append(self)"
   ]
  },
  {
   "cell_type": "code",
   "execution_count": 60,
   "metadata": {
    "collapsed": false
   },
   "outputs": [],
   "source": [
    "botA = Bot(Location(2,5))\n",
    "botB = Bot(Location(3,5))\n",
    "botC = Bot(Location(4,4))\n",
    "botD = Bot(Location(1,8))\n",
    "botE = Bot(Location(8,2))\n",
    "botF = Bot(Location(9,1))\n",
    "\n",
    "bots = [botD, botE, botF]"
   ]
  },
  {
   "cell_type": "code",
   "execution_count": 65,
   "metadata": {
    "collapsed": false
   },
   "outputs": [
    {
     "data": {
      "text/plain": [
       "array([[ 0.,  0.,  0.,  0.,  0.,  0.,  0.,  0.,  0.,  0.],\n",
       "       [ 0.,  0.,  0.,  0.,  0.,  0.,  0.,  0.,  0.,  3.],\n",
       "       [ 0.,  0.,  0.,  0.,  0.,  0.,  0.,  0.,  2.,  0.],\n",
       "       [ 0.,  0.,  0.,  0.,  0.,  0.,  0.,  0.,  0.,  0.],\n",
       "       [ 0.,  0.,  0.,  0.,  0.,  0.,  0.,  0.,  0.,  0.],\n",
       "       [ 0.,  0.,  0.,  0.,  0.,  0.,  0.,  0.,  0.,  0.],\n",
       "       [ 0.,  0.,  0.,  0.,  0.,  0.,  0.,  0.,  0.,  0.],\n",
       "       [ 0.,  0.,  0.,  0.,  0.,  0.,  0.,  0.,  0.,  0.],\n",
       "       [ 0.,  1.,  0.,  0.,  0.,  0.,  0.,  0.,  0.,  0.],\n",
       "       [ 0.,  0.,  0.,  0.,  0.,  0.,  0.,  0.,  0.,  0.]])"
      ]
     },
     "execution_count": 65,
     "metadata": {},
     "output_type": "execute_result"
    }
   ],
   "source": [
    "bot_map\n"
   ]
  },
  {
   "cell_type": "code",
   "execution_count": 51,
   "metadata": {
    "collapsed": false
   },
   "outputs": [],
   "source": [
    "#chain1 = Chain(botA, botB, botC)"
   ]
  },
  {
   "cell_type": "code",
   "execution_count": 33,
   "metadata": {
    "collapsed": false
   },
   "outputs": [],
   "source": [
    "#botA.chain"
   ]
  },
  {
   "cell_type": "code",
   "execution_count": 83,
   "metadata": {
    "collapsed": false
   },
   "outputs": [
    {
     "name": "stdout",
     "output_type": "stream",
     "text": [
      "[<__main__.Bot object at 0x7f7f75dfecc0>, <__main__.Bot object at 0x7f7f75dfec88>, <__main__.Bot object at 0x7f7f75ddaa20>, <__main__.Bot object at 0x7f7f75dda710>, <__main__.Bot object at 0x7f7f75dcfc88>, <__main__.Bot object at 0x7f7f75dfecf8>]\n"
     ]
    }
   ],
   "source": [
    "chain2 = Chain([botA, botB, botC, botD, botE, botF])"
   ]
  },
  {
   "cell_type": "code",
   "execution_count": 84,
   "metadata": {
    "collapsed": false
   },
   "outputs": [
    {
     "data": {
      "text/plain": [
       "<__main__.Chain at 0x7f7f75e3e080>"
      ]
     },
     "execution_count": 84,
     "metadata": {},
     "output_type": "execute_result"
    }
   ],
   "source": [
    "botD.chain"
   ]
  },
  {
   "cell_type": "code",
   "execution_count": 90,
   "metadata": {
    "collapsed": false
   },
   "outputs": [],
   "source": [
    "y, x = np.where(bot_map < 2)\n",
    "v, u = np.nonzero(bot_map)\n",
    "z = [Location(X,Y) for X ,Y in zip(x,y)]\n",
    "w = [Location(U,V) for U ,V in zip(u,v)]"
   ]
  },
  {
   "cell_type": "code",
   "execution_count": 91,
   "metadata": {
    "collapsed": false
   },
   "outputs": [
    {
     "data": {
      "text/plain": [
       "([Location(x=0, y=0),\n",
       "  Location(x=1, y=0),\n",
       "  Location(x=2, y=0),\n",
       "  Location(x=3, y=0),\n",
       "  Location(x=4, y=0),\n",
       "  Location(x=5, y=0),\n",
       "  Location(x=6, y=0),\n",
       "  Location(x=7, y=0),\n",
       "  Location(x=8, y=0),\n",
       "  Location(x=9, y=0),\n",
       "  Location(x=0, y=1),\n",
       "  Location(x=1, y=1),\n",
       "  Location(x=2, y=1),\n",
       "  Location(x=3, y=1),\n",
       "  Location(x=4, y=1),\n",
       "  Location(x=5, y=1),\n",
       "  Location(x=6, y=1),\n",
       "  Location(x=7, y=1),\n",
       "  Location(x=8, y=1),\n",
       "  Location(x=0, y=2),\n",
       "  Location(x=1, y=2),\n",
       "  Location(x=2, y=2),\n",
       "  Location(x=3, y=2),\n",
       "  Location(x=4, y=2),\n",
       "  Location(x=5, y=2),\n",
       "  Location(x=6, y=2),\n",
       "  Location(x=7, y=2),\n",
       "  Location(x=9, y=2),\n",
       "  Location(x=0, y=3),\n",
       "  Location(x=1, y=3),\n",
       "  Location(x=2, y=3),\n",
       "  Location(x=3, y=3),\n",
       "  Location(x=4, y=3),\n",
       "  Location(x=5, y=3),\n",
       "  Location(x=6, y=3),\n",
       "  Location(x=7, y=3),\n",
       "  Location(x=8, y=3),\n",
       "  Location(x=9, y=3),\n",
       "  Location(x=0, y=4),\n",
       "  Location(x=1, y=4),\n",
       "  Location(x=2, y=4),\n",
       "  Location(x=3, y=4),\n",
       "  Location(x=5, y=4),\n",
       "  Location(x=6, y=4),\n",
       "  Location(x=7, y=4),\n",
       "  Location(x=8, y=4),\n",
       "  Location(x=9, y=4),\n",
       "  Location(x=0, y=5),\n",
       "  Location(x=1, y=5),\n",
       "  Location(x=2, y=5),\n",
       "  Location(x=4, y=5),\n",
       "  Location(x=5, y=5),\n",
       "  Location(x=6, y=5),\n",
       "  Location(x=7, y=5),\n",
       "  Location(x=8, y=5),\n",
       "  Location(x=9, y=5),\n",
       "  Location(x=0, y=6),\n",
       "  Location(x=1, y=6),\n",
       "  Location(x=2, y=6),\n",
       "  Location(x=3, y=6),\n",
       "  Location(x=4, y=6),\n",
       "  Location(x=5, y=6),\n",
       "  Location(x=6, y=6),\n",
       "  Location(x=7, y=6),\n",
       "  Location(x=8, y=6),\n",
       "  Location(x=9, y=6),\n",
       "  Location(x=0, y=7),\n",
       "  Location(x=1, y=7),\n",
       "  Location(x=2, y=7),\n",
       "  Location(x=3, y=7),\n",
       "  Location(x=4, y=7),\n",
       "  Location(x=5, y=7),\n",
       "  Location(x=6, y=7),\n",
       "  Location(x=7, y=7),\n",
       "  Location(x=8, y=7),\n",
       "  Location(x=9, y=7),\n",
       "  Location(x=0, y=8),\n",
       "  Location(x=2, y=8),\n",
       "  Location(x=3, y=8),\n",
       "  Location(x=4, y=8),\n",
       "  Location(x=5, y=8),\n",
       "  Location(x=6, y=8),\n",
       "  Location(x=7, y=8),\n",
       "  Location(x=8, y=8),\n",
       "  Location(x=9, y=8),\n",
       "  Location(x=0, y=9),\n",
       "  Location(x=1, y=9),\n",
       "  Location(x=2, y=9),\n",
       "  Location(x=3, y=9),\n",
       "  Location(x=4, y=9),\n",
       "  Location(x=5, y=9),\n",
       "  Location(x=6, y=9),\n",
       "  Location(x=7, y=9),\n",
       "  Location(x=8, y=9),\n",
       "  Location(x=9, y=9)],\n",
       " [Location(x=9, y=1),\n",
       "  Location(x=8, y=2),\n",
       "  Location(x=4, y=4),\n",
       "  Location(x=2, y=5),\n",
       "  Location(x=3, y=5),\n",
       "  Location(x=1, y=8)])"
      ]
     },
     "execution_count": 91,
     "metadata": {},
     "output_type": "execute_result"
    }
   ],
   "source": [
    "z,w"
   ]
  },
  {
   "cell_type": "code",
   "execution_count": 95,
   "metadata": {
    "collapsed": false
   },
   "outputs": [
    {
     "data": {
      "text/plain": [
       "[Location(x=2, y=5)]"
      ]
     },
     "execution_count": 95,
     "metadata": {},
     "output_type": "execute_result"
    }
   ],
   "source": [
    "values = list((set(w) & set(z)))\n",
    "values"
   ]
  },
  {
   "cell_type": "code",
   "execution_count": null,
   "metadata": {
    "collapsed": true
   },
   "outputs": [],
   "source": []
  },
  {
   "cell_type": "code",
   "execution_count": 23,
   "metadata": {
    "collapsed": false
   },
   "outputs": [
    {
     "data": {
      "text/plain": [
       "[2, 4, 6, 8, 10]"
      ]
     },
     "execution_count": 23,
     "metadata": {},
     "output_type": "execute_result"
    }
   ],
   "source": [
    ">>> def doubleNumbers(numbers):\n",
    "...     results = []  # we'll collect our results in here \n",
    "...     for x in numbers:\n",
    "...         results.append(x + x)\n",
    "...     return results\n",
    "... \n",
    "doubleNumbers([1, 2, 3, 4, 5])\n",
    "# [2, 4, 6, 8, 10]\n",
    "#doubleNumbers(\"testing\")\n",
    "# ['tt', 'ee', 'ss', 'tt', 'ii', 'nn', 'gg']"
   ]
  },
  {
   "cell_type": "code",
   "execution_count": null,
   "metadata": {
    "collapsed": true
   },
   "outputs": [],
   "source": []
  }
 ],
 "metadata": {
  "kernelspec": {
   "display_name": "Python 3",
   "language": "python",
   "name": "python3"
  },
  "language_info": {
   "codemirror_mode": {
    "name": "ipython",
    "version": 3
   },
   "file_extension": ".py",
   "mimetype": "text/x-python",
   "name": "python",
   "nbconvert_exporter": "python",
   "pygments_lexer": "ipython3",
   "version": "3.5.1+"
  }
 },
 "nbformat": 4,
 "nbformat_minor": 0
}
