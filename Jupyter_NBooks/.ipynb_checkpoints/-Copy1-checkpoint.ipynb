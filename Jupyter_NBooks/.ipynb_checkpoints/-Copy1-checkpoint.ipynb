{
 "cells": [
  {
   "cell_type": "markdown",
   "metadata": {},
   "source": []
  },
  {
   "cell_type": "code",
   "execution_count": 1,
   "metadata": {
    "collapsed": true
   },
   "outputs": [],
   "source": [
    "import numpy as np\n",
    "from scipy.ndimage.interpolation import shift\n",
    "from collections import deque, namedtuple"
   ]
  },
  {
   "cell_type": "code",
   "execution_count": 2,
   "metadata": {
    "collapsed": true
   },
   "outputs": [],
   "source": [
    "bot_map = np.array(\n",
    "      [[ 0,  1,  0,  0,  0, 0,  1,  0,  0,  0],\n",
    "       [ 0,  1,  0,  0,  0, 0,  1,  0,  0,  0],\n",
    "       [ 0,  1,  0,  0,  0, 0,  1,  0,  0,  0],\n",
    "       [ 0,  1,  0,  0,  0, 0,  1,  0,  0,  0],\n",
    "       [ 0,  1,  0,  0,  0, 0,  1,  0,  0,  0],\n",
    "       [ 0,  1,  0,  0,  0, 0,  1,  0,  0,  0],\n",
    "       [ 0,  1,  0,  0,  0, 0,  1,  0,  0,  0],\n",
    "       [ 0,  1,  0,  0,  0, 0,  1,  0,  0,  0],\n",
    "       [ 0,  1,  0,  0,  0, 0,  1,  0,  0,  0],\n",
    "       [ 0,  1,  0,  0,  0, 0,  1,  0,  0,  0]])\n",
    "\n",
    "explorer_bot_map = np.array(\n",
    "      [[ 0,  1,  0,  0,  0, 0,  1,  0,  0,  0],\n",
    "       [ 0,  1,  0,  0,  0, 0,  1,  0,  0,  0],\n",
    "       [ 0,  1,  0,  0,  0, 0,  1,  0,  0,  0],\n",
    "       [ 0,  1,  0,  0,  0, 0,  1,  0,  0,  0],\n",
    "       [ 0,  1,  0,  0,  0, 0,  1,  0,  0,  0],\n",
    "       [ 0,  1,  0,  0,  0, 0,  1,  0,  0,  0],\n",
    "       [ 0,  1,  0,  0,  0, 0,  1,  0,  0,  0],\n",
    "       [ 0,  1,  0,  0,  0, 0,  1,  0,  0,  0],\n",
    "       [ 0,  1,  0,  0,  0, 0,  1,  0,  0,  0],\n",
    "       [ 0,  1,  0,  0,  0, 0,  1,  0,  0,  0]])"
   ]
  },
  {
   "cell_type": "code",
   "execution_count": 3,
   "metadata": {
    "collapsed": true
   },
   "outputs": [],
   "source": [
    "neighbours = [(-1, -1), (-1, 0), (-1, 1), (0, 1), (1, 1), (1, 0),\n",
    "                      (1, -1), (0, -1)]"
   ]
  },
  {
   "cell_type": "code",
   "execution_count": 4,
   "metadata": {
    "collapsed": true
   },
   "outputs": [],
   "source": [
    "Location = namedtuple(\"Location\", (\"x\", \"y\"))"
   ]
  },
  {
   "cell_type": "code",
   "execution_count": 5,
   "metadata": {
    "collapsed": false
   },
   "outputs": [
    {
     "name": "stdout",
     "output_type": "stream",
     "text": [
      "5 4\n"
     ]
    }
   ],
   "source": [
    "tail = Location(5,4)\n",
    "x, y = tail.x, tail.y\n",
    "print(x,y)\n",
    "recruit_range = 5"
   ]
  },
  {
   "cell_type": "markdown",
   "metadata": {},
   "source": [
    "x direction"
   ]
  },
  {
   "cell_type": "code",
   "execution_count": 6,
   "metadata": {
    "collapsed": false
   },
   "outputs": [
    {
     "name": "stdout",
     "output_type": "stream",
     "text": [
      "1\n",
      "6\n",
      "10\n",
      "[1 0 0 0]\n"
     ]
    }
   ],
   "source": [
    "#for ny, nx in neighbours[0:1]:   # nx = -1\n",
    "for ny, nx in neighbours[1:3]:  # nx = 1\n",
    "#for ny, nx in neighbours[4:5]:\n",
    "    if nx:\n",
    "        print(nx)\n",
    "        # near_bots = self.bot_map[y, x + nx: x + nx + (\n",
    "        #                 nx * BOT_DEFAULTS[\"recruit_range\"]): nx]\n",
    "        start_point = x + nx\n",
    "        print(start_point)\n",
    "#         end_point =  x + nx + (nx * recruit_range)\n",
    "        end_point =  np.clip(x + nx + (nx * recruit_range), 0, len(bot_map[0]))\n",
    "        print(end_point)\n",
    "        direction = nx\n",
    "        \n",
    "#         near_bots = bot_map[y, x + nx: x + nx + (nx * recruit_range): nx]\n",
    "        near_bots = bot_map[y, start_point : end_point : direction]\n",
    "        #near_bots = bot_map[y, end_point : start_point : direction]\n",
    "        print(near_bots)"
   ]
  },
  {
   "cell_type": "code",
   "execution_count": 7,
   "metadata": {
    "collapsed": false
   },
   "outputs": [
    {
     "name": "stdout",
     "output_type": "stream",
     "text": [
      "[1 0 0]\n",
      "[0 0 0]\n"
     ]
    }
   ],
   "source": [
    "# _near_bots = list(near_bots[:-1])\n",
    "# _near_bots_offset = list(near_bots[1:])\n",
    "# print(_near_bots)\n",
    "# print(_near_bots_offset)\n",
    "_near_bots = near_bots[:-1]\n",
    "_near_bots_offset = near_bots[1:]\n",
    "print(_near_bots)\n",
    "print(_near_bots_offset)"
   ]
  },
  {
   "cell_type": "markdown",
   "metadata": {},
   "source": [
    "The indices of transition points between occupied and unoccupied cells:\n",
    "Indices of first cells in transition pairs \"_near_bots.index(i)\"\n",
    "\n",
    "Indices of second cells in transition pairs \"_near_bots.index(i)+1\"\n",
    "\n",
    "Indices used to dervice address of second cell in transition pair relative to bot \"_near_bots.index(i)+\""
   ]
  },
  {
   "cell_type": "code",
   "execution_count": 8,
   "metadata": {
    "collapsed": false
   },
   "outputs": [
    {
     "data": {
      "text/plain": [
       "array([[2]])"
      ]
     },
     "execution_count": 8,
     "metadata": {},
     "output_type": "execute_result"
    }
   ],
   "source": [
    "#transition_points = [_near_bots.index(i) for i,j in zip(_near_bots, _near_bots_offset) if i ==j]  \n",
    "#transition_points = [_near_bots.index(i) if i != j for i,j in zip(_near_bots, _near_bots_offset)]   \n",
    "#transition_points = [_near_bots.index(i)+2 for i,j in zip(_near_bots, _near_bots_offset) if i != j]  \n",
    "transition_points = np.argwhere(_near_bots!=_near_bots_offset)+2\n",
    "transition_points"
   ]
  },
  {
   "cell_type": "code",
   "execution_count": 9,
   "metadata": {
    "collapsed": false
   },
   "outputs": [
    {
     "data": {
      "text/plain": [
       "1"
      ]
     },
     "execution_count": 9,
     "metadata": {},
     "output_type": "execute_result"
    }
   ],
   "source": [
    "_near_bots[0]"
   ]
  },
  {
   "cell_type": "code",
   "execution_count": 10,
   "metadata": {
    "collapsed": false
   },
   "outputs": [
    {
     "data": {
      "text/plain": [
       "array([[1]])"
      ]
     },
     "execution_count": 10,
     "metadata": {},
     "output_type": "execute_result"
    }
   ],
   "source": [
    "# shift_distance = [_near_bots.index(i)+1 for i,j in zip(_near_bots, _near_bots_offset) if i != j][0]\n",
    "shift_distance = (np.argwhere(_near_bots!=_near_bots_offset) + 1)\n",
    "shift_distance"
   ]
  },
  {
   "cell_type": "markdown",
   "metadata": {},
   "source": [
    "Construct a new map showing only explorer bots not in relay chains. \n",
    "For now we will use the map of all explorer bots. \n",
    "Check the index of the first trasnition point is occupied by a bot:"
   ]
  },
  {
   "cell_type": "code",
   "execution_count": 11,
   "metadata": {
    "collapsed": false
   },
   "outputs": [],
   "source": [
    "if explorer_bot_map[y, x + nx*transition_points[0]]:\n",
    "    print(explorer_bot_map[y, x + nx * transition_points[0]])                        "
   ]
  },
  {
   "cell_type": "markdown",
   "metadata": {},
   "source": [
    "If the first transition cell is occupied by a recruitable explorer bot, repeat the scan to find all transition points on the new map."
   ]
  },
  {
   "cell_type": "code",
   "execution_count": 12,
   "metadata": {
    "collapsed": false
   },
   "outputs": [
    {
     "name": "stdout",
     "output_type": "stream",
     "text": [
      "[1 0 0 0]\n"
     ]
    },
    {
     "data": {
      "text/plain": [
       "array([[2]])"
      ]
     },
     "execution_count": 12,
     "metadata": {},
     "output_type": "execute_result"
    }
   ],
   "source": [
    "    near_bots = explorer_bot_map[y, start_point : end_point : direction]\n",
    "    #near_bots = explorer_bot_map[y, end_point : start_point : direction]\n",
    "    print(near_bots)\n",
    "#     _near_bots = list(near_bots[:-1])\n",
    "#     _near_bots_offset = list(near_bots[1:])\n",
    "#     transition_points = [_near_bots.index(i)+2 for i,j in zip(_near_bots, _near_bots_offset) if i != j] \n",
    "#     transition_points\n",
    "    _near_bots = near_bots[:-1]\n",
    "    _near_bots_offset = near_bots[1:]\n",
    "    transition_points = np.argwhere(_near_bots!=_near_bots_offset) + 2\n",
    "    transition_points"
   ]
  },
  {
   "cell_type": "markdown",
   "metadata": {},
   "source": [
    "Check for a second transition back to unoccupied space within the sense range.\n",
    "If not transition back to unoccupied space occurs, default to the last cell in the sense window:"
   ]
  },
  {
   "cell_type": "code",
   "execution_count": 13,
   "metadata": {
    "collapsed": false
   },
   "outputs": [
    {
     "data": {
      "text/plain": [
       "4"
      ]
     },
     "execution_count": 13,
     "metadata": {},
     "output_type": "execute_result"
    }
   ],
   "source": [
    "    try:\n",
    "        last_bot = transition_points[1]\n",
    "    except IndexError:\n",
    "        last_bot = len(near_bots)\n",
    "    last_bot"
   ]
  },
  {
   "cell_type": "code",
   "execution_count": 14,
   "metadata": {
    "collapsed": false
   },
   "outputs": [
    {
     "data": {
      "text/plain": [
       "5"
      ]
     },
     "execution_count": 14,
     "metadata": {},
     "output_type": "execute_result"
    }
   ],
   "source": [
    "last_bot += 1\n",
    "last_bot"
   ]
  },
  {
   "cell_type": "code",
   "execution_count": 15,
   "metadata": {
    "collapsed": true
   },
   "outputs": [],
   "source": [
    "bot_map = np.array(\n",
    "      [[ 0,  1,  0,  0,  0, 0,  1,  0,  0,  0],\n",
    "       [ 0,  1,  0,  0,  0, 0,  1,  0,  0,  0],\n",
    "       [ 0,  1,  0,  0,  0, 0,  1,  0,  0,  0],\n",
    "       [ 0,  1,  0,  0,  0, 0,  1,  0,  0,  0],\n",
    "       [ 0,  1,  0,  0,  0, 0,  1,  0,  0,  0],\n",
    "       [ 0,  1,  0,  0,  0, 0,  1,  0,  0,  0],\n",
    "       [ 0,  1,  0,  0,  0, 0,  1,  0,  0,  0],\n",
    "       [ 0,  1,  0,  0,  0, 0,  1,  0,  0,  0],\n",
    "       [ 0,  1,  0,  0,  0, 0,  1,  0,  0,  0],\n",
    "       [ 0,  1,  0,  0,  0, 0,  1,  0,  0,  0]])"
   ]
  },
  {
   "cell_type": "code",
   "execution_count": 21,
   "metadata": {
    "collapsed": false
   },
   "outputs": [
    {
     "name": "stdout",
     "output_type": "stream",
     "text": [
      "[[1]]\n",
      "1\n",
      "[0 0 0 0]\n",
      "[0 0 0 0]\n"
     ]
    }
   ],
   "source": [
    "    start_point = x + nx\n",
    "    end_point = np.clip(x + nx + (last_bot * nx), 0, len(bot_map[0]))\n",
    "    print(shift_distance)\n",
    "    \n",
    "    if nx == 1:\n",
    "        print(nx)\n",
    "        print(bot_map[y][start_point: end_point]) \n",
    "\n",
    "        bot_map[y][start_point: end_point] = shift(bot_map[y][start_point: end_point: direction],\n",
    "                                                   shift_distance * -nx) \n",
    "        \n",
    "#         print(bot_map[y][1:1]) \n",
    "#         bot_map[y][1:1] = shift(bot_map[y][1:1], shift_distance * -nx) \n",
    "#         print(bot_map[y][1:1]) \n",
    "        \n",
    "        print(bot_map[y][start_point: end_point]) \n",
    "                                                  \n",
    "    elif nx == -1:  \n",
    "        print(nx)\n",
    "        print(bot_map[y, start_point : end_point : direction])\n",
    "     \n",
    "        bot_map[y, start_point : end_point : direction] = shift(bot_map[y, start_point : end_point : direction], \n",
    "                                                    + shift_distance * nx)\n",
    "       \n",
    "        print(bot_map[y, start_point : end_point : direction])"
   ]
  },
  {
   "cell_type": "code",
   "execution_count": 17,
   "metadata": {
    "collapsed": false
   },
   "outputs": [],
   "source": [
    "#     start_point = x + nx\n",
    "#     print(nx)\n",
    "#     end_point = np.clip(x + nx + (last_bot * nx), 0, len(bot_map[0]))\n",
    "#     bot_map[y][start_point: end_point] = shift(bot_map[y][start_point: end_point: direction],\n",
    "#                                                    shift_distance * -nx)        \n",
    "#     print(bot_map[y, start_point : end_point : direction])"
   ]
  },
  {
   "cell_type": "code",
   "execution_count": 18,
   "metadata": {
    "collapsed": false
   },
   "outputs": [
    {
     "data": {
      "text/plain": [
       "array([[0, 1, 0, 0, 0, 0, 1, 0, 0, 0],\n",
       "       [0, 1, 0, 0, 0, 0, 1, 0, 0, 0],\n",
       "       [0, 1, 0, 0, 0, 0, 1, 0, 0, 0],\n",
       "       [0, 1, 0, 0, 0, 0, 1, 0, 0, 0],\n",
       "       [0, 1, 0, 0, 0, 0, 0, 0, 0, 0],\n",
       "       [0, 1, 0, 0, 0, 0, 1, 0, 0, 0],\n",
       "       [0, 1, 0, 0, 0, 0, 1, 0, 0, 0],\n",
       "       [0, 1, 0, 0, 0, 0, 1, 0, 0, 0],\n",
       "       [0, 1, 0, 0, 0, 0, 1, 0, 0, 0],\n",
       "       [0, 1, 0, 0, 0, 0, 1, 0, 0, 0]])"
      ]
     },
     "execution_count": 18,
     "metadata": {},
     "output_type": "execute_result"
    }
   ],
   "source": [
    "bot_map"
   ]
  },
  {
   "cell_type": "code",
   "execution_count": null,
   "metadata": {
    "collapsed": true
   },
   "outputs": [],
   "source": []
  }
 ],
 "metadata": {
  "kernelspec": {
   "display_name": "Python 3",
   "language": "python",
   "name": "python3"
  },
  "language_info": {
   "codemirror_mode": {
    "name": "ipython",
    "version": 3
   },
   "file_extension": ".py",
   "mimetype": "text/x-python",
   "name": "python",
   "nbconvert_exporter": "python",
   "pygments_lexer": "ipython3",
   "version": "3.5.1+"
  }
 },
 "nbformat": 4,
 "nbformat_minor": 0
}
