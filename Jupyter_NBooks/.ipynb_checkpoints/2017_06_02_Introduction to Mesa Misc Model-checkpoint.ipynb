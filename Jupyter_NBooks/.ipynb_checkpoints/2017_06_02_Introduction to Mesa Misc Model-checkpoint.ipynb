{
 "cells": [
  {
   "cell_type": "code",
   "execution_count": 11,
   "metadata": {
    "collapsed": false
   },
   "outputs": [],
   "source": [
    "import random\n",
    "from mesa import Agent, Model\n",
    "from mesa.time import RandomActivation\n",
    "from mesa.space import MultiGrid"
   ]
  },
  {
   "cell_type": "code",
   "execution_count": 12,
   "metadata": {
    "collapsed": true
   },
   "outputs": [],
   "source": [
    "class MyAgent(Agent):\n",
    "    def __init__(self, name, model):\n",
    "        super().__init__(name, model)\n",
    "        self.name = name\n",
    "\n",
    "    def step(self):\n",
    "        print(\"{} activated\".format(self.name))"
   ]
  },
  {
   "cell_type": "code",
   "execution_count": 13,
   "metadata": {
    "collapsed": true
   },
   "outputs": [],
   "source": [
    "# Whatever else the agent does when activated\n",
    "class MyModel(Model):\n",
    "    \n",
    "    def __init__(self, n_agents):\n",
    "        self.schedule = RandomActivation(self)\n",
    "        self.grid = MultiGrid(10, 10, torus=True)\n",
    "        for i in range(n_agents):\n",
    "            a = MyAgent(i, self)\n",
    "            print(a)\n",
    "            self.schedule.add(a)\n",
    "            coords = (random.randrange(0, 10), random.randrange(0, 10))\n",
    "            self.grid.place_agent(a, coords)\n",
    "    \n",
    "    def step(self):\n",
    "        self.schedule.step()"
   ]
  },
  {
   "cell_type": "code",
   "execution_count": 14,
   "metadata": {
    "collapsed": false
   },
   "outputs": [
    {
     "name": "stdout",
     "output_type": "stream",
     "text": [
      "<__main__.MyAgent object at 0x7fe4d0207cc0>\n",
      "<__main__.MyAgent object at 0x7fe4d0207cf8>\n",
      "<__main__.MyAgent object at 0x7fe4d0207d30>\n",
      "<__main__.MyAgent object at 0x7fe4d0207d68>\n",
      "<__main__.MyAgent object at 0x7fe4d0207da0>\n",
      "0 activated\n",
      "4 activated\n",
      "3 activated\n",
      "2 activated\n",
      "1 activated\n"
     ]
    }
   ],
   "source": [
    "model = MyModel(5)\n",
    "model.step()"
   ]
  },
  {
   "cell_type": "code",
   "execution_count": null,
   "metadata": {
    "collapsed": true
   },
   "outputs": [],
   "source": []
  }
 ],
 "metadata": {
  "kernelspec": {
   "display_name": "Python 3",
   "language": "python",
   "name": "python3"
  },
  "language_info": {
   "codemirror_mode": {
    "name": "ipython",
    "version": 3
   },
   "file_extension": ".py",
   "mimetype": "text/x-python",
   "name": "python",
   "nbconvert_exporter": "python",
   "pygments_lexer": "ipython3",
   "version": "3.5.2"
  }
 },
 "nbformat": 4,
 "nbformat_minor": 0
}
