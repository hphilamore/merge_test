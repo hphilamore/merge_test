{
 "cells": [
  {
   "cell_type": "markdown",
   "metadata": {},
   "source": [
    "Processing code for OOP class walker"
   ]
  },
  {
   "cell_type": "markdown",
   "metadata": {},
   "source": [
    "class Walker{\n",
    "  //float x; \n",
    "  //float y;\n",
    "  //color c;\n",
    "  PVector location;\n",
    "  PVector velocity;\n",
    "  \n",
    "  \n",
    "  // CONTRUCTOR: initialistaion DATA for class walker\n",
    "  //Walker(color walkC, float walkX,float walkY){\n",
    "  Walker(float locX, float locY, float velX, float velY){\n",
    "    //c= walkC;\n",
    "    //x= walkX;\n",
    "    //y= walkY;\n",
    "    \n",
    "    //c = walkC;\n",
    "    location = new PVector(locX, locY);\n",
    "    velocity = new PVector(velX, velY);\n",
    "   }\n",
    "  \n",
    "  //FUNCTIONALITY for class walker\n",
    "  void step(){\n",
    "    \n",
    "    location.add(velocity);\n",
    "    \n",
    "    if(location.x > width || location.x < 0){\n",
    "      velocity.x = velocity.x * -1;\n",
    "    }\n",
    "    \n",
    "    if(location.y > height || location.y < 0){\n",
    "      velocity.y = velocity.y * -1;\n",
    "    }\n",
    "    \n",
    "    location.add(velocity);   \n",
    "    \n",
    "  }"
   ]
  },
  {
   "cell_type": "code",
   "execution_count": 1,
   "metadata": {
    "collapsed": true
   },
   "outputs": [],
   "source": [
    "# as with processing: name the class and create the variables used within that class\n",
    "class Employee:    \n",
    "   'Common base class for all employees' # optional documentation string called using Employee.__doc__\n",
    "   empCount = 0\n",
    "    \n",
    "# constructor: initialistaion method for class employee\n",
    "\n",
    "   def __init__(self, name, salary):\n",
    "      self.name = name\n",
    "      self.salary = salary\n",
    "      Employee.empCount += 1\n",
    "    \n",
    "# functionality: methods for class employee\n",
    "   \n",
    "   def displayCount(self):\n",
    "     print \"Total Employee %d\" % Employee.empCount\n",
    "\n",
    "   def displayEmployee(self):\n",
    "      print \"Name : \", self.name,  \", Salary: \", self.salary"
   ]
  },
  {
   "cell_type": "code",
   "execution_count": 2,
   "metadata": {
    "collapsed": true
   },
   "outputs": [],
   "source": [
    "\"This would create first object of Employee class\"\n",
    "emp1 = Employee(\"Zara\", 2000)\n",
    "\"This would create second object of Employee class\"\n",
    "emp2 = Employee(\"Manni\", 5000)"
   ]
  },
  {
   "cell_type": "code",
   "execution_count": 3,
   "metadata": {
    "collapsed": false
   },
   "outputs": [
    {
     "name": "stdout",
     "output_type": "stream",
     "text": [
      "Name :  Zara , Salary:  2000\n",
      "Name :  Manni , Salary:  5000\n",
      "Total Employee 2\n"
     ]
    }
   ],
   "source": [
    "emp1.displayEmployee()\n",
    "emp2.displayEmployee()\n",
    "print \"Total Employee %d\" % Employee.empCount"
   ]
  },
  {
   "cell_type": "code",
   "execution_count": 4,
   "metadata": {
    "collapsed": false
   },
   "outputs": [
    {
     "name": "stdout",
     "output_type": "stream",
     "text": [
      "Employee.__doc__: Common base class for all employees\n"
     ]
    }
   ],
   "source": [
    "print \"Employee.__doc__:\", Employee.__doc__\n"
   ]
  },
  {
   "cell_type": "markdown",
   "metadata": {},
   "source": [
    "Below is an example of the simplest CELLULAR AUTOMATA ALGORITHM. Later we will use cellular auotmata for island like distribution of food. The Schelling model produces a cellular automata pattern of thi type. \n",
    "# # # # # # # # # # # # # # . . # # # # . . . . # . . . . #\n",
    "# # # # # # # # # # # # # # . . # # # # # . . . . . . . # #\n",
    "# # # # # # # # # # . . # # # # # . . # # . . . . . . . # #\n",
    "# . . # # # # . . . . . . # # . . . . . . . . . . . . . # #\n",
    "# . . . . . . . . . . . . # # . . . . . . . . . . . . . # #\n",
    "# . . . . . . . . . . . . # # . . . . . . . . . . . . . # #\n",
    "# . . . . . . . . . . . . # # . . . . . . . . . . . . . # #\n",
    "# # . . . . # # # . . . . # # # . . . . . . . . . . . . . #\n",
    "# # # # # # # # # # . . . . # . # . . . . . . . . . . . . #\n",
    "# # # # # # # # # # # . . . . # . . . . . . . # # . . . . #\n",
    "# # # # # # # # # . . . . . . . . . . . . . . # # . . . . #\n",
    "# # # # # # # . . . . . . . . . . . . . # # . . # # . . # #"
   ]
  },
  {
   "cell_type": "code",
   "execution_count": 10,
   "metadata": {
    "collapsed": false
   },
   "outputs": [
    {
     "name": "stdout",
     "output_type": "stream",
     "text": [
      "\n",
      "                                                  A                                                 \n",
      "                                                A   A                                               \n",
      "                                              A       A                                             \n",
      "                                            A   A   A   A                                           \n",
      "                                          A               A                                         \n",
      "                                        A   A           A   A                                       \n",
      "                                      A       A       A       A                                     \n",
      "                                    A   A   A   A   A   A   A   A                                   \n",
      "                                  A                               A                                 \n",
      "                                A   A                           A   A                               \n",
      "                              A       A                       A       A                             \n",
      "                            A   A   A   A                   A   A   A   A                           \n",
      "                          A               A               A               A                         \n",
      "                        A   A           A   A           A   A           A   A                       \n",
      "                      A       A       A       A       A       A       A       A                     \n",
      "                    A   A   A   A   A   A   A   A   A   A   A   A   A   A   A   A                   \n",
      "                  A                                                               A                 \n",
      "                A   A                                                           A   A               \n",
      "              A       A                                                       A       A             \n",
      "            A   A   A   A                                                   A   A   A   A           \n",
      "          A               A                                               A               A         \n",
      "        A   A           A   A                                           A   A           A   A       \n",
      "      A       A       A       A                                       A       A       A       A     \n",
      "    A   A   A   A   A   A   A   A                                   A   A   A   A   A   A   A   A   \n",
      "  A                               A                               A                                \n"
     ]
    }
   ],
   "source": [
    "size = 50\n",
    "list = [0]*size # creates list with all 0's \n",
    "list[size/2] = 1 # sets middle element in list to 1\n",
    "\n",
    "def update(list):\n",
    "    '''This function updates list based on rule ( left XOR right here )'''\n",
    "    temp = len(list)*[0]\n",
    "    n = len(list)\n",
    "    for i in range(1,n-1):\n",
    "        temp[i] = list[i-1]^list[i+1]  # list[i] = list[i-1] XOR list[i+1\n",
    "    return temp\n",
    "\n",
    "def p(list):\n",
    "    '''This function prints list with 'A' for 1 and ' ' for 0 value.''' \n",
    "    print ''\n",
    "    for each in list:\n",
    "        if each ==1:\n",
    "            print 'A',\n",
    "        else:\n",
    "            print ' ',\n",
    "\n",
    "if __name__=='__main__':\n",
    "    '''This program generates snoflake pattern'''\n",
    "    for i in range(size/2):\n",
    "        p(list)\n",
    "        list = update(list)\n",
    "        "
   ]
  },
  {
   "cell_type": "markdown",
   "metadata": {},
   "source": [
    "Using Schelling model, construct the environment, populated with food: class Food.\n",
    "First, import necessary libraries."
   ]
  },
  {
   "cell_type": "code",
   "execution_count": 11,
   "metadata": {
    "collapsed": true
   },
   "outputs": [],
   "source": [
    "import matplotlib.pyplot as plt\n",
    "import itertools\n",
    "import random\n",
    "import copy"
   ]
  },
  {
   "cell_type": "markdown",
   "metadata": {},
   "source": [
    "Define class Schelling:\n",
    "takes 6 parameters \n",
    "has 4 methods defined within class"
   ]
  },
  {
   "cell_type": "code",
   "execution_count": null,
   "metadata": {
    "collapsed": false
   },
   "outputs": [],
   "source": [
    "class Schelling:\n",
    "    #constructor initialises parameters used within class\n",
    "    def __init__ (self, width, height, empty_ratio, similarity_threshold, n_iterations, races = 2):\n",
    "        \n",
    "        # paramters...\n",
    "        self.width = width\n",
    "        self.height = height\n",
    "        self.races = races\n",
    "        self.empty_ratio = empty_ratio\n",
    "        self.similarity_threshold = similarity_threshold\n",
    "        self.n_terations = n_iterations\n",
    "        self.empty_houses = []            # empty list called empty_houses\n",
    "        self.agents = {}                  # initialises dict called agents\n",
    "    \n",
    "    # methods...\n",
    "#     def populate(self):\n",
    "#         ....\n",
    "    \n",
    "#     def is_unsatisfied(sled, x, y):\n",
    "#         ....\n",
    "    \n",
    "#     def update(self):\n",
    "#         ....\n",
    "        \n",
    "#     def move_to_empty(self, x, y):\n",
    "#         ....\n",
    "        \n",
    "#     def plot(self):\n",
    "        \n",
    "#         ....\n",
    "\n",
    "\n",
    "    def populate(self):\n",
    "        # list of all houses, grid covering area using itertools function 'product'\n",
    "        #self.all_houses = list(itertools.product(range(self.width), range(self.height))) \n",
    "        self.all_houses= [item for item in itertools.product(range(self.width), range(self.height))]\n",
    "        \n",
    "        # returns new list (same name), shuffled\n",
    "        random.shuffle(self.all_houses) \n",
    "        \n",
    "        # int no. of empty houses\n",
    "        self.n_empty = int( self.empty_ratio * len(self.all_houses))\n",
    "        \n",
    "        # defines first n_empty houses of shuffled list all_houses as empty_houses\n",
    "        self.empty_houses = self.all_houses[:self.n_empty]\n",
    "        \n",
    "        # defines remaining houses as latter section of list all_houses\n",
    "        self.remaining_houses = self.all_houses[self.n_empty:]\n",
    "        \n",
    "        # generates a list of n lists of cells (seleced alternately from total list of total occupied houses) \n",
    "        # where n is the number of cell types - race in Schelling exp.  \n",
    "        houses_by_race = [self.remaining_houses[i::self.races] for i in range(self.races)]\n",
    "       \n",
    "        # create agents for each race\n",
    "        for i in range(self.races):\n",
    "            self.agents = dict(\n",
    "                                self.agents.items() +  # all items() of agents list so far...\n",
    "                \n",
    "                                # ...plus the items() of a dictionary (called dict) that assigns the list of cells\n",
    "                                # for race n, the value n (which is i+1 since i begins at 0) n.b. list of elements of \n",
    "                                # value n formed to do this\n",
    "                \n",
    "                                dict(zip(houses_by_race[i], [i+1]*len(houses_by_race[i]))).items()\n",
    "                                )\n",
    "        \n",
    "        \n",
    "    \n",
    "    def plot(self, title, filename):\n",
    "        \n",
    "        #http://matplotlib.org/examples/pylab_examples/subplots_demo.html\n",
    "        # Just a figure and one subplot\n",
    "        # f, ax = plt.subplots()\n",
    "        # Two subplots, share y axis \n",
    "        # f, (ax1, ax2) = plt.subplots(1, 2, sharey=True)\n",
    "        \n",
    "        fig, ax = plt.subplots()\n",
    "        \n",
    "        agent_colors = {1:'b', 2:'r', 3:'g', 4:'c', 5:'m', 6:'y', 7:'k'} # {} creates dict of 7 colours\n",
    "        \n",
    "        for agent in self.agents:\n",
    "            \n",
    "            #plot each agent at its (x,y) location (+ 0.5 to centralise point in cell) \n",
    "            # WE CAN PLOT THESE AS SQUARES TO COVER GRID WITH AGENTS AS CIRCLES SO THEY CAN BE SEEN\n",
    "            ax.scatter(agent[0]+0.5, agent[1]+0.5, color=agent_colors[self.agents[agent]]) \n",
    "            \n",
    "        ax.set_title(title, fontsize = 10, fontweight = 'bold')\n",
    "        ax.set_xlim([0, self.width])\n",
    "        ax.set_ylim([0, self.height])\n",
    "        ax.set_xticks([])\n",
    "        ax.set_yticks([])\n",
    "        plt.savefig(filename)\n",
    "        plt.show()\n",
    "\n",
    "        \n",
    "            \n",
    "            \n",
    "        \n",
    "\n",
    "schelling_1 = Schelling(50, 50, 0.3, 0.3, 500, 2)\n",
    "schelling_1.populate() \n",
    "schelling_1.plot('plot_1', 'plot_1.png')\n",
    "        \n",
    "        \n",
    "    \n",
    "        "
   ]
  },
  {
   "cell_type": "code",
   "execution_count": null,
   "metadata": {
    "collapsed": true
   },
   "outputs": [],
   "source": [
    "def populate(self):\n",
    "    self.all_houses = list(itertools.product(range(self.width), range(self.height))) # list of all houses, grid covering area using itertools function 'product'\n",
    "    random.shuffle(self.all_houses)\n",
    "    a = random.shuffle(self.all_houses)\n",
    "    print a"
   ]
  },
  {
   "cell_type": "code",
   "execution_count": null,
   "metadata": {
    "collapsed": true
   },
   "outputs": [],
   "source": []
  }
 ],
 "metadata": {
  "kernelspec": {
   "display_name": "Python 2",
   "language": "python",
   "name": "python2"
  },
  "language_info": {
   "codemirror_mode": {
    "name": "ipython",
    "version": 2
   },
   "file_extension": ".py",
   "mimetype": "text/x-python",
   "name": "python",
   "nbconvert_exporter": "python",
   "pygments_lexer": "ipython2",
   "version": "2.7.6"
  }
 },
 "nbformat": 4,
 "nbformat_minor": 0
}
