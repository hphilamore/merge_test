{
 "cells": [
  {
   "cell_type": "markdown",
   "metadata": {},
   "source": [
    "Shift elements within a given range around an index location to cloe gaps around the location  "
   ]
  },
  {
   "cell_type": "code",
   "execution_count": 3,
   "metadata": {
    "collapsed": true
   },
   "outputs": [],
   "source": [
    "import numpy as np"
   ]
  },
  {
   "cell_type": "code",
   "execution_count": 4,
   "metadata": {
    "collapsed": false
   },
   "outputs": [],
   "source": [
    "bot_map = np.array(\n",
    "      [[ 0,  1,  0,  0,  0, 0,  1,  0,  0,  0],\n",
    "       [ 0.,  0.,  0.,  0.,  0., 0.,  1.,  0.,  0.,  0.],\n",
    "       [ 0.,  1.,  0.,  1.,  0., 0.,  1.,  0.,  0.,  0.],\n",
    "       [ 0.,  0.,  0.,  0.,  0., 0.,  1.,  0.,  0.,  0.],\n",
    "       [ 0.,  1.,  0.,  0.,  2., 0.,  4.,  0.,  0.,  0.],\n",
    "       [ 0.,  1.,  0.,  0.,  0., 0.,  1.,  0.,  0.,  0.],\n",
    "       [ 0.,  0.,  0.,  0.,  0., 0.,  1.,  0.,  0.,  0.],\n",
    "       [ 0.,  1.,  0.,  1.,  0., 0.,  1.,  0.,  0.,  0.],\n",
    "       [ 0.,  0.,  0.,  0.,  0., 0.,  1.,  0.,  0.,  0.],\n",
    "       [ 0.,  0.,  0.,  1.,  0., 0.,  1.,  0.,  0.,  0.]])\n",
    "\n",
    "explorer_bot_map = np.array(\n",
    "      [[ 0.,  1.,  0.,  0.,  0., 0.,  1.,  0.,  0.,  0.],\n",
    "       [ 0.,  0.,  0.,  0.,  0., 0.,  1.,  0.,  0.,  0.],\n",
    "       [ 0.,  1.,  0.,  1.,  0., 0.,  1.,  0.,  0.,  0.],\n",
    "       [ 0.,  0.,  0.,  0.,  0., 0.,  1.,  0.,  0.,  0.],\n",
    "       [ 0.,  1.,  0.,  0.,  2., 0.,  4.,  0.,  0.,  0.],\n",
    "       [ 0.,  1.,  0.,  0.,  0., 0.,  1.,  0.,  0.,  0.],\n",
    "       [ 0.,  0.,  0.,  0.,  0., 0.,  1.,  0.,  0.,  0.],\n",
    "       [ 0.,  1.,  0.,  1.,  0., 0.,  1.,  0.,  0.,  0.],\n",
    "       [ 0.,  0.,  0.,  0.,  0., 0.,  1.,  0.,  0.,  0.],\n",
    "       [ 0.,  0.,  0.,  1.,  0., 0.,  1.,  0.,  0.,  0.]])\n",
    "\n",
    "bots = np.array([[1,2,4,55,6,7],[1,2,3,4,5,6]])\n",
    "\n",
    "# bot_map = np.array([[0,0,0,0,1,1,1,0,0,1,1,0], \n",
    "#                     [0,0,0,0,1,1,1,0,0,1,1,0], \n",
    "#                     [0,0,0,0,1,1,1,0,0,1,1,0], \n",
    "#                     [0,0,0,0,1,1,1,0,0,1,1,0]])"
   ]
  },
  {
   "cell_type": "code",
   "execution_count": 5,
   "metadata": {
    "collapsed": true
   },
   "outputs": [],
   "source": [
    "neighbours = [(-1, -1), (-1, 0), (-1, 1), (0, 1), (1, 1), (1, 0),\n",
    "                      (1, -1), (0, -1)]"
   ]
  },
  {
   "cell_type": "code",
   "execution_count": 6,
   "metadata": {
    "collapsed": false
   },
   "outputs": [],
   "source": [
    "# from scipy.ndimage.interpolation import shift\n",
    "# shift(bots[0],3)\n",
    "# shift(bot_map[0],3)\n",
    "# # print(bot_map[1:2][0])\n",
    "# # shift(np.array(bot_map[1:2][0]),1)"
   ]
  },
  {
   "cell_type": "code",
   "execution_count": 7,
   "metadata": {
    "collapsed": false
   },
   "outputs": [],
   "source": [
    "y,x = np.where(bot_map == 4)\n",
    "ny, nx = neighbours[0]\n",
    "sense_range = 5\n",
    "#np.ma.make_mask(map)\n",
    "#ax"
   ]
  },
  {
   "cell_type": "code",
   "execution_count": 8,
   "metadata": {
    "collapsed": false
   },
   "outputs": [
    {
     "name": "stderr",
     "output_type": "stream",
     "text": [
      "/home/hemma/.local/lib/python3.5/site-packages/ipykernel/__main__.py:6: VisibleDeprecationWarning: converting an array with ndim > 0 to an index will result in an error in the future\n"
     ]
    },
    {
     "data": {
      "text/plain": [
       "array([[ 0.,  2.,  0.,  0.]])"
      ]
     },
     "execution_count": 8,
     "metadata": {},
     "output_type": "execute_result"
    }
   ],
   "source": [
    "# a = bot_map[y,x:x-3:-1]\n",
    "# a = bot_map[y,x:x+3:1]\n",
    "# a = bot_map[y,x:x-3:nx]\n",
    "# a = bot_map[y,x:x+(nx*sense_range):nx]\n",
    "# a = bot_map[y,x-1:x+(nx*sense_range):nx]\n",
    "a = bot_map[y, x+nx: x +(nx*sense_range):nx]\n",
    "a"
   ]
  },
  {
   "cell_type": "markdown",
   "metadata": {},
   "source": [
    "Indices in array element 0 (which is a list!) where the current value does not equal the next (left to right) i.e. there is a bot at the next location!"
   ]
  },
  {
   "cell_type": "code",
   "execution_count": 9,
   "metadata": {
    "collapsed": false
   },
   "outputs": [
    {
     "data": {
      "text/plain": [
       "(array([0, 1]),)"
      ]
     },
     "execution_count": 9,
     "metadata": {},
     "output_type": "execute_result"
    }
   ],
   "source": [
    "c = np.where(a[0][:-1]!=a[0][1:])\n",
    "c"
   ]
  },
  {
   "cell_type": "markdown",
   "metadata": {},
   "source": [
    "...add 1 to each value to get the next bot location."
   ]
  },
  {
   "cell_type": "code",
   "execution_count": 10,
   "metadata": {
    "collapsed": false
   },
   "outputs": [
    {
     "data": {
      "text/plain": [
       "array([1, 2])"
      ]
     },
     "execution_count": 10,
     "metadata": {},
     "output_type": "execute_result"
    }
   ],
   "source": [
    "d = c[0]+1\n",
    "d"
   ]
  },
  {
   "cell_type": "markdown",
   "metadata": {},
   "source": [
    "Check if the occupied location is occupied by an explorer bot and hence a potential recruit.\n",
    "n.b. explorer map should have current relay chain members removed."
   ]
  },
  {
   "cell_type": "code",
   "execution_count": 11,
   "metadata": {
    "collapsed": false
   },
   "outputs": [
    {
     "data": {
      "text/plain": [
       "1"
      ]
     },
     "execution_count": 11,
     "metadata": {},
     "output_type": "execute_result"
    }
   ],
   "source": [
    "e = d[0]\n",
    "e"
   ]
  },
  {
   "cell_type": "code",
   "execution_count": 12,
   "metadata": {
    "collapsed": false
   },
   "outputs": [
    {
     "name": "stdout",
     "output_type": "stream",
     "text": [
      "[ 2.]\n"
     ]
    }
   ],
   "source": [
    "if explorer_bot_map[y, x + nx + nx*(e)]:\n",
    "    print(explorer_bot_map[y, x + nx + nx*(e)])"
   ]
  },
  {
   "cell_type": "markdown",
   "metadata": {},
   "source": [
    "There is! \n",
    "Now find where the line of potential recruits within the sense range stops by finding the second point at which the value on the explorer bot map changes from occupied to unoccupied.\n",
    "(i.e.Repeat the operation used for the bot_map.)"
   ]
  },
  {
   "cell_type": "code",
   "execution_count": 13,
   "metadata": {
    "collapsed": false
   },
   "outputs": [
    {
     "name": "stderr",
     "output_type": "stream",
     "text": [
      "/home/hemma/.local/lib/python3.5/site-packages/ipykernel/__main__.py:1: VisibleDeprecationWarning: converting an array with ndim > 0 to an index will result in an error in the future\n",
      "  if __name__ == '__main__':\n"
     ]
    },
    {
     "data": {
      "text/plain": [
       "array([[ 0.,  2.,  0.,  0.]])"
      ]
     },
     "execution_count": 13,
     "metadata": {},
     "output_type": "execute_result"
    }
   ],
   "source": [
    "g = explorer_bot_map[y,x+nx:x+(nx*sense_range):nx]\n",
    "g"
   ]
  },
  {
   "cell_type": "code",
   "execution_count": 14,
   "metadata": {
    "collapsed": false
   },
   "outputs": [
    {
     "data": {
      "text/plain": [
       "(array([0, 1]),)"
      ]
     },
     "execution_count": 14,
     "metadata": {},
     "output_type": "execute_result"
    }
   ],
   "source": [
    "h = np.where(g[0][:-1]!=g[0][1:])\n",
    "h"
   ]
  },
  {
   "cell_type": "markdown",
   "metadata": {},
   "source": [
    "And, like before add 1 to each value"
   ]
  },
  {
   "cell_type": "code",
   "execution_count": 15,
   "metadata": {
    "collapsed": false
   },
   "outputs": [
    {
     "data": {
      "text/plain": [
       "array([1, 2])"
      ]
     },
     "execution_count": 15,
     "metadata": {},
     "output_type": "execute_result"
    }
   ],
   "source": [
    "i = h[0]+1\n",
    "i"
   ]
  },
  {
   "cell_type": "code",
   "execution_count": 16,
   "metadata": {
    "collapsed": false
   },
   "outputs": [
    {
     "data": {
      "text/plain": [
       "1"
      ]
     },
     "execution_count": 16,
     "metadata": {},
     "output_type": "execute_result"
    }
   ],
   "source": [
    "j = i[0]\n",
    "j"
   ]
  },
  {
   "cell_type": "markdown",
   "metadata": {},
   "source": [
    "Does a second point exist where the value changes from occupied back to unoccupied? If so, store this value. If not, "
   ]
  },
  {
   "cell_type": "code",
   "execution_count": 17,
   "metadata": {
    "collapsed": false
   },
   "outputs": [
    {
     "data": {
      "text/plain": [
       "4"
      ]
     },
     "execution_count": 17,
     "metadata": {},
     "output_type": "execute_result"
    }
   ],
   "source": [
    "try:\n",
    "    k = e[0][1]\n",
    "except IndexError:\n",
    "    k = len(g[0])\n",
    "k"
   ]
  },
  {
   "cell_type": "code",
   "execution_count": 18,
   "metadata": {
    "collapsed": false
   },
   "outputs": [],
   "source": [
    "# t = np.array([1,2,3,4,5,6,7,8,9])\n",
    "# from scipy.ndimage.interpolation import shift\n",
    "# z=shift(t,3)\n",
    "# #z=shift(a[0],3)\n",
    "# z"
   ]
  },
  {
   "cell_type": "code",
   "execution_count": 46,
   "metadata": {
    "collapsed": false
   },
   "outputs": [],
   "source": [
    "bot_map = np.array([[0,0,0,0,1,1,1,0,0,1,1,0], \n",
    "                    [0,0,0,0,1,1,1,0,0,0,1,0], \n",
    "                    [0,0,0,0,1,1,1,0,0,0,1,0], \n",
    "                    [0,0,0,0,1,1,1,0,0,1,1,0]])"
   ]
  },
  {
   "cell_type": "code",
   "execution_count": 53,
   "metadata": {
    "collapsed": false
   },
   "outputs": [
    {
     "name": "stdout",
     "output_type": "stream",
     "text": [
      "[[0 0 0 0 0 0 0 0 0 0 0 1]\n",
      " [0 0 0 0 1 1 1 0 0 0 1 0]\n",
      " [0 0 0 0 1 1 1 0 0 0 1 0]\n",
      " [0 0 0 0 1 1 1 0 0 1 1 0]]\n"
     ]
    },
    {
     "data": {
      "text/plain": [
       "array([[0, 0, 0, 0, 0, 0, 0, 0, 0, 0, 0, 1],\n",
       "       [0, 0, 0, 0, 0, 0, 1, 0, 0, 0, 1, 0],\n",
       "       [0, 0, 0, 0, 1, 1, 1, 0, 0, 0, 1, 0],\n",
       "       [0, 0, 0, 0, 1, 1, 1, 0, 0, 1, 1, 0]])"
      ]
     },
     "execution_count": 53,
     "metadata": {},
     "output_type": "execute_result"
    }
   ],
   "source": [
    "from scipy.ndimage.interpolation import shift\n",
    "# print(bot_map)\n",
    "# print(bot_map[1,:][1:4])\n",
    "# bot_map[0,:][1:4] = shift(bot_map[0,:][1:4], 3)\n",
    "# bot_map\n",
    "print(bot_map)\n",
    "bot_map[1][4:6] = shift(bot_map[1][4:6],2)\n",
    "bot_map"
   ]
  },
  {
   "cell_type": "markdown",
   "metadata": {},
   "source": [
    "to shift a section of a column"
   ]
  },
  {
   "cell_type": "code",
   "execution_count": 40,
   "metadata": {
    "collapsed": false
   },
   "outputs": [
    {
     "name": "stdout",
     "output_type": "stream",
     "text": [
      "[0 1 0]\n"
     ]
    },
    {
     "data": {
      "text/plain": [
       "array([[0, 0, 0, 0, 1, 1, 1, 0, 0, 0, 0, 0],\n",
       "       [0, 0, 0, 0, 1, 1, 1, 0, 0, 0, 0, 0],\n",
       "       [0, 0, 0, 0, 1, 1, 1, 0, 0, 1, 0, 0],\n",
       "       [0, 0, 0, 0, 1, 1, 1, 0, 0, 1, 0, 0]])"
      ]
     },
     "execution_count": 40,
     "metadata": {},
     "output_type": "execute_result"
    }
   ],
   "source": [
    "print(bot_map[:,-3][0:3])\n",
    "bot_map[:,-3][0:3] = shift(bot_map[:,-3][0:3],1)\n",
    "bot_map"
   ]
  },
  {
   "cell_type": "code",
   "execution_count": 21,
   "metadata": {
    "collapsed": false
   },
   "outputs": [
    {
     "ename": "NameError",
     "evalue": "name 'p' is not defined",
     "output_type": "error",
     "traceback": [
      "\u001b[1;31m---------------------------------------------------------------------------\u001b[0m",
      "\u001b[1;31mNameError\u001b[0m                                 Traceback (most recent call last)",
      "\u001b[1;32m<ipython-input-21-e45b901341bf>\u001b[0m in \u001b[0;36m<module>\u001b[1;34m()\u001b[0m\n\u001b[1;32m----> 1\u001b[1;33m \u001b[0mshift\u001b[0m\u001b[1;33m(\u001b[0m\u001b[0mp\u001b[0m\u001b[1;33m,\u001b[0m\u001b[1;36m3\u001b[0m\u001b[1;33m)\u001b[0m\u001b[1;33m\u001b[0m\u001b[0m\n\u001b[0m",
      "\u001b[1;31mNameError\u001b[0m: name 'p' is not defined"
     ]
    }
   ],
   "source": [
    "shift(p,3)"
   ]
  },
  {
   "cell_type": "code",
   "execution_count": null,
   "metadata": {
    "collapsed": true
   },
   "outputs": [],
   "source": []
  },
  {
   "cell_type": "code",
   "execution_count": null,
   "metadata": {
    "collapsed": false
   },
   "outputs": [],
   "source": [
    "\n",
    "\n",
    "# Out[9]: array([0, 0, 0, 1, 2, 3, 4, 5, 6])\n",
    "\n",
    "# In [10]: shift(a[1:2],3)\n",
    "# Out[10]: array([0])\n",
    "\n",
    "# In [11]: shift(a[1:5],3)\n",
    "# Out[11]: array([0, 0, 0, 2])\n",
    "\n",
    "# In [12]: a\n",
    "# Out[12]: array([1, 2, 3, 4, 5, 6, 7, 8, 9])\n",
    "\n",
    "# In [13]: a=shift(a[1:5],3)\n",
    "\n",
    "# In [14]: a\n",
    "# Out[14]: array([0, 0, 0, 2])\n",
    "\n",
    "# In [15]: a = np.array([1,2,3,4,5,6,7,8,9])\n",
    "\n",
    "# In [16]: a[1:5]=shift(a[1:5],3)\n",
    "\n",
    "# In [17]: a\n",
    "# Out[17]: array([1, 0, 0, 0, 2, 6, 7, 8, 9])\n",
    "\n",
    "# In [18]: np.roll(a,2,0)\n",
    "# Out[18]: array([8, 9, 1, 0, 0, 0, 2, 6, 7])\n",
    "\n",
    "# In [19]: b=np.array([[1,2,3],[3,4,5]])\n",
    "\n",
    "# In [20]: np.roll(b,2,1)\n",
    "# Out[20]: \n",
    "# array([[2, 3, 1],\n",
    "#        [4, 5, 3]])\n",
    "\n",
    "# In [21]: np.roll(b,2,0)\n",
    "# Out[21]: \n",
    "# array([[1, 2, 3],\n",
    "#        [3, 4, 5]])\n",
    "\n",
    "# In [22]: np.roll(b[:,1],2,0)\n",
    "# Out[22]: array([2, 4])\n",
    "\n",
    "# In [23]: b\n",
    "# Out[23]: \n",
    "# array([[1, 2, 3],\n",
    "#        [3, 4, 5]])\n",
    "\n",
    "# In [24]: b[:,1]=np.roll(b[:,1],2,0)\n",
    "\n",
    "# In [25]: b\n",
    "# Out[25]: \n",
    "# array([[1, 2, 3],\n",
    "#        [3, 4, 5]])\n",
    "\n",
    "# In [26]: b[:,1]=np.roll(b[:,1],1,0)\n",
    "\n",
    "# In [27]: b\n",
    "# Out[27]: \n",
    "# array([[1, 4, 3],\n",
    "#        [3, 2, 5]])\n",
    "\n",
    "# In [28]: b[:,1]=shift(b[:,1],1,0)\n",
    "# ---------------------------------------------------------------------------\n",
    "# AttributeError                            Traceback (most recent call last)\n",
    "# <ipython-input-28-32e9cb71843d> in <module>()\n",
    "# ----> 1 b[:,1]=shift(b[:,1],1,0)\n",
    "\n",
    "# /usr/lib/python2.7/dist-packages/scipy/ndimage/interpolation.pyc in shift(input, shift, output, order, mode, cval, prefilter)\n",
    "#     475     else:\n",
    "#     476         filtered = input\n",
    "# --> 477     output, return_value = _ni_support._get_output(output, input)\n",
    "#     478     shift = _ni_support._normalize_sequence(shift, input.ndim)\n",
    "#     479     shift = [-ii for ii in shift]\n",
    "\n",
    "# /usr/lib/python2.7/dist-packages/scipy/ndimage/_ni_support.pyc in _get_output(output, input, shape)\n",
    "#      82         return_value = output\n",
    "#      83     else:\n",
    "# ---> 84         if output.shape != shape:\n",
    "#      85             raise RuntimeError(\"output shape not correct\")\n",
    "#      86         return_value = None\n",
    "\n",
    "# AttributeError: 'int' object has no attribute 'shape'\n",
    "\n",
    "# In [29]: b[:,1]=shift(b[:,1],0)\n",
    "\n",
    "# In [30]: b\n",
    "# Out[30]: \n",
    "# array([[1, 4, 3],\n",
    "#        [3, 2, 5]])\n",
    "\n",
    "# In [31]: b[:,1]=shift(b[:,1],3)\n",
    "\n",
    "# In [32]: b\n",
    "# Out[32]: \n",
    "# array([[1, 0, 3],\n",
    "#        [3, 0, 5]])\n",
    "\n",
    "# In [33]: \n",
    "# KeyboardInterrupt\n"
   ]
  },
  {
   "cell_type": "code",
   "execution_count": null,
   "metadata": {
    "collapsed": true
   },
   "outputs": [],
   "source": []
  }
 ],
 "metadata": {
  "kernelspec": {
   "display_name": "Python 3",
   "language": "python",
   "name": "python3"
  },
  "language_info": {
   "codemirror_mode": {
    "name": "ipython",
    "version": 3
   },
   "file_extension": ".py",
   "mimetype": "text/x-python",
   "name": "python",
   "nbconvert_exporter": "python",
   "pygments_lexer": "ipython3",
   "version": "3.5.1+"
  }
 },
 "nbformat": 4,
 "nbformat_minor": 0
}
