{
 "cells": [
  {
   "cell_type": "code",
   "execution_count": null,
   "metadata": {
    "collapsed": true
   },
   "outputs": [],
   "source": [
    "# from \n",
    "# convex hull\n",
    "# http://scipy-cookbook.readthedocs.io/items/Finding_Convex_Hull.html\n",
    "# polygon area\n",
    "# https://stackoverflow.com/questions/451426/how-do-i-calculate-the-area-of-a-2d-polygon\n",
    "# https://stackoverflow.com/questions/19873596/convex-hull-area-in-python"
   ]
  },
  {
   "cell_type": "code",
   "execution_count": 55,
   "metadata": {
    "collapsed": false
   },
   "outputs": [
    {
     "name": "stdout",
     "output_type": "stream",
     "text": [
      "points [[ 0.7698389   0.08847983  0.79931418  0.41952271  0.9133043   0.23924974\n",
      "   0.33197126  0.32517797  0.8941761   0.32173033  0.60798891  0.52512808\n",
      "   0.74566242  0.86374929  0.57622165  0.93854834  0.33275839  0.84517628\n",
      "   0.78140856  0.61558459  0.35562745  0.37271865  0.92946178  0.72784018\n",
      "   0.19608432  0.58476346  0.87474331  0.18976059  0.04571221  0.49770825\n",
      "   0.87891007  0.54678765  0.36934205  0.75319799  0.52341895  0.00290689\n",
      "   0.16930123  0.7251259   0.82605808  0.4521769 ]\n",
      " [ 0.26277693  0.71598513  0.8289485   0.95758287  0.36336192  0.25465523\n",
      "   0.68435603  0.32260604  0.08959099  0.47061573  0.1504864   0.0622639\n",
      "   0.06243631  0.20393662  0.98309463  0.35614645  0.44626234  0.22319957\n",
      "   0.15925836  0.3441295   0.86766746  0.78170709  0.15312141  0.72133848\n",
      "   0.44873209  0.77225868  0.7127836   0.78473316  0.92594481  0.34717071\n",
      "   0.94713695  0.15281433  0.74384453  0.63800578  0.10816092  0.44129068\n",
      "   0.34318957  0.01505598  0.65814762  0.85881325]]\n",
      "[[ 0.7251259   0.01505598]\n",
      " [ 0.8941761   0.08959099]\n",
      " [ 0.92946178  0.15312141]\n",
      " [ 0.93854834  0.35614645]\n",
      " [ 0.87891007  0.94713695]\n",
      " [ 0.57622165  0.98309463]\n",
      " [ 0.04571221  0.92594481]\n",
      " [ 0.00290689  0.44129068]\n",
      " [ 0.23924974  0.25465523]\n",
      " [ 0.52512808  0.0622639 ]]\n",
      "end\n"
     ]
    }
   ],
   "source": [
    "import numpy as n, pylab as p, time\n",
    "import random\n",
    "\n",
    "def main():\n",
    "    points = n.random.random_sample((2,40))\n",
    "    print(\"points\",points)\n",
    "    hull_pts = convex_hull(points)\n",
    "    print(hull_pts)\n",
    "    \n",
    "def area(p):\n",
    "    return 0.5 * abs(sum(x0*y1 - x1*y0\n",
    "                         for ((x0, y0), (x1, y1)) in segments(p)))\n",
    "\n",
    "def PolyArea2D(pts):\n",
    "    lines = n.hstack([pts,n.roll(pts,-1,axis=0)])\n",
    "    area = 0.5*abs(sum(x1*y2-x2*y1 for x1,y1,x2,y2 in lines))\n",
    "    return area\n",
    "\n",
    "def segments(p):\n",
    "    return zip(p, p[1:] + [p[0]])\n",
    "\n",
    "def xrange(x):\n",
    "\n",
    "    return iter(range(x))\n",
    "\n",
    "def _angle_to_point(point, centre):\n",
    "    '''calculate angle in 2-D between points and x axis'''\n",
    "    delta = point - centre\n",
    "    res = n.arctan(delta[1] / delta[0])\n",
    "    if delta[0] < 0:\n",
    "        res += n.pi\n",
    "    return res\n",
    "\n",
    "\n",
    "def _draw_triangle(p1, p2, p3, **kwargs):\n",
    "    tmp = n.vstack((p1,p2,p3))\n",
    "    x,y = [x[0] for x in zip(tmp.transpose())]\n",
    "    p.fill(x,y, **kwargs)\n",
    "    #time.sleep(0.2)\n",
    "\n",
    "\n",
    "def area_of_triangle(p1, p2, p3):\n",
    "    '''calculate area of any triangle given co-ordinates of the corners'''\n",
    "    return n.linalg.norm(n.cross((p2 - p1), (p3 - p1)))/2.\n",
    "\n",
    "\n",
    "def convex_hull(points, graphic=True, smidgen=0.0075):\n",
    "    '''Calculate subset of points that make a convex hull around points\n",
    "\n",
    "Recursively eliminates points that lie inside two neighbouring points until only convex hull is remaining.\n",
    "\n",
    ":Parameters:\n",
    "    points : ndarray (2 x m)\n",
    "        array of points for which to find hull\n",
    "    graphic : bool\n",
    "        use pylab to show progress?\n",
    "    smidgen : float\n",
    "        offset for graphic number labels - useful values depend on your data range\n",
    "\n",
    ":Returns:\n",
    "    hull_points : ndarray (2 x n)\n",
    "        convex hull surrounding points\n",
    "'''\n",
    "    if graphic:\n",
    "        p.clf()\n",
    "        p.plot(points[0], points[1], 'ro')\n",
    "    n_pts = points.shape[1]\n",
    "    assert(n_pts > 5)\n",
    "    centre = points.mean(1)\n",
    "    if graphic: p.plot((centre[0],),(centre[1],),'bo')\n",
    "    angles = n.apply_along_axis(_angle_to_point, 0, points, centre)\n",
    "    pts_ord = points[:,angles.argsort()]\n",
    "    if graphic:\n",
    "        for i in xrange(n_pts):\n",
    "            p.text(pts_ord[0,i] + smidgen, pts_ord[1,i] + smidgen, \\\n",
    "                   '%d' % i)\n",
    "    pts = [x[0] for x in zip(pts_ord.transpose())]\n",
    "    prev_pts = len(pts) + 1\n",
    "    k = 0\n",
    "    while prev_pts > n_pts:\n",
    "        prev_pts = n_pts\n",
    "        n_pts = len(pts)\n",
    "        if graphic: p.gca().patches = []\n",
    "        i = -2\n",
    "        while i < (n_pts - 2):\n",
    "            Aij = area_of_triangle(centre, pts[i],     pts[(i + 1) % n_pts])\n",
    "            Ajk = area_of_triangle(centre, pts[(i + 1) % n_pts], \\\n",
    "                                   pts[(i + 2) % n_pts])\n",
    "            Aik = area_of_triangle(centre, pts[i],     pts[(i + 2) % n_pts])\n",
    "            if graphic:\n",
    "                _draw_triangle(centre, pts[i], pts[(i + 1) % n_pts], \\\n",
    "                               facecolor='blue', alpha = 0.2)\n",
    "                _draw_triangle(centre, pts[(i + 1) % n_pts], \\\n",
    "                               pts[(i + 2) % n_pts], \\\n",
    "                               facecolor='green', alpha = 0.2)\n",
    "                _draw_triangle(centre, pts[i], pts[(i + 2) % n_pts], \\\n",
    "                               facecolor='red', alpha = 0.2)\n",
    "            if Aij + Ajk < Aik:\n",
    "                if graphic: p.plot((pts[i + 1][0],),(pts[i + 1][1],),'go')\n",
    "                del pts[i+1]\n",
    "            i += 1\n",
    "            n_pts = len(pts)\n",
    "        k += 1\n",
    "    return n.asarray(pts)\n",
    "\n",
    "if __name__ == \"__main__\":\n",
    "    try:\n",
    "        main()\n",
    "    finally:\n",
    "        print(\"end\")\n",
    "#     points = n.random.random_sample((2,40))\n",
    "#     hull_pts = convex_hull(points)"
   ]
  },
  {
   "cell_type": "code",
   "execution_count": 57,
   "metadata": {
    "collapsed": false
   },
   "outputs": [
    {
     "name": "stdout",
     "output_type": "stream",
     "text": [
      "1.0\n",
      "0.813952759713\n"
     ]
    }
   ],
   "source": [
    "A = area(hull_pts)\n",
    "A\n",
    "\n",
    "pts = [[0,0],[1,0],[1,1],[0,1]]\n",
    "print(PolyArea2D(pts)) \n",
    "print(PolyArea2D(hull_pts))\n",
    "print(A)"
   ]
  },
  {
   "cell_type": "code",
   "execution_count": 36,
   "metadata": {
    "collapsed": false
   },
   "outputs": [],
   "source": [
    "#p.show()"
   ]
  },
  {
   "cell_type": "code",
   "execution_count": 41,
   "metadata": {
    "collapsed": false
   },
   "outputs": [],
   "source": [
    "points = n.zeros(10000)\n",
    "points[1:300] = n.random.randint(1,9)\n",
    "random.shuffle(points)"
   ]
  },
  {
   "cell_type": "code",
   "execution_count": 42,
   "metadata": {
    "collapsed": false
   },
   "outputs": [
    {
     "data": {
      "text/plain": [
       "array([[ 0.,  0.,  0., ...,  0.,  0.,  0.],\n",
       "       [ 0.,  0.,  0., ...,  6.,  0.,  0.],\n",
       "       [ 0.,  0.,  0., ...,  0.,  0.,  0.],\n",
       "       ..., \n",
       "       [ 0.,  0.,  0., ...,  0.,  0.,  0.],\n",
       "       [ 0.,  0.,  0., ...,  0.,  0.,  0.],\n",
       "       [ 0.,  0.,  0., ...,  0.,  0.,  0.]])"
      ]
     },
     "execution_count": 42,
     "metadata": {},
     "output_type": "execute_result"
    }
   ],
   "source": [
    "points.reshape(100,100)"
   ]
  },
  {
   "cell_type": "code",
   "execution_count": 43,
   "metadata": {
    "collapsed": false
   },
   "outputs": [
    {
     "data": {
      "text/plain": [
       "(array([  37,   66,  116,  176,  197,  207,  255,  272,  295,  341,  361,\n",
       "         374,  491,  521,  710,  751,  756,  821,  854,  859,  903,  940,\n",
       "         941,  964, 1059, 1078, 1088, 1092, 1153, 1181, 1189, 1221, 1238,\n",
       "        1355, 1398, 1407, 1444, 1486, 1504, 1529, 1576, 1585, 1593, 1597,\n",
       "        1688, 1689, 1690, 1691, 1703, 1764, 1802, 1864, 1917, 1922, 1993,\n",
       "        2011, 2021, 2026, 2069, 2152, 2160, 2275, 2283, 2296, 2347, 2351,\n",
       "        2364, 2366, 2388, 2411, 2426, 2441, 2447, 2479, 2503, 2552, 2567,\n",
       "        2569, 2573, 2590, 2633, 2671, 2751, 2808, 2827, 2841, 2859, 2875,\n",
       "        2934, 2990, 3005, 3074, 3084, 3087, 3097, 3132, 3142, 3143, 3312,\n",
       "        3364, 3373, 3439, 3445, 3452, 3462, 3529, 3552, 3565, 3569, 3590,\n",
       "        3639, 3679, 3747, 3758, 3797, 3798, 3805, 3849, 3878, 3957, 4046,\n",
       "        4109, 4114, 4131, 4195, 4207, 4340, 4368, 4406, 4432, 4480, 4511,\n",
       "        4558, 4575, 4594, 4605, 4610, 4621, 4623, 4628, 4647, 4656, 4666,\n",
       "        4691, 4711, 4737, 4856, 4918, 4950, 4959, 4970, 4973, 5052, 5064,\n",
       "        5147, 5167, 5240, 5313, 5320, 5371, 5423, 5430, 5435, 5467, 5485,\n",
       "        5500, 5550, 5569, 5579, 5583, 5690, 5694, 5710, 5722, 5740, 5885,\n",
       "        5890, 5902, 5946, 6039, 6049, 6060, 6097, 6101, 6110, 6114, 6200,\n",
       "        6210, 6252, 6279, 6327, 6392, 6450, 6463, 6480, 6481, 6534, 6555,\n",
       "        6571, 6688, 6691, 6735, 6758, 6759, 6761, 6791, 6866, 6944, 7041,\n",
       "        7055, 7060, 7100, 7107, 7117, 7169, 7279, 7308, 7337, 7348, 7380,\n",
       "        7389, 7420, 7459, 7460, 7484, 7548, 7562, 7566, 7616, 7621, 7660,\n",
       "        7725, 7743, 7756, 7802, 7826, 7942, 7974, 8016, 8113, 8122, 8185,\n",
       "        8238, 8260, 8267, 8343, 8353, 8371, 8398, 8434, 8462, 8482, 8486,\n",
       "        8492, 8500, 8523, 8556, 8658, 8675, 8694, 8712, 8734, 8846, 8855,\n",
       "        8930, 8979, 8989, 9028, 9075, 9115, 9125, 9156, 9214, 9248, 9289,\n",
       "        9305, 9311, 9322, 9326, 9423, 9479, 9520, 9538, 9544, 9547, 9548,\n",
       "        9550, 9654, 9687, 9696, 9742, 9781, 9786, 9841, 9843, 9845, 9849,\n",
       "        9938, 9945]),)"
      ]
     },
     "execution_count": 43,
     "metadata": {},
     "output_type": "execute_result"
    }
   ],
   "source": [
    "n.where(points)"
   ]
  },
  {
   "cell_type": "code",
   "execution_count": null,
   "metadata": {
    "collapsed": true
   },
   "outputs": [],
   "source": []
  }
 ],
 "metadata": {
  "kernelspec": {
   "display_name": "Python 3",
   "language": "python",
   "name": "python3"
  },
  "language_info": {
   "codemirror_mode": {
    "name": "ipython",
    "version": 3
   },
   "file_extension": ".py",
   "mimetype": "text/x-python",
   "name": "python",
   "nbconvert_exporter": "python",
   "pygments_lexer": "ipython3",
   "version": "3.5.2"
  }
 },
 "nbformat": 4,
 "nbformat_minor": 0
}
