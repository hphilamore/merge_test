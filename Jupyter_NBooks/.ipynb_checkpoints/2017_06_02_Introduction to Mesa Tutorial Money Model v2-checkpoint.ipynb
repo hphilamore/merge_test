{
 "cells": [
  {
   "cell_type": "code",
   "execution_count": 130,
   "metadata": {
    "collapsed": true
   },
   "outputs": [],
   "source": [
    "from mesa import Agent, Model\n",
    "from mesa.time import RandomActivation\n",
    "from mesa.space import MultiGrid\n",
    "from mesa.datacollection import DataCollector\n",
    "from mesa.batchrunner import BatchRunner\n",
    "\n",
    "import matplotlib.pyplot as plt\n",
    "import random\n",
    "import numpy as np\n",
    "\n",
    "from mesa.visualization.modules import CanvasGrid\n",
    "from mesa.visualization.ModularVisualization import ModularServer\n",
    "# If MoneyModel.py is where your code is:\n",
    "# from MoneyModel import MoneyModel"
   ]
  },
  {
   "cell_type": "code",
   "execution_count": 131,
   "metadata": {
    "collapsed": true
   },
   "outputs": [],
   "source": [
    "def compute_gini(model):\n",
    "    agent_wealths = [agent.wealth for agent in model.schedule.agents]\n",
    "    x = sorted(agent_wealths)\n",
    "    N = model.num_agents\n",
    "    B = sum( xi * (N-i) for i,xi in enumerate(x) ) / (N*sum(x))\n",
    "    return (1 + (1/N) - 2*B)"
   ]
  },
  {
   "cell_type": "code",
   "execution_count": 132,
   "metadata": {
    "collapsed": true
   },
   "outputs": [],
   "source": [
    "def agent_portrayal(agent):\n",
    "    portrayal = {\"Shape\": \"circle\",\n",
    "        \"Color\": \"red\",\n",
    "        \"Filled\": \"true\",\n",
    "        \"Layer\": 0,\n",
    "        \"r\": 0.5}\n",
    "    return portrayal"
   ]
  },
  {
   "cell_type": "code",
   "execution_count": 133,
   "metadata": {
    "collapsed": false
   },
   "outputs": [],
   "source": [
    "# parameters = {\"width\": 10,\n",
    "#               \"height\": 10,\n",
    "#               \"N\": range(10, 500, 10)}\n",
    "\n",
    "# batch_run = BatchRunner(MoneyModel,\n",
    "#                         parameters,\n",
    "#                         iterations=5,\n",
    "#                         max_steps=100,\n",
    "#                         model_reporters={\"Gini\": compute_gini})\n",
    "# batch_run.run_all()"
   ]
  },
  {
   "cell_type": "code",
   "execution_count": 154,
   "metadata": {
    "collapsed": false
   },
   "outputs": [],
   "source": [
    "class MoneyAgent(Agent):\n",
    "    \"\"\"An agent with fixed initial wealth.\"\"\"\n",
    "    def __init__(self, unique_id, model):\n",
    "        super().__init__(unique_id, model)\n",
    "        self.wealth = 1\n",
    "        \n",
    "    def step(self):\n",
    "        # The agent's step will go here.\n",
    "        #print(self.unique_id)        \n",
    "        self.move()\n",
    "        if self.wealth > 0:\n",
    "            self.give_money()\n",
    "#         if self.wealth == 0:\n",
    "#             return\n",
    "#         other_agent = random.choice(self.model.schedule.agents)\n",
    "#         other_agent.wealth += 1\n",
    "#         self.wealth -= 1\n",
    "        pass    \n",
    "    \n",
    "    def move(self):\n",
    "        possible_steps = self.model.grid.get_neighborhood(\n",
    "        self.pos,\n",
    "        moore=True,\n",
    "        include_center=False)\n",
    "        new_position = random.choice(possible_steps)\n",
    "        self.model.grid.move_agent(self, new_position)\n",
    "        \n",
    "    def give_money(self):\n",
    "        cellmates = self.model.grid.get_cell_list_contents([self.pos])\n",
    "        if len(cellmates) > 1:\n",
    "            other = random.choice(cellmates)\n",
    "            other.wealth += 1\n",
    "            self.wealth -= 1"
   ]
  },
  {
   "cell_type": "code",
   "execution_count": 155,
   "metadata": {
    "collapsed": false
   },
   "outputs": [
    {
     "name": "stdout",
     "output_type": "stream",
     "text": [
      "{\"type\":\"get_step\",\"step\":669}\n"
     ]
    }
   ],
   "source": [
    "class MoneyModel(Model):\n",
    "    \"\"\"A model with some number of agents.\"\"\"\n",
    "    def __init__(self, N, width, height):\n",
    "        self.num_agents = N\n",
    "        self.grid = MultiGrid(width, height, False)\n",
    "        self.schedule = RandomActivation(self)\n",
    "        self.running = True\n",
    "        \n",
    "    # Create agents\n",
    "        for i in range(self.num_agents):\n",
    "            a = MoneyAgent(i, self)\n",
    "            self.schedule.add(a)\n",
    "            \n",
    "            # Add the agent to a random grid cell\n",
    "            x = random.randrange(self.grid.width)\n",
    "            y = random.randrange(self.grid.height)\n",
    "            self.grid.place_agent(a, (x, y))\n",
    "            \n",
    "        self.datacollector = DataCollector(\n",
    "            model_reporters={\"Gini\": compute_gini},\n",
    "            agent_reporters={\"Wealth\": lambda a: a.wealth})\n",
    "            \n",
    "    def step(self):\n",
    "        '''Advance the model by one step.'''\n",
    "        self.datacollector.collect(self)\n",
    "        self.schedule.step()"
   ]
  },
  {
   "cell_type": "code",
   "execution_count": 156,
   "metadata": {
    "collapsed": false
   },
   "outputs": [],
   "source": [
    "empty_model = MoneyModel(10, 10, 10)\n",
    "for i in range(2):\n",
    "    empty_model.step()"
   ]
  },
  {
   "cell_type": "code",
   "execution_count": 157,
   "metadata": {
    "collapsed": false
   },
   "outputs": [
    {
     "name": "stdout",
     "output_type": "stream",
     "text": [
      "{\"type\":\"get_step\",\"step\":670}\n"
     ]
    }
   ],
   "source": [
    "%matplotlib inline"
   ]
  },
  {
   "cell_type": "code",
   "execution_count": 158,
   "metadata": {
    "collapsed": false
   },
   "outputs": [
    {
     "data": {
      "text/plain": [
       "(array([ 1.,  0.,  0.,  0.,  0.,  8.,  0.,  0.,  0.,  1.]),\n",
       " array([ 0. ,  0.2,  0.4,  0.6,  0.8,  1. ,  1.2,  1.4,  1.6,  1.8,  2. ]),\n",
       " <a list of 10 Patch objects>)"
      ]
     },
     "execution_count": 158,
     "metadata": {},
     "output_type": "execute_result"
    },
    {
     "data": {
      "image/png": "[encoded data removed]",
      "text/plain": [
       "<matplotlib.figure.Figure at 0x7f336bef2710>"
      ]
     },
     "metadata": {},
     "output_type": "display_data"
    }
   ],
   "source": [
    "agent_wealth = [a.wealth for a in empty_model.schedule.agents]\n",
    "plt.hist(agent_wealth)"
   ]
  },
  {
   "cell_type": "code",
   "execution_count": 159,
   "metadata": {
    "collapsed": false
   },
   "outputs": [
    {
     "data": {
      "text/plain": [
       "(array([ 233.,  556.,  190.,   21.]),\n",
       " array([0, 1, 2, 3, 4]),\n",
       " <a list of 4 Patch objects>)"
      ]
     },
     "execution_count": 159,
     "metadata": {},
     "output_type": "execute_result"
    },
    {
     "data": {
      "image/png": "[encoded data removed]",
      "text/plain": [
       "<matplotlib.figure.Figure at 0x7f336829bc88>"
      ]
     },
     "metadata": {},
     "output_type": "display_data"
    }
   ],
   "source": [
    "all_wealth = []\n",
    "for j in range(100):\n",
    "    \n",
    "    # Run the model\n",
    "    model = MoneyModel(10, 10, 10)\n",
    "    for i in range(10):\n",
    "        model.step()\n",
    "        \n",
    "        # Store the results\n",
    "    for agent in model.schedule.agents:\n",
    "        all_wealth.append(agent.wealth)\n",
    "        \n",
    "plt.hist(all_wealth, bins=range(max(all_wealth)+1))"
   ]
  },
  {
   "cell_type": "code",
   "execution_count": 160,
   "metadata": {
    "collapsed": false
   },
   "outputs": [
    {
     "name": "stdout",
     "output_type": "stream",
     "text": [
      "{\"type\":\"get_step\",\"step\":671}\n"
     ]
    }
   ],
   "source": [
    "model = MoneyModel(50, 10, 10)\n",
    "for i in range(20):\n",
    "    model.step()"
   ]
  },
  {
   "cell_type": "code",
   "execution_count": 161,
   "metadata": {
    "collapsed": false
   },
   "outputs": [
    {
     "data": {
      "text/plain": [
       "<matplotlib.colorbar.Colorbar at 0x7f3395cf0cc0>"
      ]
     },
     "execution_count": 161,
     "metadata": {},
     "output_type": "execute_result"
    },
    {
     "data": {
      "image/png": "[encoded data removed]",
      "text/plain": [
       "<matplotlib.figure.Figure at 0x7f336befd208>"
      ]
     },
     "metadata": {},
     "output_type": "display_data"
    }
   ],
   "source": [
    "agent_counts = np.zeros((model.grid.width, model.grid.height))\n",
    "for cell in model.grid.coord_iter():\n",
    "    cell_content, x, y = cell\n",
    "    agent_count = len(cell_content)\n",
    "    agent_counts[x][y] = agent_count\n",
    "plt.imshow(agent_counts, interpolation='nearest')\n",
    "plt.colorbar()"
   ]
  },
  {
   "cell_type": "code",
   "execution_count": 162,
   "metadata": {
    "collapsed": false
   },
   "outputs": [
    {
     "name": "stdout",
     "output_type": "stream",
     "text": [
      "{\"type\":\"get_step\",\"step\":672}\n",
      "      Gini\n",
      "0   0.0000\n",
      "1   0.3328\n",
      "2   0.4760\n",
      "3   0.5656\n",
      "4   0.4824\n",
      "5   0.4928\n",
      "6   0.5400\n",
      "7   0.5704\n",
      "8   0.6008\n",
      "9   0.6304\n",
      "10  0.6336\n",
      "11  0.6520\n",
      "12  0.6520\n",
      "13  0.6392\n",
      "14  0.6240\n",
      "15  0.6352\n",
      "16  0.6304\n",
      "17  0.6144\n",
      "18  0.6240\n",
      "19  0.6184\n"
     ]
    },
    {
     "data": {
      "text/plain": [
       "<matplotlib.axes._subplots.AxesSubplot at 0x7f3397724eb8>"
      ]
     },
     "execution_count": 162,
     "metadata": {},
     "output_type": "execute_result"
    },
    {
     "data": {
      "image/png": "[encoded data removed]",
      "text/plain": [
       "<matplotlib.figure.Figure at 0x7f3395d1b390>"
      ]
     },
     "metadata": {},
     "output_type": "display_data"
    }
   ],
   "source": [
    "gini = model.datacollector.get_model_vars_dataframe()\n",
    "print(gini)\n",
    "gini.plot()"
   ]
  },
  {
   "cell_type": "code",
   "execution_count": 163,
   "metadata": {
    "collapsed": false
   },
   "outputs": [
    {
     "data": {
      "text/html": [
       "<div>\n",
       "<style>\n",
       "    .dataframe thead tr:only-child th {\n",
       "        text-align: right;\n",
       "    }\n",
       "\n",
       "    .dataframe thead th {\n",
       "        text-align: left;\n",
       "    }\n",
       "\n",
       "    .dataframe tbody tr th {\n",
       "        vertical-align: top;\n",
       "    }\n",
       "</style>\n",
       "<table border=\"1\" class=\"dataframe\">\n",
       "  <thead>\n",
       "    <tr style=\"text-align: right;\">\n",
       "      <th></th>\n",
       "      <th></th>\n",
       "      <th>Wealth</th>\n",
       "    </tr>\n",
       "    <tr>\n",
       "      <th>Step</th>\n",
       "      <th>AgentID</th>\n",
       "      <th></th>\n",
       "    </tr>\n",
       "  </thead>\n",
       "  <tbody>\n",
       "    <tr>\n",
       "      <th rowspan=\"5\" valign=\"top\">19</th>\n",
       "      <th>45</th>\n",
       "      <td>1</td>\n",
       "    </tr>\n",
       "    <tr>\n",
       "      <th>46</th>\n",
       "      <td>4</td>\n",
       "    </tr>\n",
       "    <tr>\n",
       "      <th>47</th>\n",
       "      <td>1</td>\n",
       "    </tr>\n",
       "    <tr>\n",
       "      <th>48</th>\n",
       "      <td>0</td>\n",
       "    </tr>\n",
       "    <tr>\n",
       "      <th>49</th>\n",
       "      <td>0</td>\n",
       "    </tr>\n",
       "  </tbody>\n",
       "</table>\n",
       "</div>"
      ],
      "text/plain": [
       "              Wealth\n",
       "Step AgentID        \n",
       "19   45            1\n",
       "     46            4\n",
       "     47            1\n",
       "     48            0\n",
       "     49            0"
      ]
     },
     "execution_count": 163,
     "metadata": {},
     "output_type": "execute_result"
    },
    {
     "name": "stdout",
     "output_type": "stream",
     "text": [
      "{\"type\":\"get_step\",\"step\":673}\n"
     ]
    }
   ],
   "source": [
    "agent_wealth = model.datacollector.get_agent_vars_dataframe()\n",
    "agent_wealth.tail()"
   ]
  },
  {
   "cell_type": "code",
   "execution_count": 164,
   "metadata": {
    "collapsed": false
   },
   "outputs": [
    {
     "data": {
      "text/html": [
       "<div>\n",
       "<style>\n",
       "    .dataframe thead tr:only-child th {\n",
       "        text-align: right;\n",
       "    }\n",
       "\n",
       "    .dataframe thead th {\n",
       "        text-align: left;\n",
       "    }\n",
       "\n",
       "    .dataframe tbody tr th {\n",
       "        vertical-align: top;\n",
       "    }\n",
       "</style>\n",
       "<table border=\"1\" class=\"dataframe\">\n",
       "  <thead>\n",
       "    <tr style=\"text-align: right;\">\n",
       "      <th></th>\n",
       "      <th></th>\n",
       "      <th>Wealth</th>\n",
       "    </tr>\n",
       "    <tr>\n",
       "      <th>Step</th>\n",
       "      <th>AgentID</th>\n",
       "      <th></th>\n",
       "    </tr>\n",
       "  </thead>\n",
       "  <tbody>\n",
       "    <tr>\n",
       "      <th rowspan=\"5\" valign=\"top\">0</th>\n",
       "      <th>0</th>\n",
       "      <td>1</td>\n",
       "    </tr>\n",
       "    <tr>\n",
       "      <th>1</th>\n",
       "      <td>1</td>\n",
       "    </tr>\n",
       "    <tr>\n",
       "      <th>2</th>\n",
       "      <td>1</td>\n",
       "    </tr>\n",
       "    <tr>\n",
       "      <th>3</th>\n",
       "      <td>1</td>\n",
       "    </tr>\n",
       "    <tr>\n",
       "      <th>4</th>\n",
       "      <td>1</td>\n",
       "    </tr>\n",
       "  </tbody>\n",
       "</table>\n",
       "</div>"
      ],
      "text/plain": [
       "              Wealth\n",
       "Step AgentID        \n",
       "0    0             1\n",
       "     1             1\n",
       "     2             1\n",
       "     3             1\n",
       "     4             1"
      ]
     },
     "execution_count": 164,
     "metadata": {},
     "output_type": "execute_result"
    }
   ],
   "source": [
    "agent_wealth.head()"
   ]
  },
  {
   "cell_type": "code",
   "execution_count": 165,
   "metadata": {
    "collapsed": false
   },
   "outputs": [
    {
     "name": "stdout",
     "output_type": "stream",
     "text": [
      "{\"type\":\"get_step\",\"step\":674}\n"
     ]
    }
   ],
   "source": [
    "#agent_wealth"
   ]
  },
  {
   "cell_type": "code",
   "execution_count": 166,
   "metadata": {
    "collapsed": false
   },
   "outputs": [
    {
     "data": {
      "text/plain": [
       "<matplotlib.axes._subplots.AxesSubplot at 0x7f3370fb4518>"
      ]
     },
     "execution_count": 166,
     "metadata": {},
     "output_type": "execute_result"
    },
    {
     "data": {
      "image/png": "[encoded data removed]",
      "text/plain": [
       "<matplotlib.figure.Figure at 0x7f3370fe7d30>"
      ]
     },
     "metadata": {},
     "output_type": "display_data"
    }
   ],
   "source": [
    "#to plot the wealth of a given agent (in this example, agent 14):\n",
    "one_agent_wealth = agent_wealth.xs(14, level=\"AgentID\")\n",
    "one_agent_wealth.Wealth.plot()"
   ]
  },
  {
   "cell_type": "code",
   "execution_count": 167,
   "metadata": {
    "collapsed": false
   },
   "outputs": [
    {
     "name": "stdout",
     "output_type": "stream",
     "text": [
      "{\"type\":\"get_step\",\"step\":675}\n"
     ]
    },
    {
     "data": {
      "text/plain": [
       "<matplotlib.axes._subplots.AxesSubplot at 0x7f3368613e48>"
      ]
     },
     "execution_count": 167,
     "metadata": {},
     "output_type": "execute_result"
    },
    {
     "data": {
      "image/png": "[encoded data removed]",
      "text/plain": [
       "<matplotlib.figure.Figure at 0x7f3394dcc0f0>"
      ]
     },
     "metadata": {},
     "output_type": "display_data"
    }
   ],
   "source": [
    "# to get a histogram of agent wealth at the model’s end\n",
    "end_wealth = agent_wealth.xs(19, level=\"Step\")[\"Wealth\"]\n",
    "end_wealth.hist(bins=range(agent_wealth.Wealth.max()+1))"
   ]
  },
  {
   "cell_type": "code",
   "execution_count": 168,
   "metadata": {
    "collapsed": false
   },
   "outputs": [
    {
     "name": "stderr",
     "output_type": "stream",
     "text": [
      "100%|██████████| 245/245 [02:51<00:00,  1.38s/it]\n"
     ]
    }
   ],
   "source": [
    "#run 5 instantiations of the model with each number of agents, and to run each for 100 steps. We have it collect the\n",
    "#final Gini coefficient value.\n",
    "\n",
    "parameters = {\"width\": 10,\n",
    "              \"height\": 10,\n",
    "              \"N\": range(10, 500, 10)}\n",
    "\n",
    "batch_run = BatchRunner(MoneyModel,\n",
    "                        parameters,\n",
    "                        iterations=5,\n",
    "                        max_steps=100,\n",
    "                        model_reporters={\"Gini\": compute_gini})\n",
    "batch_run.run_all()"
   ]
  },
  {
   "cell_type": "code",
   "execution_count": 169,
   "metadata": {
    "collapsed": false
   },
   "outputs": [
    {
     "data": {
      "text/plain": [
       "<matplotlib.collections.PathCollection at 0x7f3370e807f0>"
      ]
     },
     "execution_count": 169,
     "metadata": {},
     "output_type": "execute_result"
    },
    {
     "data": {
      "image/png": "[encoded data removed]",
      "text/plain": [
       "<matplotlib.figure.Figure at 0x7f3396133390>"
      ]
     },
     "metadata": {},
     "output_type": "display_data"
    }
   ],
   "source": [
    "run_data = batch_run.get_model_vars_dataframe()\n",
    "run_data.head()\n",
    "plt.scatter(run_data.N, run_data.Gini)"
   ]
  },
  {
   "cell_type": "code",
   "execution_count": 170,
   "metadata": {
    "collapsed": false
   },
   "outputs": [
    {
     "name": "stdout",
     "output_type": "stream",
     "text": [
      "Interface starting at http://127.0.0.1:8522\n"
     ]
    },
    {
     "ename": "OSError",
     "evalue": "[Errno 98] Address already in use",
     "output_type": "error",
     "traceback": [
      "\u001b[1;31m---------------------------------------------------------------------------\u001b[0m",
      "\u001b[1;31mOSError\u001b[0m                                   Traceback (most recent call last)",
      "\u001b[1;32m<ipython-input-170-0181a4dabd02>\u001b[0m in \u001b[0;36m<module>\u001b[1;34m()\u001b[0m\n\u001b[0;32m      5\u001b[0m                        100, 10, 10)\n\u001b[0;32m      6\u001b[0m \u001b[0mserver\u001b[0m\u001b[1;33m.\u001b[0m\u001b[0mport\u001b[0m \u001b[1;33m=\u001b[0m \u001b[1;36m8522\u001b[0m \u001b[1;31m#8521 # The default\u001b[0m\u001b[1;33m\u001b[0m\u001b[0m\n\u001b[1;32m----> 7\u001b[1;33m \u001b[0mserver\u001b[0m\u001b[1;33m.\u001b[0m\u001b[0mlaunch\u001b[0m\u001b[1;33m(\u001b[0m\u001b[1;33m)\u001b[0m\u001b[1;33m\u001b[0m\u001b[0m\n\u001b[0m",
      "\u001b[1;32m/usr/local/lib/python3.5/dist-packages/mesa/visualization/ModularVisualization.py\u001b[0m in \u001b[0;36mlaunch\u001b[1;34m(self, port)\u001b[0m\n\u001b[0;32m    265\u001b[0m         \u001b[0murl\u001b[0m \u001b[1;33m=\u001b[0m \u001b[1;34m'http://127.0.0.1:{PORT}'\u001b[0m\u001b[1;33m.\u001b[0m\u001b[0mformat\u001b[0m\u001b[1;33m(\u001b[0m\u001b[0mPORT\u001b[0m\u001b[1;33m=\u001b[0m\u001b[0mself\u001b[0m\u001b[1;33m.\u001b[0m\u001b[0mport\u001b[0m\u001b[1;33m)\u001b[0m\u001b[1;33m\u001b[0m\u001b[0m\n\u001b[0;32m    266\u001b[0m         \u001b[0mprint\u001b[0m\u001b[1;33m(\u001b[0m\u001b[1;34m'Interface starting at {url}'\u001b[0m\u001b[1;33m.\u001b[0m\u001b[0mformat\u001b[0m\u001b[1;33m(\u001b[0m\u001b[0murl\u001b[0m\u001b[1;33m=\u001b[0m\u001b[0murl\u001b[0m\u001b[1;33m)\u001b[0m\u001b[1;33m)\u001b[0m\u001b[1;33m\u001b[0m\u001b[0m\n\u001b[1;32m--> 267\u001b[1;33m         \u001b[0mself\u001b[0m\u001b[1;33m.\u001b[0m\u001b[0mlisten\u001b[0m\u001b[1;33m(\u001b[0m\u001b[0mself\u001b[0m\u001b[1;33m.\u001b[0m\u001b[0mport\u001b[0m\u001b[1;33m)\u001b[0m\u001b[1;33m\u001b[0m\u001b[0m\n\u001b[0m\u001b[0;32m    268\u001b[0m         \u001b[0mwebbrowser\u001b[0m\u001b[1;33m.\u001b[0m\u001b[0mopen\u001b[0m\u001b[1;33m(\u001b[0m\u001b[0murl\u001b[0m\u001b[1;33m)\u001b[0m\u001b[1;33m\u001b[0m\u001b[0m\n\u001b[0;32m    269\u001b[0m         \u001b[0mtornado\u001b[0m\u001b[1;33m.\u001b[0m\u001b[0mautoreload\u001b[0m\u001b[1;33m.\u001b[0m\u001b[0mstart\u001b[0m\u001b[1;33m(\u001b[0m\u001b[1;33m)\u001b[0m\u001b[1;33m\u001b[0m\u001b[0m\n",
      "\u001b[1;32m/home/hemma/.local/lib/python3.5/site-packages/tornado/web.py\u001b[0m in \u001b[0;36mlisten\u001b[1;34m(self, port, address, **kwargs)\u001b[0m\n\u001b[0;32m   1823\u001b[0m         \u001b[1;32mfrom\u001b[0m \u001b[0mtornado\u001b[0m\u001b[1;33m.\u001b[0m\u001b[0mhttpserver\u001b[0m \u001b[1;32mimport\u001b[0m \u001b[0mHTTPServer\u001b[0m\u001b[1;33m\u001b[0m\u001b[0m\n\u001b[0;32m   1824\u001b[0m         \u001b[0mserver\u001b[0m \u001b[1;33m=\u001b[0m \u001b[0mHTTPServer\u001b[0m\u001b[1;33m(\u001b[0m\u001b[0mself\u001b[0m\u001b[1;33m,\u001b[0m \u001b[1;33m**\u001b[0m\u001b[0mkwargs\u001b[0m\u001b[1;33m)\u001b[0m\u001b[1;33m\u001b[0m\u001b[0m\n\u001b[1;32m-> 1825\u001b[1;33m         \u001b[0mserver\u001b[0m\u001b[1;33m.\u001b[0m\u001b[0mlisten\u001b[0m\u001b[1;33m(\u001b[0m\u001b[0mport\u001b[0m\u001b[1;33m,\u001b[0m \u001b[0maddress\u001b[0m\u001b[1;33m)\u001b[0m\u001b[1;33m\u001b[0m\u001b[0m\n\u001b[0m\u001b[0;32m   1826\u001b[0m         \u001b[1;32mreturn\u001b[0m \u001b[0mserver\u001b[0m\u001b[1;33m\u001b[0m\u001b[0m\n\u001b[0;32m   1827\u001b[0m \u001b[1;33m\u001b[0m\u001b[0m\n",
      "\u001b[1;32m/home/hemma/.local/lib/python3.5/site-packages/tornado/tcpserver.py\u001b[0m in \u001b[0;36mlisten\u001b[1;34m(self, port, address)\u001b[0m\n\u001b[0;32m    124\u001b[0m         \u001b[0mthe\u001b[0m\u001b[0;31m \u001b[0m\u001b[0;31m`\u001b[0m\u001b[1;33m.\u001b[0m\u001b[0mIOLoop\u001b[0m\u001b[0;31m`\u001b[0m\u001b[1;33m.\u001b[0m\u001b[1;33m\u001b[0m\u001b[0m\n\u001b[0;32m    125\u001b[0m         \"\"\"\n\u001b[1;32m--> 126\u001b[1;33m         \u001b[0msockets\u001b[0m \u001b[1;33m=\u001b[0m \u001b[0mbind_sockets\u001b[0m\u001b[1;33m(\u001b[0m\u001b[0mport\u001b[0m\u001b[1;33m,\u001b[0m \u001b[0maddress\u001b[0m\u001b[1;33m=\u001b[0m\u001b[0maddress\u001b[0m\u001b[1;33m)\u001b[0m\u001b[1;33m\u001b[0m\u001b[0m\n\u001b[0m\u001b[0;32m    127\u001b[0m         \u001b[0mself\u001b[0m\u001b[1;33m.\u001b[0m\u001b[0madd_sockets\u001b[0m\u001b[1;33m(\u001b[0m\u001b[0msockets\u001b[0m\u001b[1;33m)\u001b[0m\u001b[1;33m\u001b[0m\u001b[0m\n\u001b[0;32m    128\u001b[0m \u001b[1;33m\u001b[0m\u001b[0m\n",
      "\u001b[1;32m/home/hemma/.local/lib/python3.5/site-packages/tornado/netutil.py\u001b[0m in \u001b[0;36mbind_sockets\u001b[1;34m(port, address, family, backlog, flags, reuse_port)\u001b[0m\n\u001b[0;32m    194\u001b[0m \u001b[1;33m\u001b[0m\u001b[0m\n\u001b[0;32m    195\u001b[0m         \u001b[0msock\u001b[0m\u001b[1;33m.\u001b[0m\u001b[0msetblocking\u001b[0m\u001b[1;33m(\u001b[0m\u001b[1;36m0\u001b[0m\u001b[1;33m)\u001b[0m\u001b[1;33m\u001b[0m\u001b[0m\n\u001b[1;32m--> 196\u001b[1;33m         \u001b[0msock\u001b[0m\u001b[1;33m.\u001b[0m\u001b[0mbind\u001b[0m\u001b[1;33m(\u001b[0m\u001b[0msockaddr\u001b[0m\u001b[1;33m)\u001b[0m\u001b[1;33m\u001b[0m\u001b[0m\n\u001b[0m\u001b[0;32m    197\u001b[0m         \u001b[0mbound_port\u001b[0m \u001b[1;33m=\u001b[0m \u001b[0msock\u001b[0m\u001b[1;33m.\u001b[0m\u001b[0mgetsockname\u001b[0m\u001b[1;33m(\u001b[0m\u001b[1;33m)\u001b[0m\u001b[1;33m[\u001b[0m\u001b[1;36m1\u001b[0m\u001b[1;33m]\u001b[0m\u001b[1;33m\u001b[0m\u001b[0m\n\u001b[0;32m    198\u001b[0m         \u001b[0msock\u001b[0m\u001b[1;33m.\u001b[0m\u001b[0mlisten\u001b[0m\u001b[1;33m(\u001b[0m\u001b[0mbacklog\u001b[0m\u001b[1;33m)\u001b[0m\u001b[1;33m\u001b[0m\u001b[0m\n",
      "\u001b[1;31mOSError\u001b[0m: [Errno 98] Address already in use"
     ]
    },
    {
     "name": "stdout",
     "output_type": "stream",
     "text": [
      "{\"type\":\"get_step\",\"step\":676}\n",
      "{\"type\":\"get_step\",\"step\":677}\n",
      "{\"type\":\"get_step\",\"step\":678}\n",
      "{\"type\":\"get_step\",\"step\":679}\n",
      "{\"type\":\"get_step\",\"step\":680}\n",
      "{\"type\":\"get_step\",\"step\":681}\n",
      "{\"type\":\"get_step\",\"step\":682}\n",
      "{\"type\":\"get_step\",\"step\":683}\n",
      "{\"type\":\"get_step\",\"step\":684}\n",
      "{\"type\":\"get_step\",\"step\":685}\n",
      "{\"type\":\"get_step\",\"step\":686}\n",
      "{\"type\":\"get_step\",\"step\":687}\n",
      "{\"type\":\"get_step\",\"step\":688}\n",
      "{\"type\":\"get_step\",\"step\":689}\n",
      "{\"type\":\"get_step\",\"step\":690}\n",
      "{\"type\":\"get_step\",\"step\":691}\n",
      "{\"type\":\"get_step\",\"step\":692}\n",
      "{\"type\":\"get_step\",\"step\":693}\n",
      "{\"type\":\"get_step\",\"step\":694}\n",
      "{\"type\":\"get_step\",\"step\":695}\n",
      "{\"type\":\"get_step\",\"step\":696}\n",
      "{\"type\":\"get_step\",\"step\":697}\n",
      "{\"type\":\"get_step\",\"step\":698}\n",
      "{\"type\":\"get_step\",\"step\":699}\n",
      "{\"type\":\"get_step\",\"step\":700}\n",
      "{\"type\":\"get_step\",\"step\":701}\n",
      "{\"type\":\"get_step\",\"step\":702}\n",
      "{\"type\":\"get_step\",\"step\":703}\n",
      "{\"type\":\"get_step\",\"step\":704}\n",
      "{\"type\":\"get_step\",\"step\":705}\n",
      "{\"type\":\"get_step\",\"step\":706}\n",
      "{\"type\":\"get_step\",\"step\":707}\n",
      "{\"type\":\"get_step\",\"step\":708}\n",
      "{\"type\":\"get_step\",\"step\":709}\n",
      "{\"type\":\"get_step\",\"step\":710}\n",
      "{\"type\":\"get_step\",\"step\":711}\n",
      "{\"type\":\"get_step\",\"step\":712}\n",
      "{\"type\":\"get_step\",\"step\":713}\n",
      "{\"type\":\"get_step\",\"step\":714}\n",
      "{\"type\":\"get_step\",\"step\":715}\n",
      "{\"type\":\"get_step\",\"step\":716}\n",
      "{\"type\":\"get_step\",\"step\":717}\n",
      "{\"type\":\"get_step\",\"step\":718}\n",
      "{\"type\":\"get_step\",\"step\":719}\n",
      "{\"type\":\"get_step\",\"step\":720}\n",
      "{\"type\":\"get_step\",\"step\":721}\n",
      "{\"type\":\"get_step\",\"step\":722}\n",
      "{\"type\":\"get_step\",\"step\":723}\n",
      "{\"type\":\"get_step\",\"step\":724}\n",
      "{\"type\":\"get_step\",\"step\":725}\n",
      "{\"type\":\"get_step\",\"step\":726}\n",
      "{\"type\":\"get_step\",\"step\":727}\n",
      "{\"type\":\"get_step\",\"step\":728}\n",
      "{\"type\":\"get_step\",\"step\":729}\n",
      "{\"type\":\"get_step\",\"step\":730}\n",
      "{\"type\":\"get_step\",\"step\":731}\n",
      "{\"type\":\"get_step\",\"step\":732}\n",
      "{\"type\":\"get_step\",\"step\":733}\n",
      "{\"type\":\"get_step\",\"step\":734}\n",
      "{\"type\":\"get_step\",\"step\":735}\n",
      "{\"type\":\"get_step\",\"step\":736}\n",
      "{\"type\":\"get_step\",\"step\":737}\n",
      "{\"type\":\"get_step\",\"step\":738}\n",
      "{\"type\":\"get_step\",\"step\":739}\n",
      "{\"type\":\"get_step\",\"step\":740}\n",
      "{\"type\":\"get_step\",\"step\":741}\n",
      "{\"type\":\"get_step\",\"step\":742}\n",
      "{\"type\":\"get_step\",\"step\":743}\n",
      "{\"type\":\"get_step\",\"step\":744}\n",
      "{\"type\":\"get_step\",\"step\":745}\n",
      "{\"type\":\"get_step\",\"step\":746}\n",
      "{\"type\":\"get_step\",\"step\":747}\n",
      "{\"type\":\"get_step\",\"step\":748}\n",
      "{\"type\":\"get_step\",\"step\":749}\n",
      "{\"type\":\"get_step\",\"step\":750}\n",
      "{\"type\":\"get_step\",\"step\":751}\n",
      "{\"type\":\"get_step\",\"step\":752}\n",
      "{\"type\":\"get_step\",\"step\":753}\n",
      "{\"type\":\"get_step\",\"step\":754}\n",
      "{\"type\":\"get_step\",\"step\":755}\n",
      "{\"type\":\"get_step\",\"step\":756}\n",
      "{\"type\":\"get_step\",\"step\":757}\n",
      "{\"type\":\"get_step\",\"step\":758}\n",
      "{\"type\":\"get_step\",\"step\":759}\n",
      "{\"type\":\"get_step\",\"step\":760}\n",
      "{\"type\":\"get_step\",\"step\":761}\n",
      "{\"type\":\"get_step\",\"step\":762}\n",
      "{\"type\":\"get_step\",\"step\":763}\n",
      "{\"type\":\"get_step\",\"step\":764}\n",
      "{\"type\":\"get_step\",\"step\":765}\n",
      "{\"type\":\"get_step\",\"step\":766}\n",
      "{\"type\":\"get_step\",\"step\":767}\n",
      "{\"type\":\"get_step\",\"step\":768}\n",
      "{\"type\":\"get_step\",\"step\":769}\n",
      "{\"type\":\"get_step\",\"step\":770}\n",
      "{\"type\":\"get_step\",\"step\":771}\n",
      "{\"type\":\"get_step\",\"step\":772}\n",
      "{\"type\":\"get_step\",\"step\":773}\n",
      "{\"type\":\"get_step\",\"step\":774}\n",
      "{\"type\":\"get_step\",\"step\":775}\n",
      "{\"type\":\"get_step\",\"step\":776}\n",
      "{\"type\":\"get_step\",\"step\":777}\n",
      "{\"type\":\"get_step\",\"step\":778}\n",
      "{\"type\":\"get_step\",\"step\":779}\n",
      "{\"type\":\"get_step\",\"step\":780}\n",
      "{\"type\":\"get_step\",\"step\":781}\n",
      "{\"type\":\"get_step\",\"step\":782}\n",
      "{\"type\":\"get_step\",\"step\":783}\n",
      "{\"type\":\"get_step\",\"step\":784}\n",
      "{\"type\":\"get_step\",\"step\":785}\n",
      "{\"type\":\"get_step\",\"step\":786}\n",
      "{\"type\":\"get_step\",\"step\":787}\n",
      "{\"type\":\"get_step\",\"step\":788}\n",
      "{\"type\":\"get_step\",\"step\":789}\n",
      "{\"type\":\"get_step\",\"step\":790}\n",
      "{\"type\":\"get_step\",\"step\":791}\n",
      "{\"type\":\"get_step\",\"step\":792}\n",
      "{\"type\":\"get_step\",\"step\":793}\n",
      "{\"type\":\"get_step\",\"step\":794}\n",
      "{\"type\":\"get_step\",\"step\":795}\n",
      "{\"type\":\"get_step\",\"step\":796}\n",
      "{\"type\":\"get_step\",\"step\":797}\n",
      "{\"type\":\"get_step\",\"step\":798}\n",
      "{\"type\":\"get_step\",\"step\":799}\n",
      "{\"type\":\"get_step\",\"step\":800}\n",
      "{\"type\":\"get_step\",\"step\":801}\n",
      "{\"type\":\"get_step\",\"step\":802}\n",
      "{\"type\":\"get_step\",\"step\":803}\n",
      "{\"type\":\"get_step\",\"step\":804}\n",
      "{\"type\":\"get_step\",\"step\":805}\n",
      "{\"type\":\"get_step\",\"step\":806}\n",
      "{\"type\":\"get_step\",\"step\":807}\n",
      "{\"type\":\"get_step\",\"step\":808}\n",
      "{\"type\":\"get_step\",\"step\":809}\n",
      "{\"type\":\"get_step\",\"step\":810}\n",
      "{\"type\":\"get_step\",\"step\":811}\n",
      "{\"type\":\"get_step\",\"step\":812}\n",
      "{\"type\":\"get_step\",\"step\":813}\n",
      "{\"type\":\"get_step\",\"step\":814}\n",
      "{\"type\":\"get_step\",\"step\":815}\n",
      "{\"type\":\"get_step\",\"step\":816}\n",
      "{\"type\":\"get_step\",\"step\":817}\n",
      "{\"type\":\"get_step\",\"step\":818}\n",
      "{\"type\":\"get_step\",\"step\":819}\n",
      "{\"type\":\"get_step\",\"step\":820}\n",
      "{\"type\":\"get_step\",\"step\":821}\n",
      "{\"type\":\"get_step\",\"step\":822}\n",
      "{\"type\":\"get_step\",\"step\":823}\n",
      "{\"type\":\"get_step\",\"step\":824}\n",
      "{\"type\":\"get_step\",\"step\":825}\n",
      "{\"type\":\"get_step\",\"step\":826}\n",
      "{\"type\":\"get_step\",\"step\":827}\n",
      "{\"type\":\"get_step\",\"step\":828}\n",
      "{\"type\":\"get_step\",\"step\":829}\n",
      "{\"type\":\"get_step\",\"step\":830}\n",
      "{\"type\":\"get_step\",\"step\":831}\n",
      "{\"type\":\"get_step\",\"step\":832}\n",
      "{\"type\":\"get_step\",\"step\":833}\n",
      "{\"type\":\"get_step\",\"step\":834}\n",
      "{\"type\":\"get_step\",\"step\":835}\n",
      "{\"type\":\"get_step\",\"step\":836}\n",
      "{\"type\":\"get_step\",\"step\":837}\n",
      "{\"type\":\"get_step\",\"step\":838}\n",
      "{\"type\":\"get_step\",\"step\":839}\n",
      "{\"type\":\"get_step\",\"step\":840}\n",
      "{\"type\":\"get_step\",\"step\":841}\n",
      "{\"type\":\"get_step\",\"step\":842}\n",
      "{\"type\":\"get_step\",\"step\":843}\n",
      "{\"type\":\"get_step\",\"step\":844}\n",
      "{\"type\":\"get_step\",\"step\":845}\n",
      "{\"type\":\"get_step\",\"step\":846}\n",
      "{\"type\":\"get_step\",\"step\":847}\n",
      "{\"type\":\"get_step\",\"step\":848}\n",
      "{\"type\":\"get_step\",\"step\":849}\n",
      "{\"type\":\"get_step\",\"step\":850}\n",
      "{\"type\":\"get_step\",\"step\":851}\n",
      "{\"type\":\"get_step\",\"step\":852}\n",
      "{\"type\":\"get_step\",\"step\":853}\n",
      "{\"type\":\"get_step\",\"step\":854}\n",
      "{\"type\":\"get_step\",\"step\":855}\n",
      "{\"type\":\"get_step\",\"step\":856}\n",
      "{\"type\":\"get_step\",\"step\":857}\n",
      "{\"type\":\"get_step\",\"step\":858}\n",
      "{\"type\":\"get_step\",\"step\":859}\n",
      "{\"type\":\"get_step\",\"step\":860}\n",
      "{\"type\":\"get_step\",\"step\":861}\n",
      "{\"type\":\"get_step\",\"step\":862}\n",
      "{\"type\":\"get_step\",\"step\":863}\n",
      "{\"type\":\"get_step\",\"step\":864}\n",
      "{\"type\":\"get_step\",\"step\":865}\n",
      "{\"type\":\"get_step\",\"step\":866}\n",
      "{\"type\":\"get_step\",\"step\":867}\n",
      "{\"type\":\"get_step\",\"step\":868}\n",
      "{\"type\":\"get_step\",\"step\":869}\n",
      "{\"type\":\"get_step\",\"step\":870}\n",
      "{\"type\":\"get_step\",\"step\":871}\n",
      "{\"type\":\"get_step\",\"step\":872}\n",
      "{\"type\":\"get_step\",\"step\":873}\n",
      "{\"type\":\"get_step\",\"step\":874}\n",
      "{\"type\":\"get_step\",\"step\":875}\n",
      "{\"type\":\"get_step\",\"step\":876}\n",
      "{\"type\":\"get_step\",\"step\":877}\n",
      "{\"type\":\"get_step\",\"step\":878}\n",
      "{\"type\":\"get_step\",\"step\":879}\n",
      "{\"type\":\"get_step\",\"step\":880}\n",
      "{\"type\":\"get_step\",\"step\":881}\n",
      "{\"type\":\"get_step\",\"step\":882}\n",
      "{\"type\":\"get_step\",\"step\":883}\n",
      "{\"type\":\"get_step\",\"step\":884}\n",
      "{\"type\":\"get_step\",\"step\":885}\n",
      "{\"type\":\"get_step\",\"step\":886}\n",
      "{\"type\":\"get_step\",\"step\":887}\n",
      "{\"type\":\"get_step\",\"step\":888}\n",
      "{\"type\":\"get_step\",\"step\":889}\n",
      "{\"type\":\"get_step\",\"step\":890}\n",
      "{\"type\":\"get_step\",\"step\":891}\n",
      "{\"type\":\"get_step\",\"step\":892}\n",
      "{\"type\":\"get_step\",\"step\":893}\n",
      "{\"type\":\"get_step\",\"step\":894}\n",
      "{\"type\":\"get_step\",\"step\":895}\n",
      "{\"type\":\"get_step\",\"step\":896}\n",
      "{\"type\":\"get_step\",\"step\":897}\n",
      "{\"type\":\"get_step\",\"step\":898}\n",
      "{\"type\":\"get_step\",\"step\":899}\n",
      "{\"type\":\"get_step\",\"step\":900}\n",
      "{\"type\":\"get_step\",\"step\":901}\n",
      "{\"type\":\"get_step\",\"step\":902}\n",
      "{\"type\":\"get_step\",\"step\":903}\n",
      "{\"type\":\"get_step\",\"step\":904}\n",
      "{\"type\":\"get_step\",\"step\":905}\n",
      "{\"type\":\"get_step\",\"step\":906}\n",
      "{\"type\":\"get_step\",\"step\":907}\n",
      "{\"type\":\"get_step\",\"step\":908}\n",
      "{\"type\":\"get_step\",\"step\":909}\n",
      "{\"type\":\"get_step\",\"step\":910}\n",
      "{\"type\":\"get_step\",\"step\":911}\n",
      "{\"type\":\"get_step\",\"step\":912}\n",
      "{\"type\":\"get_step\",\"step\":913}\n",
      "{\"type\":\"get_step\",\"step\":914}\n",
      "{\"type\":\"get_step\",\"step\":915}\n",
      "{\"type\":\"get_step\",\"step\":916}\n",
      "{\"type\":\"get_step\",\"step\":917}\n",
      "{\"type\":\"get_step\",\"step\":918}\n",
      "{\"type\":\"get_step\",\"step\":919}\n",
      "{\"type\":\"get_step\",\"step\":920}\n",
      "{\"type\":\"get_step\",\"step\":921}\n",
      "{\"type\":\"get_step\",\"step\":922}\n",
      "{\"type\":\"get_step\",\"step\":923}\n",
      "{\"type\":\"get_step\",\"step\":924}\n",
      "{\"type\":\"get_step\",\"step\":925}\n",
      "{\"type\":\"get_step\",\"step\":926}\n",
      "{\"type\":\"get_step\",\"step\":927}\n",
      "{\"type\":\"get_step\",\"step\":928}\n",
      "{\"type\":\"get_step\",\"step\":929}\n",
      "{\"type\":\"get_step\",\"step\":930}\n",
      "{\"type\":\"get_step\",\"step\":931}\n",
      "{\"type\":\"get_step\",\"step\":932}\n",
      "{\"type\":\"get_step\",\"step\":933}\n",
      "{\"type\":\"get_step\",\"step\":934}\n",
      "{\"type\":\"get_step\",\"step\":935}\n",
      "{\"type\":\"get_step\",\"step\":936}\n",
      "{\"type\":\"get_step\",\"step\":937}\n",
      "{\"type\":\"get_step\",\"step\":938}\n",
      "{\"type\":\"get_step\",\"step\":939}\n",
      "{\"type\":\"get_step\",\"step\":940}\n",
      "{\"type\":\"get_step\",\"step\":941}\n",
      "{\"type\":\"get_step\",\"step\":942}\n",
      "{\"type\":\"get_step\",\"step\":943}\n",
      "{\"type\":\"get_step\",\"step\":944}\n",
      "{\"type\":\"get_step\",\"step\":945}\n",
      "{\"type\":\"get_step\",\"step\":946}\n",
      "{\"type\":\"get_step\",\"step\":947}\n",
      "{\"type\":\"get_step\",\"step\":948}\n",
      "{\"type\":\"get_step\",\"step\":949}\n",
      "{\"type\":\"get_step\",\"step\":950}\n",
      "{\"type\":\"get_step\",\"step\":951}\n",
      "{\"type\":\"get_step\",\"step\":952}\n",
      "{\"type\":\"get_step\",\"step\":953}\n",
      "{\"type\":\"get_step\",\"step\":954}\n",
      "{\"type\":\"get_step\",\"step\":955}\n",
      "{\"type\":\"get_step\",\"step\":956}\n",
      "{\"type\":\"get_step\",\"step\":957}\n",
      "{\"type\":\"get_step\",\"step\":958}\n",
      "{\"type\":\"get_step\",\"step\":959}\n",
      "{\"type\":\"get_step\",\"step\":960}\n",
      "{\"type\":\"get_step\",\"step\":961}\n",
      "{\"type\":\"get_step\",\"step\":962}\n",
      "{\"type\":\"get_step\",\"step\":963}\n",
      "{\"type\":\"get_step\",\"step\":964}\n",
      "{\"type\":\"get_step\",\"step\":965}\n",
      "{\"type\":\"get_step\",\"step\":966}\n",
      "{\"type\":\"get_step\",\"step\":967}\n",
      "{\"type\":\"get_step\",\"step\":968}\n",
      "{\"type\":\"get_step\",\"step\":969}\n",
      "{\"type\":\"get_step\",\"step\":970}\n",
      "{\"type\":\"get_step\",\"step\":971}\n",
      "{\"type\":\"get_step\",\"step\":972}\n",
      "{\"type\":\"get_step\",\"step\":973}\n",
      "{\"type\":\"get_step\",\"step\":974}\n"
     ]
    }
   ],
   "source": [
    "grid = CanvasGrid(agent_portrayal, 10, 10, 500, 500)\n",
    "server = ModularServer(MoneyModel,\n",
    "                       [grid],\n",
    "                       \"Money Model\",\n",
    "                       100, 10, 10)\n",
    "server.port = 8522 #8521 # The default\n",
    "server.launch()"
   ]
  },
  {
   "cell_type": "code",
   "execution_count": null,
   "metadata": {
    "collapsed": true
   },
   "outputs": [],
   "source": []
  },
  {
   "cell_type": "code",
   "execution_count": null,
   "metadata": {
    "collapsed": true
   },
   "outputs": [],
   "source": []
  },
  {
   "cell_type": "code",
   "execution_count": null,
   "metadata": {
    "collapsed": true
   },
   "outputs": [],
   "source": []
  }
 ],
 "metadata": {
  "kernelspec": {
   "display_name": "Python 3",
   "language": "python",
   "name": "python3"
  },
  "language_info": {
   "codemirror_mode": {
    "name": "ipython",
    "version": 3
   },
   "file_extension": ".py",
   "mimetype": "text/x-python",
   "name": "python",
   "nbconvert_exporter": "python",
   "pygments_lexer": "ipython3",
   "version": "3.5.2"
  }
 },
 "nbformat": 4,
 "nbformat_minor": 0
}
