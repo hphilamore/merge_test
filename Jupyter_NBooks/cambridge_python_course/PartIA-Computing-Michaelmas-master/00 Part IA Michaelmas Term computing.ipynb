{
 "cells": [
  {
   "cell_type": "markdown",
   "metadata": {},
   "source": [
    "# Part IA Michaelmas Term computing\n",
    "\n",
    "This is the introductory notebook for Michaelmas Term computing.\n",
    "\n",
    ">This course is completely new in 2016, so please provide feedback. \n",
    "\n",
    "> All of the learning material is online and dynamic - changes will be made as the course progresses to help you learn to compute. If something is unclear,\n",
    "if you'd like to know more about a topic, if you need more guidance with an exercise or if you want more challenging problems to work on, send me a message (<gnw20@cam.ac.uk>)."
   ]
  },
  {
   "cell_type": "markdown",
   "metadata": {},
   "source": [
    "# Introduction lecture slides\n",
    "\n",
    "Slides from the introduction lecture can be found [here](http://www.eng.cam.ac.uk/~gnw20/teaching/2016/161012-computing/)."
   ]
  },
  {
   "cell_type": "markdown",
   "metadata": {},
   "source": [
    "# Course structure\n",
    "\n",
    "Computing is best learned by doing, and seeking help when you need it. To help you develop computing skills, \n",
    "this course involves 12 self-study, interactive Jupyter notebook 'activities', with exercises at the end of each\n",
    "activity. The activity notebooks cover:\n",
    "\n",
    "1. [Variables, assignment and operator precedence](01 Variables, assignment and operator precedence.ipynb)\n",
    "1. [Control statements](02 Control statements.ipynb)\n",
    "1. [Types, type conversions and floating point arithmetic](03 Types, type conversions and floating point arithmetic.ipynb)\n",
    "1. [Functions](04 Functions.ipynb)\n",
    "1. [Library functions](05 Library functions.ipynb)\n",
    "1. [Data structures](06 Data structures.ipynb)\n",
    "1. [Numerical computation](07 Numerical computation.ipynb)\n",
    "1. [Plotting](08 Plotting.ipynb)\n",
    "1. [Error handling and testing](09 Error handling and testing.ipynb)\n",
    "1. [Algorithms](10 Algorithms.ipynb)\n",
    "1. [Complexity](11 Complexity.ipynb)\n",
    "1. [Object-oriented design](12 Object-oriented design.ipynb)\n",
    "\n",
    "The activity notebooks can be found at https://notebooks.azure.com/library/CUED-IA-Computing-Michaelmas.\n",
    "How to use and execute the notebooks, and how to develop your own notebooks is described further down.\n",
    "\n",
    "The notebooks are designed to be completed in order.\n",
    "\n",
    "- Read through a notebook, and change parts of the programs if you want to experiment with what \n",
    "  happens - this will help your understanding. \n",
    "- Complete the exercises at the end before moving onto the next activity.\n",
    "\n",
    "As you move through the activities you might need to revise some of the earlier notebooks."
   ]
  },
  {
   "cell_type": "markdown",
   "metadata": {},
   "source": [
    "# Completing exercises\n",
    "\n",
    "For each activity, you need to complete the exercises at the end of the notebook. To do this:\n",
    "\n",
    "- Create a new notebook for each Activity.\n",
    "- Use Markdown cells, and where appropriate add equations using LaTeX, to describe what your program is doing.\n",
    "- For longer exercises, break your program into multiple cells, with descriptions in Markdown before cells with code.\n",
    "\n",
    "\n",
    "## Marking sessions\n",
    "\n",
    "Marking sessions are held in the DPO at the middle and end of Term. You must sign-up for a marking slot on the course Moodle page. For the marking sessions:\n",
    "\n",
    "- You must complete *at least the exercises from the first 6 Activities by the \n",
    "  first marking session*. You may sign-off for more than 6 Activities, if you wish.\n",
    "- Activities 7-12 must be completed by your marking session at the end of Term. If you completed \n",
    "  all 12 activities at the mid-Term session you do not have to attend the end-of-Term session.\n",
    "  \n",
    "Be present in the DPO at your allocated bench at least 5 minutes before your allocated marking time.\n",
    "Have your exercise notebooks ready and open in a browser.\n",
    "\n",
    "A demonstrator will ask you selected questions on the exercise programs that you have developed.\n",
    "Receiving assistance to complete the exercises is fine (if you are having difficulty, this\n",
    "is encouraged), but you must understand what your programs are doing.\n",
    "Your exercise programs should execute without errors."
   ]
  },
  {
   "cell_type": "markdown",
   "metadata": {},
   "source": [
    "# Getting help\n",
    "\n",
    "There are two primary support mechanisms:\n",
    "\n",
    "1. *The help forum on the Moodle site.* \n",
    "   This should be the first place you look for help - at any time \n",
    "   of the day or night. Check first if your question has already\n",
    "   been asked and answered, and if not post a new question. Follow the forum guidelines \n",
    "   on how to ask a question.\n",
    "   \n",
    "2. *Scheduled support session in the DPO* (listed in the laboratory timetable). At these session you can\n",
    "   get help from a demonstrator. It is *expected* that you have attempted a problem before attending a support\n",
    "   session. The purpose of the session is to help; it is not a scheduled time for completing the exercises.   "
   ]
  },
  {
   "cell_type": "markdown",
   "metadata": {},
   "source": [
    "# Providing help\n",
    "\n",
    "Please help out by answering questions on the Moodle forum. Helping each other is encouraged - if you receive help make sure that you do understand what you have done."
   ]
  },
  {
   "cell_type": "markdown",
   "metadata": {},
   "source": [
    "# Jupyter notebooks\n",
    "\n",
    "This is a Jupyter Notebook. We will be computing using Jupyter Notebooks (http://jupyter.org/) and \n",
    "the programming language Python (https://www.python.org/).\n",
    "Jupyter Notebooks  provide an interactive environment where you can mix text, equations, programming\n",
    "and visual outputs. This is new technology that is increasingly widely used, and it is all open-source. \n",
    "You will find Jupyter Notebooks useful throughout the course."
   ]
  },
  {
   "cell_type": "markdown",
   "metadata": {},
   "source": [
    "## Using notebooks\n",
    "\n",
    "See the notebook [Using notebooks](Using notebooks.ipynb)."
   ]
  },
  {
   "cell_type": "markdown",
   "metadata": {},
   "source": [
    "## Azure notebook service\n",
    "\n",
    "We will be using the Jupyter environment hosted at https://notebooks.azure.com/. You can log in using your CRSid from  wherever you are connected to the Internet. You can use any device - all you need is a modern\n",
    "web browser."
   ]
  },
  {
   "cell_type": "markdown",
   "metadata": {},
   "source": [
    "## Python version\n",
    "\n",
    "We will be using exclusively Python 3. There are some subtle differences between Python 2 and Python 3. Bear this in mind if using a book or searching online. Most books still use Python 2 syntax."
   ]
  },
  {
   "cell_type": "markdown",
   "metadata": {},
   "source": [
    "# Other resources\n",
    "\n",
    "## Online\n",
    "\n",
    "There are many online resources for learning computing, Python, and on using Jupyter notebooks.\n",
    "A search engine is the best way to find relevant material. Remember that we are using\n",
    "Python 3 and not Python 2 - you might want to add 'python 3' to any search query.\n",
    "\n",
    "\n",
    "## Examples notebooks at the Department\n",
    "\n",
    "There are a variety of Jupyter notebooks related to other Part IA courses. Many of these\n",
    "illustrate how to do things that are not covered in this course. \n",
    "\n",
    "\n",
    "### Part IA maths\n",
    "\n",
    "A collection of notebooks covering problems from parts of the mathematics course (Paper 4):\n",
    "\n",
    "http://nbviewer.jupyter.org/github/garth-wells/IA-maths-Jupyter/\n",
    "\n",
    "\n",
    "### Other Part IA courses\n",
    "\n",
    "A collection of notebooks with computing questions in examples papers from other Part IA courses:\n",
    "\n",
    "http://nbviewer.jupyter.org/github/CambridgeEngineering/Part-IA-ExamplesPapers-Python/\n",
    "\n",
    "\n",
    "\n",
    "## Books\n",
    "\n",
    "The book list is available on Moodle.\n",
    "The book [*Programming for Computations - Python*](http://www.springer.com/gb/book/9783319324272) is short\n",
    "and freely available under an open access license."
   ]
  }
 ],
 "metadata": {
  "kernelspec": {
   "display_name": "Python 3",
   "language": "python",
   "name": "python3"
  },
  "language_info": {
   "codemirror_mode": {
    "name": "ipython",
    "version": 3
   },
   "file_extension": ".py",
   "mimetype": "text/x-python",
   "name": "python",
   "nbconvert_exporter": "python",
   "pygments_lexer": "ipython3",
   "version": "3.5.2"
  }
 },
 "nbformat": 4,
 "nbformat_minor": 1
}
